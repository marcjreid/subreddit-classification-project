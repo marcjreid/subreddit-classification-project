{
 "cells": [
  {
   "cell_type": "markdown",
   "id": "6ce84277",
   "metadata": {},
   "source": [
    "# Introduction"
   ]
  },
  {
   "cell_type": "markdown",
   "id": "b8377115",
   "metadata": {},
   "source": [
    "### Problem Statement"
   ]
  },
  {
   "cell_type": "markdown",
   "id": "86ddff73",
   "metadata": {},
   "source": [
    "Loan agreements are mostly uncategorized and having people review every contract manually limits productivity. Automating much of this process with a machine learning algorithm, companies can reduce both costs, and human error. I propose using Natural Language Processing to help review mortgage and loan contracts. It can sort them into categories depending on the language used in the contract. After it’s put into the appropriate category, the program can then pick out what parts of the contract needs to be reviewed by a person. "
   ]
  },
  {
   "cell_type": "markdown",
   "id": "8adf49e3",
   "metadata": {},
   "source": [
    "### Executive Summary"
   ]
  },
  {
   "cell_type": "markdown",
   "id": "c6ea1ad4",
   "metadata": {},
   "source": [
    "Machine Learning and Natural Language Processing is a very powerful tool for making predictions with categorical data, using text. Finding subreddits with similar fandoms and terminology barely throws off the model. Most models are above 90% accuracy. The method is very good at pick out which words and word combinations are unique to a given document. Even when words that make classification easy are removed the algoirthm used can still find patterns in the texts and score high on accuracy. This makes them useful for sorting documents in a professional setting."
   ]
  },
  {
   "cell_type": "markdown",
   "id": "1381c74e",
   "metadata": {},
   "source": [
    "### Table of Contents:\n",
    "- [Data Collection](#Data-Collection) \n",
    "- [Data Cleaning and EDA](#Data-Cleaning-and-EDA)\n",
    "- [Preprocessing and Modeling](#Preprocessing-and-Modeling)\n",
    "- [Evaluation and Conceptual Understanding](#Evaluation-and-Conceptual-Understanding)\n",
    "- [Conclusion and Reccomendations](#Conclusion-and-Reccomendations)"
   ]
  },
  {
   "cell_type": "markdown",
   "id": "4c545cf3",
   "metadata": {},
   "source": [
    "# My Analysis"
   ]
  },
  {
   "cell_type": "markdown",
   "id": "9495a685",
   "metadata": {},
   "source": [
    "### Data Collection"
   ]
  },
  {
   "cell_type": "code",
   "execution_count": 1222,
   "id": "1cc310d4",
   "metadata": {},
   "outputs": [
    {
     "name": "stderr",
     "output_type": "stream",
     "text": [
      "[nltk_data] Downloading package stopwords to\n",
      "[nltk_data]     C:\\Users\\marcj\\AppData\\Roaming\\nltk_data...\n",
      "[nltk_data]   Unzipping corpora\\stopwords.zip.\n",
      "[nltk_data] Downloading package wordnet to\n",
      "[nltk_data]     C:\\Users\\marcj\\AppData\\Roaming\\nltk_data...\n",
      "[nltk_data]   Package wordnet is already up-to-date!\n"
     ]
    }
   ],
   "source": [
    "# Module Imports\n",
    "import matplotlib.pyplot as plt\n",
    "import pandas as pd\n",
    "import numpy as np\n",
    "import seaborn as sns \n",
    "import requests\n",
    "import time\n",
    "\n",
    "\n",
    "from collections import Counter\n",
    "from sklearn.model_selection import train_test_split, cross_val_score, GridSearchCV\n",
    "from sklearn.linear_model import LogisticRegression\n",
    "from sklearn.metrics import recall_score, precision_score, f1_score, confusion_matrix, balanced_accuracy_score, ConfusionMatrixDisplay\n",
    "from sklearn.compose import make_column_transformer, make_column_selector\n",
    "from sklearn.pipeline import make_pipeline\n",
    "from sklearn.feature_extraction.text import CountVectorizer, TfidfVectorizer\n",
    "from nltk.stem import WordNetLemmatizer, PorterStemmer\n",
    "from nltk.tokenize import RegexpTokenizer\n",
    "import nltk\n",
    "nltk.download('stopwords')\n",
    "nltk.download('wordnet')\n",
    "from nltk.corpus import stopwords\n",
    "from sklearn.naive_bayes import MultinomialNB\n",
    "from sklearn.tree import DecisionTreeClassifier\n",
    "from sklearn.ensemble import BaggingClassifier, RandomForestClassifier, ExtraTreesClassifier, AdaBoostClassifier, GradientBoostingClassifier"
   ]
  },
  {
   "cell_type": "code",
   "execution_count": 1259,
   "id": "7c236a7a",
   "metadata": {},
   "outputs": [],
   "source": [
    "url = 'https://api.pushshift.io/reddit/search/submission'"
   ]
  },
  {
   "cell_type": "code",
   "execution_count": 4,
   "id": "7e6abf5b",
   "metadata": {},
   "outputs": [],
   "source": [
    "# Paramters make https request to r/anime for 100 posts\n",
    "# The before parameter is left blank to be filled in by a function later\n",
    "params1 = {\n",
    "        'subreddit' : 'anime',\n",
    "        'size' : 1000,\n",
    "        'before': None\n",
    "    \n",
    "}"
   ]
  },
  {
   "cell_type": "code",
   "execution_count": 5,
   "id": "a405e60f",
   "metadata": {},
   "outputs": [],
   "source": [
    "# Paramters make https request to r/manga for 100 posts\n",
    "\n",
    "params2 = {\n",
    "        'subreddit' : 'manga',\n",
    "        'size' : 1000,\n",
    "        'before': None\n",
    "    \n",
    "}"
   ]
  },
  {
   "cell_type": "code",
   "execution_count": 6,
   "id": "8211201e",
   "metadata": {},
   "outputs": [],
   "source": [
    "def stem_cleaner(comment):\n",
    "    # Set token & instantiate Lem/Stem\n",
    "    p_stemmer = PorterStemmer()\n",
    "    my_tokenizer = RegexpTokenizer(\"[\\w']+|\\$[\\d\\.]+\") \n",
    "\n",
    "    \n",
    "    # split string into a word list in lower case\n",
    "    words = my_tokenizer.tokenize(comment.lower())\n",
    "\n",
    "    # remove stop words from list\n",
    "    stop_word_list = stopwords.words('english')\n",
    "    no_stops = [i for i in words if i not in stop_word_list]\n",
    "\n",
    "    # Lemmatize each word in list \n",
    "    comm_stem = [p_stemmer.stem(i) for i in no_stops]\n",
    "\n",
    "    # Put words back together\n",
    "    return \" \".join(comm_stem)"
   ]
  },
  {
   "cell_type": "code",
   "execution_count": 7,
   "id": "5b8014a2",
   "metadata": {},
   "outputs": [],
   "source": [
    "# list of 10 time Epochs for 11:00 P.M to 2:00 P.M at 1 hour intervals on October, 13 2021\n",
    "# By getting posts in 1 hour increments into the past, each group of 100 posts should be different \n",
    "# based on how frequently people post on reddit\n",
    "date_list = [1634137200, \n",
    "             1634133600, \n",
    "             1634130000, \n",
    "             1634126400, \n",
    "             1634122800, \n",
    "             1634119200, \n",
    "             1634115600, \n",
    "             1634112000, \n",
    "             1634108400, \n",
    "             1634104800]"
   ]
  },
  {
   "cell_type": "code",
   "execution_count": 8,
   "id": "685df03e",
   "metadata": {},
   "outputs": [],
   "source": [
    "# Function to pull 100 posts 10 times and a create a list of Dataframes\n",
    "def The_DataframeMaker_1000(url, params):\n",
    "    # Initialize list with 10 empty values to be filled later\n",
    "    df_list = [None]*10\n",
    "    \n",
    "    for i in range(10): \n",
    "        # Https request using reddit api of subreddit given in params\n",
    "        response = requests.get(url, params)\n",
    "        # The Json file with dictionary of post data is saved\n",
    "        data = response.json()\n",
    "        # The Dataframe list variable is populated with the json data converted into a dataframe\n",
    "        df_list[i] = pd.DataFrame(data['data'])\n",
    "        # The before parameter for the get method is updated so data is pulled from 1 hour prior on each loop\n",
    "        params['before'] = date_list[i]\n",
    "        # Delay next loop for 5 seconds so not too many requests are made at once\n",
    "        time.sleep(5)\n",
    "    \n",
    "    return df_list     "
   ]
  },
  {
   "cell_type": "code",
   "execution_count": 9,
   "id": "e14a8a81",
   "metadata": {},
   "outputs": [],
   "source": [
    "# Test of function to create a list of 10 dataframes with 100 posts each from r/anime\n",
    "AnimeDataframeList = The_DataframeMaker_1000(url, params1)"
   ]
  },
  {
   "cell_type": "code",
   "execution_count": 10,
   "id": "f8e86840",
   "metadata": {},
   "outputs": [
    {
     "data": {
      "text/html": [
       "<div>\n",
       "<style scoped>\n",
       "    .dataframe tbody tr th:only-of-type {\n",
       "        vertical-align: middle;\n",
       "    }\n",
       "\n",
       "    .dataframe tbody tr th {\n",
       "        vertical-align: top;\n",
       "    }\n",
       "\n",
       "    .dataframe thead th {\n",
       "        text-align: right;\n",
       "    }\n",
       "</style>\n",
       "<table border=\"1\" class=\"dataframe\">\n",
       "  <thead>\n",
       "    <tr style=\"text-align: right;\">\n",
       "      <th></th>\n",
       "      <th>all_awardings</th>\n",
       "      <th>allow_live_comments</th>\n",
       "      <th>author</th>\n",
       "      <th>author_flair_css_class</th>\n",
       "      <th>author_flair_richtext</th>\n",
       "      <th>author_flair_text</th>\n",
       "      <th>author_flair_type</th>\n",
       "      <th>author_fullname</th>\n",
       "      <th>author_is_blocked</th>\n",
       "      <th>author_patreon_flair</th>\n",
       "      <th>...</th>\n",
       "      <th>preview</th>\n",
       "      <th>secure_media</th>\n",
       "      <th>secure_media_embed</th>\n",
       "      <th>thumbnail_height</th>\n",
       "      <th>thumbnail_width</th>\n",
       "      <th>url_overridden_by_dest</th>\n",
       "      <th>media_metadata</th>\n",
       "      <th>removed_by_category</th>\n",
       "      <th>author_flair_background_color</th>\n",
       "      <th>author_flair_text_color</th>\n",
       "    </tr>\n",
       "  </thead>\n",
       "  <tbody>\n",
       "    <tr>\n",
       "      <th>0</th>\n",
       "      <td>[]</td>\n",
       "      <td>False</td>\n",
       "      <td>AutoLovepon</td>\n",
       "      <td>None</td>\n",
       "      <td>[]</td>\n",
       "      <td>None</td>\n",
       "      <td>text</td>\n",
       "      <td>t2_1jzq3sy</td>\n",
       "      <td>False</td>\n",
       "      <td>False</td>\n",
       "      <td>...</td>\n",
       "      <td>NaN</td>\n",
       "      <td>NaN</td>\n",
       "      <td>NaN</td>\n",
       "      <td>NaN</td>\n",
       "      <td>NaN</td>\n",
       "      <td>NaN</td>\n",
       "      <td>NaN</td>\n",
       "      <td>NaN</td>\n",
       "      <td>NaN</td>\n",
       "      <td>NaN</td>\n",
       "    </tr>\n",
       "    <tr>\n",
       "      <th>1</th>\n",
       "      <td>[]</td>\n",
       "      <td>False</td>\n",
       "      <td>Locke349</td>\n",
       "      <td>None</td>\n",
       "      <td>[]</td>\n",
       "      <td>None</td>\n",
       "      <td>text</td>\n",
       "      <td>t2_942t6mn4</td>\n",
       "      <td>False</td>\n",
       "      <td>False</td>\n",
       "      <td>...</td>\n",
       "      <td>{'enabled': False, 'images': [{'id': 'U6qFPAmD...</td>\n",
       "      <td>{'oembed': {'author_name': 'Locke Piano', 'aut...</td>\n",
       "      <td>{'content': '&amp;lt;iframe width=\"356\" height=\"20...</td>\n",
       "      <td>105.0</td>\n",
       "      <td>140.0</td>\n",
       "      <td>https://youtu.be/4NKiU0gENfk</td>\n",
       "      <td>NaN</td>\n",
       "      <td>NaN</td>\n",
       "      <td>NaN</td>\n",
       "      <td>NaN</td>\n",
       "    </tr>\n",
       "    <tr>\n",
       "      <th>2</th>\n",
       "      <td>[]</td>\n",
       "      <td>False</td>\n",
       "      <td>animemux</td>\n",
       "      <td>None</td>\n",
       "      <td>[]</td>\n",
       "      <td>None</td>\n",
       "      <td>text</td>\n",
       "      <td>t2_8no7a1qr</td>\n",
       "      <td>False</td>\n",
       "      <td>False</td>\n",
       "      <td>...</td>\n",
       "      <td>{'enabled': False, 'images': [{'id': 'xLpMT0GO...</td>\n",
       "      <td>NaN</td>\n",
       "      <td>NaN</td>\n",
       "      <td>78.0</td>\n",
       "      <td>140.0</td>\n",
       "      <td>https://www.animemux.com/2021/10/anime%20chara...</td>\n",
       "      <td>NaN</td>\n",
       "      <td>NaN</td>\n",
       "      <td>NaN</td>\n",
       "      <td>NaN</td>\n",
       "    </tr>\n",
       "    <tr>\n",
       "      <th>3</th>\n",
       "      <td>[]</td>\n",
       "      <td>False</td>\n",
       "      <td>AriiXion</td>\n",
       "      <td>None</td>\n",
       "      <td>[]</td>\n",
       "      <td>None</td>\n",
       "      <td>text</td>\n",
       "      <td>t2_8n8ksjno</td>\n",
       "      <td>False</td>\n",
       "      <td>False</td>\n",
       "      <td>...</td>\n",
       "      <td>{'enabled': False, 'images': [{'id': 'KM4hF0yT...</td>\n",
       "      <td>{'oembed': {'author_name': 'Brian Loh', 'autho...</td>\n",
       "      <td>{'content': '&amp;lt;iframe width=\"356\" height=\"20...</td>\n",
       "      <td>105.0</td>\n",
       "      <td>140.0</td>\n",
       "      <td>https://youtu.be/tAzq6RJKudQ</td>\n",
       "      <td>NaN</td>\n",
       "      <td>NaN</td>\n",
       "      <td>NaN</td>\n",
       "      <td>NaN</td>\n",
       "    </tr>\n",
       "    <tr>\n",
       "      <th>4</th>\n",
       "      <td>[]</td>\n",
       "      <td>False</td>\n",
       "      <td>Arsenio1991</td>\n",
       "      <td>None</td>\n",
       "      <td>[]</td>\n",
       "      <td>None</td>\n",
       "      <td>text</td>\n",
       "      <td>t2_y7if2</td>\n",
       "      <td>False</td>\n",
       "      <td>False</td>\n",
       "      <td>...</td>\n",
       "      <td>NaN</td>\n",
       "      <td>NaN</td>\n",
       "      <td>NaN</td>\n",
       "      <td>NaN</td>\n",
       "      <td>NaN</td>\n",
       "      <td>NaN</td>\n",
       "      <td>NaN</td>\n",
       "      <td>NaN</td>\n",
       "      <td>NaN</td>\n",
       "      <td>NaN</td>\n",
       "    </tr>\n",
       "    <tr>\n",
       "      <th>...</th>\n",
       "      <td>...</td>\n",
       "      <td>...</td>\n",
       "      <td>...</td>\n",
       "      <td>...</td>\n",
       "      <td>...</td>\n",
       "      <td>...</td>\n",
       "      <td>...</td>\n",
       "      <td>...</td>\n",
       "      <td>...</td>\n",
       "      <td>...</td>\n",
       "      <td>...</td>\n",
       "      <td>...</td>\n",
       "      <td>...</td>\n",
       "      <td>...</td>\n",
       "      <td>...</td>\n",
       "      <td>...</td>\n",
       "      <td>...</td>\n",
       "      <td>...</td>\n",
       "      <td>...</td>\n",
       "      <td>...</td>\n",
       "      <td>...</td>\n",
       "    </tr>\n",
       "    <tr>\n",
       "      <th>95</th>\n",
       "      <td>[]</td>\n",
       "      <td>False</td>\n",
       "      <td>Acrillo</td>\n",
       "      <td>None</td>\n",
       "      <td>[]</td>\n",
       "      <td>None</td>\n",
       "      <td>text</td>\n",
       "      <td>t2_1xfhtmne</td>\n",
       "      <td>False</td>\n",
       "      <td>False</td>\n",
       "      <td>...</td>\n",
       "      <td>{'enabled': True, 'images': [{'id': 'k0rvoFLp-...</td>\n",
       "      <td>NaN</td>\n",
       "      <td>NaN</td>\n",
       "      <td>140.0</td>\n",
       "      <td>140.0</td>\n",
       "      <td>https://i.redd.it/wjg6vgxt2zt71.jpg</td>\n",
       "      <td>NaN</td>\n",
       "      <td>NaN</td>\n",
       "      <td>NaN</td>\n",
       "      <td>NaN</td>\n",
       "    </tr>\n",
       "    <tr>\n",
       "      <th>96</th>\n",
       "      <td>[]</td>\n",
       "      <td>False</td>\n",
       "      <td>Acrillo</td>\n",
       "      <td>None</td>\n",
       "      <td>[]</td>\n",
       "      <td>None</td>\n",
       "      <td>text</td>\n",
       "      <td>t2_1xfhtmne</td>\n",
       "      <td>False</td>\n",
       "      <td>False</td>\n",
       "      <td>...</td>\n",
       "      <td>{'enabled': True, 'images': [{'id': '3ZAWe4-5h...</td>\n",
       "      <td>NaN</td>\n",
       "      <td>NaN</td>\n",
       "      <td>140.0</td>\n",
       "      <td>140.0</td>\n",
       "      <td>https://i.redd.it/a06a7dud2zt71.jpg</td>\n",
       "      <td>NaN</td>\n",
       "      <td>NaN</td>\n",
       "      <td>NaN</td>\n",
       "      <td>NaN</td>\n",
       "    </tr>\n",
       "    <tr>\n",
       "      <th>97</th>\n",
       "      <td>[]</td>\n",
       "      <td>False</td>\n",
       "      <td>eddyto</td>\n",
       "      <td>None</td>\n",
       "      <td>[]</td>\n",
       "      <td>None</td>\n",
       "      <td>text</td>\n",
       "      <td>t2_114la9</td>\n",
       "      <td>False</td>\n",
       "      <td>False</td>\n",
       "      <td>...</td>\n",
       "      <td>NaN</td>\n",
       "      <td>NaN</td>\n",
       "      <td>NaN</td>\n",
       "      <td>NaN</td>\n",
       "      <td>NaN</td>\n",
       "      <td>NaN</td>\n",
       "      <td>NaN</td>\n",
       "      <td>NaN</td>\n",
       "      <td>NaN</td>\n",
       "      <td>NaN</td>\n",
       "    </tr>\n",
       "    <tr>\n",
       "      <th>98</th>\n",
       "      <td>[]</td>\n",
       "      <td>False</td>\n",
       "      <td>Acrillo</td>\n",
       "      <td>None</td>\n",
       "      <td>[]</td>\n",
       "      <td>None</td>\n",
       "      <td>text</td>\n",
       "      <td>t2_1xfhtmne</td>\n",
       "      <td>False</td>\n",
       "      <td>False</td>\n",
       "      <td>...</td>\n",
       "      <td>{'enabled': True, 'images': [{'id': '3wFJhLxjm...</td>\n",
       "      <td>NaN</td>\n",
       "      <td>NaN</td>\n",
       "      <td>140.0</td>\n",
       "      <td>140.0</td>\n",
       "      <td>https://i.redd.it/wdqs0m451zt71.jpg</td>\n",
       "      <td>NaN</td>\n",
       "      <td>NaN</td>\n",
       "      <td>NaN</td>\n",
       "      <td>NaN</td>\n",
       "    </tr>\n",
       "    <tr>\n",
       "      <th>99</th>\n",
       "      <td>[]</td>\n",
       "      <td>False</td>\n",
       "      <td>DisarmedCulty</td>\n",
       "      <td>None</td>\n",
       "      <td>[]</td>\n",
       "      <td>None</td>\n",
       "      <td>text</td>\n",
       "      <td>t2_7e0jpwwt</td>\n",
       "      <td>False</td>\n",
       "      <td>False</td>\n",
       "      <td>...</td>\n",
       "      <td>NaN</td>\n",
       "      <td>NaN</td>\n",
       "      <td>NaN</td>\n",
       "      <td>NaN</td>\n",
       "      <td>NaN</td>\n",
       "      <td>NaN</td>\n",
       "      <td>NaN</td>\n",
       "      <td>moderator</td>\n",
       "      <td>NaN</td>\n",
       "      <td>NaN</td>\n",
       "    </tr>\n",
       "  </tbody>\n",
       "</table>\n",
       "<p>100 rows × 76 columns</p>\n",
       "</div>"
      ],
      "text/plain": [
       "   all_awardings  allow_live_comments         author author_flair_css_class  \\\n",
       "0             []                False    AutoLovepon                   None   \n",
       "1             []                False       Locke349                   None   \n",
       "2             []                False       animemux                   None   \n",
       "3             []                False       AriiXion                   None   \n",
       "4             []                False    Arsenio1991                   None   \n",
       "..           ...                  ...            ...                    ...   \n",
       "95            []                False        Acrillo                   None   \n",
       "96            []                False        Acrillo                   None   \n",
       "97            []                False         eddyto                   None   \n",
       "98            []                False        Acrillo                   None   \n",
       "99            []                False  DisarmedCulty                   None   \n",
       "\n",
       "   author_flair_richtext author_flair_text author_flair_type author_fullname  \\\n",
       "0                     []              None              text      t2_1jzq3sy   \n",
       "1                     []              None              text     t2_942t6mn4   \n",
       "2                     []              None              text     t2_8no7a1qr   \n",
       "3                     []              None              text     t2_8n8ksjno   \n",
       "4                     []              None              text        t2_y7if2   \n",
       "..                   ...               ...               ...             ...   \n",
       "95                    []              None              text     t2_1xfhtmne   \n",
       "96                    []              None              text     t2_1xfhtmne   \n",
       "97                    []              None              text       t2_114la9   \n",
       "98                    []              None              text     t2_1xfhtmne   \n",
       "99                    []              None              text     t2_7e0jpwwt   \n",
       "\n",
       "    author_is_blocked  author_patreon_flair  ...  \\\n",
       "0               False                 False  ...   \n",
       "1               False                 False  ...   \n",
       "2               False                 False  ...   \n",
       "3               False                 False  ...   \n",
       "4               False                 False  ...   \n",
       "..                ...                   ...  ...   \n",
       "95              False                 False  ...   \n",
       "96              False                 False  ...   \n",
       "97              False                 False  ...   \n",
       "98              False                 False  ...   \n",
       "99              False                 False  ...   \n",
       "\n",
       "                                              preview  \\\n",
       "0                                                 NaN   \n",
       "1   {'enabled': False, 'images': [{'id': 'U6qFPAmD...   \n",
       "2   {'enabled': False, 'images': [{'id': 'xLpMT0GO...   \n",
       "3   {'enabled': False, 'images': [{'id': 'KM4hF0yT...   \n",
       "4                                                 NaN   \n",
       "..                                                ...   \n",
       "95  {'enabled': True, 'images': [{'id': 'k0rvoFLp-...   \n",
       "96  {'enabled': True, 'images': [{'id': '3ZAWe4-5h...   \n",
       "97                                                NaN   \n",
       "98  {'enabled': True, 'images': [{'id': '3wFJhLxjm...   \n",
       "99                                                NaN   \n",
       "\n",
       "                                         secure_media  \\\n",
       "0                                                 NaN   \n",
       "1   {'oembed': {'author_name': 'Locke Piano', 'aut...   \n",
       "2                                                 NaN   \n",
       "3   {'oembed': {'author_name': 'Brian Loh', 'autho...   \n",
       "4                                                 NaN   \n",
       "..                                                ...   \n",
       "95                                                NaN   \n",
       "96                                                NaN   \n",
       "97                                                NaN   \n",
       "98                                                NaN   \n",
       "99                                                NaN   \n",
       "\n",
       "                                   secure_media_embed thumbnail_height  \\\n",
       "0                                                 NaN              NaN   \n",
       "1   {'content': '&lt;iframe width=\"356\" height=\"20...            105.0   \n",
       "2                                                 NaN             78.0   \n",
       "3   {'content': '&lt;iframe width=\"356\" height=\"20...            105.0   \n",
       "4                                                 NaN              NaN   \n",
       "..                                                ...              ...   \n",
       "95                                                NaN            140.0   \n",
       "96                                                NaN            140.0   \n",
       "97                                                NaN              NaN   \n",
       "98                                                NaN            140.0   \n",
       "99                                                NaN              NaN   \n",
       "\n",
       "    thumbnail_width                             url_overridden_by_dest  \\\n",
       "0               NaN                                                NaN   \n",
       "1             140.0                       https://youtu.be/4NKiU0gENfk   \n",
       "2             140.0  https://www.animemux.com/2021/10/anime%20chara...   \n",
       "3             140.0                       https://youtu.be/tAzq6RJKudQ   \n",
       "4               NaN                                                NaN   \n",
       "..              ...                                                ...   \n",
       "95            140.0                https://i.redd.it/wjg6vgxt2zt71.jpg   \n",
       "96            140.0                https://i.redd.it/a06a7dud2zt71.jpg   \n",
       "97              NaN                                                NaN   \n",
       "98            140.0                https://i.redd.it/wdqs0m451zt71.jpg   \n",
       "99              NaN                                                NaN   \n",
       "\n",
       "   media_metadata removed_by_category author_flair_background_color  \\\n",
       "0             NaN                 NaN                           NaN   \n",
       "1             NaN                 NaN                           NaN   \n",
       "2             NaN                 NaN                           NaN   \n",
       "3             NaN                 NaN                           NaN   \n",
       "4             NaN                 NaN                           NaN   \n",
       "..            ...                 ...                           ...   \n",
       "95            NaN                 NaN                           NaN   \n",
       "96            NaN                 NaN                           NaN   \n",
       "97            NaN                 NaN                           NaN   \n",
       "98            NaN                 NaN                           NaN   \n",
       "99            NaN           moderator                           NaN   \n",
       "\n",
       "   author_flair_text_color  \n",
       "0                      NaN  \n",
       "1                      NaN  \n",
       "2                      NaN  \n",
       "3                      NaN  \n",
       "4                      NaN  \n",
       "..                     ...  \n",
       "95                     NaN  \n",
       "96                     NaN  \n",
       "97                     NaN  \n",
       "98                     NaN  \n",
       "99                     NaN  \n",
       "\n",
       "[100 rows x 76 columns]"
      ]
     },
     "execution_count": 10,
     "metadata": {},
     "output_type": "execute_result"
    }
   ],
   "source": [
    "# 1st dataframe on list\n",
    "# each dataframe has information regarding how and when the author posted with 100 posts\n",
    "AnimeDataframeList[0]"
   ]
  },
  {
   "cell_type": "code",
   "execution_count": 11,
   "id": "081a7fc6",
   "metadata": {},
   "outputs": [
    {
     "data": {
      "text/html": [
       "<div>\n",
       "<style scoped>\n",
       "    .dataframe tbody tr th:only-of-type {\n",
       "        vertical-align: middle;\n",
       "    }\n",
       "\n",
       "    .dataframe tbody tr th {\n",
       "        vertical-align: top;\n",
       "    }\n",
       "\n",
       "    .dataframe thead th {\n",
       "        text-align: right;\n",
       "    }\n",
       "</style>\n",
       "<table border=\"1\" class=\"dataframe\">\n",
       "  <thead>\n",
       "    <tr style=\"text-align: right;\">\n",
       "      <th></th>\n",
       "      <th>index</th>\n",
       "      <th>all_awardings</th>\n",
       "      <th>allow_live_comments</th>\n",
       "      <th>author</th>\n",
       "      <th>author_flair_css_class</th>\n",
       "      <th>author_flair_richtext</th>\n",
       "      <th>author_flair_text</th>\n",
       "      <th>author_flair_type</th>\n",
       "      <th>author_fullname</th>\n",
       "      <th>author_is_blocked</th>\n",
       "      <th>...</th>\n",
       "      <th>secure_media</th>\n",
       "      <th>secure_media_embed</th>\n",
       "      <th>thumbnail_height</th>\n",
       "      <th>thumbnail_width</th>\n",
       "      <th>url_overridden_by_dest</th>\n",
       "      <th>media_metadata</th>\n",
       "      <th>removed_by_category</th>\n",
       "      <th>author_flair_background_color</th>\n",
       "      <th>author_flair_text_color</th>\n",
       "      <th>author_flair_template_id</th>\n",
       "    </tr>\n",
       "  </thead>\n",
       "  <tbody>\n",
       "    <tr>\n",
       "      <th>0</th>\n",
       "      <td>0</td>\n",
       "      <td>[]</td>\n",
       "      <td>False</td>\n",
       "      <td>AutoLovepon</td>\n",
       "      <td>None</td>\n",
       "      <td>[]</td>\n",
       "      <td>None</td>\n",
       "      <td>text</td>\n",
       "      <td>t2_1jzq3sy</td>\n",
       "      <td>False</td>\n",
       "      <td>...</td>\n",
       "      <td>NaN</td>\n",
       "      <td>NaN</td>\n",
       "      <td>NaN</td>\n",
       "      <td>NaN</td>\n",
       "      <td>NaN</td>\n",
       "      <td>NaN</td>\n",
       "      <td>NaN</td>\n",
       "      <td>NaN</td>\n",
       "      <td>NaN</td>\n",
       "      <td>NaN</td>\n",
       "    </tr>\n",
       "    <tr>\n",
       "      <th>1</th>\n",
       "      <td>1</td>\n",
       "      <td>[]</td>\n",
       "      <td>False</td>\n",
       "      <td>Locke349</td>\n",
       "      <td>None</td>\n",
       "      <td>[]</td>\n",
       "      <td>None</td>\n",
       "      <td>text</td>\n",
       "      <td>t2_942t6mn4</td>\n",
       "      <td>False</td>\n",
       "      <td>...</td>\n",
       "      <td>{'oembed': {'author_name': 'Locke Piano', 'aut...</td>\n",
       "      <td>{'content': '&amp;lt;iframe width=\"356\" height=\"20...</td>\n",
       "      <td>105.0</td>\n",
       "      <td>140.0</td>\n",
       "      <td>https://youtu.be/4NKiU0gENfk</td>\n",
       "      <td>NaN</td>\n",
       "      <td>NaN</td>\n",
       "      <td>NaN</td>\n",
       "      <td>NaN</td>\n",
       "      <td>NaN</td>\n",
       "    </tr>\n",
       "    <tr>\n",
       "      <th>2</th>\n",
       "      <td>2</td>\n",
       "      <td>[]</td>\n",
       "      <td>False</td>\n",
       "      <td>animemux</td>\n",
       "      <td>None</td>\n",
       "      <td>[]</td>\n",
       "      <td>None</td>\n",
       "      <td>text</td>\n",
       "      <td>t2_8no7a1qr</td>\n",
       "      <td>False</td>\n",
       "      <td>...</td>\n",
       "      <td>NaN</td>\n",
       "      <td>NaN</td>\n",
       "      <td>78.0</td>\n",
       "      <td>140.0</td>\n",
       "      <td>https://www.animemux.com/2021/10/anime%20chara...</td>\n",
       "      <td>NaN</td>\n",
       "      <td>NaN</td>\n",
       "      <td>NaN</td>\n",
       "      <td>NaN</td>\n",
       "      <td>NaN</td>\n",
       "    </tr>\n",
       "    <tr>\n",
       "      <th>3</th>\n",
       "      <td>3</td>\n",
       "      <td>[]</td>\n",
       "      <td>False</td>\n",
       "      <td>AriiXion</td>\n",
       "      <td>None</td>\n",
       "      <td>[]</td>\n",
       "      <td>None</td>\n",
       "      <td>text</td>\n",
       "      <td>t2_8n8ksjno</td>\n",
       "      <td>False</td>\n",
       "      <td>...</td>\n",
       "      <td>{'oembed': {'author_name': 'Brian Loh', 'autho...</td>\n",
       "      <td>{'content': '&amp;lt;iframe width=\"356\" height=\"20...</td>\n",
       "      <td>105.0</td>\n",
       "      <td>140.0</td>\n",
       "      <td>https://youtu.be/tAzq6RJKudQ</td>\n",
       "      <td>NaN</td>\n",
       "      <td>NaN</td>\n",
       "      <td>NaN</td>\n",
       "      <td>NaN</td>\n",
       "      <td>NaN</td>\n",
       "    </tr>\n",
       "    <tr>\n",
       "      <th>4</th>\n",
       "      <td>4</td>\n",
       "      <td>[]</td>\n",
       "      <td>False</td>\n",
       "      <td>Arsenio1991</td>\n",
       "      <td>None</td>\n",
       "      <td>[]</td>\n",
       "      <td>None</td>\n",
       "      <td>text</td>\n",
       "      <td>t2_y7if2</td>\n",
       "      <td>False</td>\n",
       "      <td>...</td>\n",
       "      <td>NaN</td>\n",
       "      <td>NaN</td>\n",
       "      <td>NaN</td>\n",
       "      <td>NaN</td>\n",
       "      <td>NaN</td>\n",
       "      <td>NaN</td>\n",
       "      <td>NaN</td>\n",
       "      <td>NaN</td>\n",
       "      <td>NaN</td>\n",
       "      <td>NaN</td>\n",
       "    </tr>\n",
       "    <tr>\n",
       "      <th>...</th>\n",
       "      <td>...</td>\n",
       "      <td>...</td>\n",
       "      <td>...</td>\n",
       "      <td>...</td>\n",
       "      <td>...</td>\n",
       "      <td>...</td>\n",
       "      <td>...</td>\n",
       "      <td>...</td>\n",
       "      <td>...</td>\n",
       "      <td>...</td>\n",
       "      <td>...</td>\n",
       "      <td>...</td>\n",
       "      <td>...</td>\n",
       "      <td>...</td>\n",
       "      <td>...</td>\n",
       "      <td>...</td>\n",
       "      <td>...</td>\n",
       "      <td>...</td>\n",
       "      <td>...</td>\n",
       "      <td>...</td>\n",
       "      <td>...</td>\n",
       "    </tr>\n",
       "    <tr>\n",
       "      <th>995</th>\n",
       "      <td>95</td>\n",
       "      <td>[]</td>\n",
       "      <td>False</td>\n",
       "      <td>kuukuni</td>\n",
       "      <td>None</td>\n",
       "      <td>[]</td>\n",
       "      <td>None</td>\n",
       "      <td>text</td>\n",
       "      <td>t2_ff37whq1</td>\n",
       "      <td>False</td>\n",
       "      <td>...</td>\n",
       "      <td>NaN</td>\n",
       "      <td>NaN</td>\n",
       "      <td>NaN</td>\n",
       "      <td>NaN</td>\n",
       "      <td>NaN</td>\n",
       "      <td>NaN</td>\n",
       "      <td>NaN</td>\n",
       "      <td>NaN</td>\n",
       "      <td>NaN</td>\n",
       "      <td>NaN</td>\n",
       "    </tr>\n",
       "    <tr>\n",
       "      <th>996</th>\n",
       "      <td>96</td>\n",
       "      <td>[]</td>\n",
       "      <td>False</td>\n",
       "      <td>iiitme</td>\n",
       "      <td>None</td>\n",
       "      <td>[]</td>\n",
       "      <td>None</td>\n",
       "      <td>text</td>\n",
       "      <td>t2_18bentkq</td>\n",
       "      <td>False</td>\n",
       "      <td>...</td>\n",
       "      <td>NaN</td>\n",
       "      <td>NaN</td>\n",
       "      <td>NaN</td>\n",
       "      <td>NaN</td>\n",
       "      <td>NaN</td>\n",
       "      <td>NaN</td>\n",
       "      <td>moderator</td>\n",
       "      <td>NaN</td>\n",
       "      <td>NaN</td>\n",
       "      <td>NaN</td>\n",
       "    </tr>\n",
       "    <tr>\n",
       "      <th>997</th>\n",
       "      <td>97</td>\n",
       "      <td>[]</td>\n",
       "      <td>False</td>\n",
       "      <td>Heiwbs</td>\n",
       "      <td>None</td>\n",
       "      <td>[]</td>\n",
       "      <td>None</td>\n",
       "      <td>text</td>\n",
       "      <td>t2_drfvz15j</td>\n",
       "      <td>False</td>\n",
       "      <td>...</td>\n",
       "      <td>NaN</td>\n",
       "      <td>NaN</td>\n",
       "      <td>NaN</td>\n",
       "      <td>NaN</td>\n",
       "      <td>NaN</td>\n",
       "      <td>NaN</td>\n",
       "      <td>NaN</td>\n",
       "      <td>NaN</td>\n",
       "      <td>NaN</td>\n",
       "      <td>NaN</td>\n",
       "    </tr>\n",
       "    <tr>\n",
       "      <th>998</th>\n",
       "      <td>98</td>\n",
       "      <td>[]</td>\n",
       "      <td>False</td>\n",
       "      <td>Bagutte_Farsi_21</td>\n",
       "      <td>None</td>\n",
       "      <td>[]</td>\n",
       "      <td>None</td>\n",
       "      <td>text</td>\n",
       "      <td>t2_4a3xeeet</td>\n",
       "      <td>False</td>\n",
       "      <td>...</td>\n",
       "      <td>NaN</td>\n",
       "      <td>NaN</td>\n",
       "      <td>NaN</td>\n",
       "      <td>NaN</td>\n",
       "      <td>NaN</td>\n",
       "      <td>NaN</td>\n",
       "      <td>moderator</td>\n",
       "      <td>NaN</td>\n",
       "      <td>NaN</td>\n",
       "      <td>NaN</td>\n",
       "    </tr>\n",
       "    <tr>\n",
       "      <th>999</th>\n",
       "      <td>99</td>\n",
       "      <td>[]</td>\n",
       "      <td>False</td>\n",
       "      <td>KamenRiderIsekai</td>\n",
       "      <td>None</td>\n",
       "      <td>[]</td>\n",
       "      <td>None</td>\n",
       "      <td>text</td>\n",
       "      <td>t2_cxzdw9tc</td>\n",
       "      <td>False</td>\n",
       "      <td>...</td>\n",
       "      <td>NaN</td>\n",
       "      <td>NaN</td>\n",
       "      <td>140.0</td>\n",
       "      <td>140.0</td>\n",
       "      <td>NaN</td>\n",
       "      <td>{'29bsx4rfh4t71': {'e': 'Image', 'id': '29bsx4...</td>\n",
       "      <td>NaN</td>\n",
       "      <td>NaN</td>\n",
       "      <td>NaN</td>\n",
       "      <td>NaN</td>\n",
       "    </tr>\n",
       "  </tbody>\n",
       "</table>\n",
       "<p>1000 rows × 78 columns</p>\n",
       "</div>"
      ],
      "text/plain": [
       "     index all_awardings  allow_live_comments            author  \\\n",
       "0        0            []                False       AutoLovepon   \n",
       "1        1            []                False          Locke349   \n",
       "2        2            []                False          animemux   \n",
       "3        3            []                False          AriiXion   \n",
       "4        4            []                False       Arsenio1991   \n",
       "..     ...           ...                  ...               ...   \n",
       "995     95            []                False           kuukuni   \n",
       "996     96            []                False            iiitme   \n",
       "997     97            []                False            Heiwbs   \n",
       "998     98            []                False  Bagutte_Farsi_21   \n",
       "999     99            []                False  KamenRiderIsekai   \n",
       "\n",
       "    author_flair_css_class author_flair_richtext author_flair_text  \\\n",
       "0                     None                    []              None   \n",
       "1                     None                    []              None   \n",
       "2                     None                    []              None   \n",
       "3                     None                    []              None   \n",
       "4                     None                    []              None   \n",
       "..                     ...                   ...               ...   \n",
       "995                   None                    []              None   \n",
       "996                   None                    []              None   \n",
       "997                   None                    []              None   \n",
       "998                   None                    []              None   \n",
       "999                   None                    []              None   \n",
       "\n",
       "    author_flair_type author_fullname  author_is_blocked  ...  \\\n",
       "0                text      t2_1jzq3sy              False  ...   \n",
       "1                text     t2_942t6mn4              False  ...   \n",
       "2                text     t2_8no7a1qr              False  ...   \n",
       "3                text     t2_8n8ksjno              False  ...   \n",
       "4                text        t2_y7if2              False  ...   \n",
       "..                ...             ...                ...  ...   \n",
       "995              text     t2_ff37whq1              False  ...   \n",
       "996              text     t2_18bentkq              False  ...   \n",
       "997              text     t2_drfvz15j              False  ...   \n",
       "998              text     t2_4a3xeeet              False  ...   \n",
       "999              text     t2_cxzdw9tc              False  ...   \n",
       "\n",
       "                                          secure_media  \\\n",
       "0                                                  NaN   \n",
       "1    {'oembed': {'author_name': 'Locke Piano', 'aut...   \n",
       "2                                                  NaN   \n",
       "3    {'oembed': {'author_name': 'Brian Loh', 'autho...   \n",
       "4                                                  NaN   \n",
       "..                                                 ...   \n",
       "995                                                NaN   \n",
       "996                                                NaN   \n",
       "997                                                NaN   \n",
       "998                                                NaN   \n",
       "999                                                NaN   \n",
       "\n",
       "                                    secure_media_embed thumbnail_height  \\\n",
       "0                                                  NaN              NaN   \n",
       "1    {'content': '&lt;iframe width=\"356\" height=\"20...            105.0   \n",
       "2                                                  NaN             78.0   \n",
       "3    {'content': '&lt;iframe width=\"356\" height=\"20...            105.0   \n",
       "4                                                  NaN              NaN   \n",
       "..                                                 ...              ...   \n",
       "995                                                NaN              NaN   \n",
       "996                                                NaN              NaN   \n",
       "997                                                NaN              NaN   \n",
       "998                                                NaN              NaN   \n",
       "999                                                NaN            140.0   \n",
       "\n",
       "     thumbnail_width                             url_overridden_by_dest  \\\n",
       "0                NaN                                                NaN   \n",
       "1              140.0                       https://youtu.be/4NKiU0gENfk   \n",
       "2              140.0  https://www.animemux.com/2021/10/anime%20chara...   \n",
       "3              140.0                       https://youtu.be/tAzq6RJKudQ   \n",
       "4                NaN                                                NaN   \n",
       "..               ...                                                ...   \n",
       "995              NaN                                                NaN   \n",
       "996              NaN                                                NaN   \n",
       "997              NaN                                                NaN   \n",
       "998              NaN                                                NaN   \n",
       "999            140.0                                                NaN   \n",
       "\n",
       "                                        media_metadata  removed_by_category  \\\n",
       "0                                                  NaN                  NaN   \n",
       "1                                                  NaN                  NaN   \n",
       "2                                                  NaN                  NaN   \n",
       "3                                                  NaN                  NaN   \n",
       "4                                                  NaN                  NaN   \n",
       "..                                                 ...                  ...   \n",
       "995                                                NaN                  NaN   \n",
       "996                                                NaN            moderator   \n",
       "997                                                NaN                  NaN   \n",
       "998                                                NaN            moderator   \n",
       "999  {'29bsx4rfh4t71': {'e': 'Image', 'id': '29bsx4...                  NaN   \n",
       "\n",
       "    author_flair_background_color author_flair_text_color  \\\n",
       "0                             NaN                     NaN   \n",
       "1                             NaN                     NaN   \n",
       "2                             NaN                     NaN   \n",
       "3                             NaN                     NaN   \n",
       "4                             NaN                     NaN   \n",
       "..                            ...                     ...   \n",
       "995                           NaN                     NaN   \n",
       "996                           NaN                     NaN   \n",
       "997                           NaN                     NaN   \n",
       "998                           NaN                     NaN   \n",
       "999                           NaN                     NaN   \n",
       "\n",
       "    author_flair_template_id  \n",
       "0                        NaN  \n",
       "1                        NaN  \n",
       "2                        NaN  \n",
       "3                        NaN  \n",
       "4                        NaN  \n",
       "..                       ...  \n",
       "995                      NaN  \n",
       "996                      NaN  \n",
       "997                      NaN  \n",
       "998                      NaN  \n",
       "999                      NaN  \n",
       "\n",
       "[1000 rows x 78 columns]"
      ]
     },
     "execution_count": 11,
     "metadata": {},
     "output_type": "execute_result"
    }
   ],
   "source": [
    "#combine all 10 dataframes into 1 dataframe 1000 with posts of data\n",
    "df_anime = pd.concat([AnimeDataframeList[i] for i in range(10)])\n",
    "# Reset index to go from 0 to 497\n",
    "df_anime.reset_index(inplace=True)\n",
    "df_anime"
   ]
  },
  {
   "cell_type": "markdown",
   "id": "39d0dc84",
   "metadata": {},
   "source": [
    "There are a lot of NaN values.\n",
    "<br> However the subreddit, selftext, and title are the most important columns and they all contain information."
   ]
  },
  {
   "cell_type": "code",
   "execution_count": 12,
   "id": "3a84f3e6",
   "metadata": {},
   "outputs": [
    {
     "data": {
      "text/html": [
       "<div>\n",
       "<style scoped>\n",
       "    .dataframe tbody tr th:only-of-type {\n",
       "        vertical-align: middle;\n",
       "    }\n",
       "\n",
       "    .dataframe tbody tr th {\n",
       "        vertical-align: top;\n",
       "    }\n",
       "\n",
       "    .dataframe thead th {\n",
       "        text-align: right;\n",
       "    }\n",
       "</style>\n",
       "<table border=\"1\" class=\"dataframe\">\n",
       "  <thead>\n",
       "    <tr style=\"text-align: right;\">\n",
       "      <th></th>\n",
       "      <th>subreddit</th>\n",
       "      <th>selftext</th>\n",
       "      <th>title</th>\n",
       "    </tr>\n",
       "  </thead>\n",
       "  <tbody>\n",
       "    <tr>\n",
       "      <th>0</th>\n",
       "      <td>anime</td>\n",
       "      <td>*Mieruko-chan*, episode 3\\n\\n\\n\\n# [Rate this ...</td>\n",
       "      <td>Mieruko-chan - Episode 3 discussion</td>\n",
       "    </tr>\n",
       "    <tr>\n",
       "      <th>1</th>\n",
       "      <td>anime</td>\n",
       "      <td></td>\n",
       "      <td>〘Its Too Late〙86 Eighty Six ~ Episode 13 Seaso...</td>\n",
       "    </tr>\n",
       "    <tr>\n",
       "      <th>2</th>\n",
       "      <td>anime</td>\n",
       "      <td></td>\n",
       "      <td>Top 10 Anime Characters That Never Lose</td>\n",
       "    </tr>\n",
       "    <tr>\n",
       "      <th>3</th>\n",
       "      <td>anime</td>\n",
       "      <td></td>\n",
       "      <td>Made a short orchestral cover of 'takt' from T...</td>\n",
       "    </tr>\n",
       "    <tr>\n",
       "      <th>4</th>\n",
       "      <td>anime</td>\n",
       "      <td>I consider myself to be a veteran when it come...</td>\n",
       "      <td>Any recommendations animes that are actually g...</td>\n",
       "    </tr>\n",
       "    <tr>\n",
       "      <th>...</th>\n",
       "      <td>...</td>\n",
       "      <td>...</td>\n",
       "      <td>...</td>\n",
       "    </tr>\n",
       "    <tr>\n",
       "      <th>995</th>\n",
       "      <td>anime</td>\n",
       "      <td>need suggestions for good anime, the last time...</td>\n",
       "      <td>suggestions because I want to feel alive again</td>\n",
       "    </tr>\n",
       "    <tr>\n",
       "      <th>996</th>\n",
       "      <td>anime</td>\n",
       "      <td>[removed]</td>\n",
       "      <td>Good romance anime’s on hulu</td>\n",
       "    </tr>\n",
       "    <tr>\n",
       "      <th>997</th>\n",
       "      <td>anime</td>\n",
       "      <td>After finishing Death Note I’m struggling to f...</td>\n",
       "      <td>I don’t know what anime to watch next.</td>\n",
       "    </tr>\n",
       "    <tr>\n",
       "      <th>998</th>\n",
       "      <td>anime</td>\n",
       "      <td>[removed]</td>\n",
       "      <td>Animes like \"You\"</td>\n",
       "    </tr>\n",
       "    <tr>\n",
       "      <th>999</th>\n",
       "      <td>anime</td>\n",
       "      <td>&amp;amp;#x200B;\\n\\n[Part 1](https://preview.redd....</td>\n",
       "      <td>These people are \"technically\" the same Age</td>\n",
       "    </tr>\n",
       "  </tbody>\n",
       "</table>\n",
       "<p>1000 rows × 3 columns</p>\n",
       "</div>"
      ],
      "text/plain": [
       "    subreddit                                           selftext  \\\n",
       "0       anime  *Mieruko-chan*, episode 3\\n\\n\\n\\n# [Rate this ...   \n",
       "1       anime                                                      \n",
       "2       anime                                                      \n",
       "3       anime                                                      \n",
       "4       anime  I consider myself to be a veteran when it come...   \n",
       "..        ...                                                ...   \n",
       "995     anime  need suggestions for good anime, the last time...   \n",
       "996     anime                                          [removed]   \n",
       "997     anime  After finishing Death Note I’m struggling to f...   \n",
       "998     anime                                          [removed]   \n",
       "999     anime  &amp;#x200B;\\n\\n[Part 1](https://preview.redd....   \n",
       "\n",
       "                                                 title  \n",
       "0                  Mieruko-chan - Episode 3 discussion  \n",
       "1    〘Its Too Late〙86 Eighty Six ~ Episode 13 Seaso...  \n",
       "2              Top 10 Anime Characters That Never Lose  \n",
       "3    Made a short orchestral cover of 'takt' from T...  \n",
       "4    Any recommendations animes that are actually g...  \n",
       "..                                                 ...  \n",
       "995     suggestions because I want to feel alive again  \n",
       "996                       Good romance anime’s on hulu  \n",
       "997             I don’t know what anime to watch next.  \n",
       "998                                  Animes like \"You\"  \n",
       "999        These people are \"technically\" the same Age  \n",
       "\n",
       "[1000 rows x 3 columns]"
      ]
     },
     "execution_count": 12,
     "metadata": {},
     "output_type": "execute_result"
    }
   ],
   "source": [
    "# The three columns to be used for my model mostly have information in them\n",
    "df_anime[['subreddit', 'selftext', 'title']]"
   ]
  },
  {
   "cell_type": "code",
   "execution_count": 13,
   "id": "adddc37b",
   "metadata": {},
   "outputs": [
    {
     "data": {
      "text/html": [
       "<div>\n",
       "<style scoped>\n",
       "    .dataframe tbody tr th:only-of-type {\n",
       "        vertical-align: middle;\n",
       "    }\n",
       "\n",
       "    .dataframe tbody tr th {\n",
       "        vertical-align: top;\n",
       "    }\n",
       "\n",
       "    .dataframe thead th {\n",
       "        text-align: right;\n",
       "    }\n",
       "</style>\n",
       "<table border=\"1\" class=\"dataframe\">\n",
       "  <thead>\n",
       "    <tr style=\"text-align: right;\">\n",
       "      <th></th>\n",
       "      <th>index</th>\n",
       "      <th>all_awardings</th>\n",
       "      <th>allow_live_comments</th>\n",
       "      <th>author</th>\n",
       "      <th>author_flair_css_class</th>\n",
       "      <th>author_flair_richtext</th>\n",
       "      <th>author_flair_text</th>\n",
       "      <th>author_flair_type</th>\n",
       "      <th>author_fullname</th>\n",
       "      <th>author_is_blocked</th>\n",
       "      <th>...</th>\n",
       "      <th>secure_media</th>\n",
       "      <th>secure_media_embed</th>\n",
       "      <th>thumbnail_height</th>\n",
       "      <th>thumbnail_width</th>\n",
       "      <th>url_overridden_by_dest</th>\n",
       "      <th>media_metadata</th>\n",
       "      <th>removed_by_category</th>\n",
       "      <th>author_flair_background_color</th>\n",
       "      <th>author_flair_text_color</th>\n",
       "      <th>author_flair_template_id</th>\n",
       "    </tr>\n",
       "  </thead>\n",
       "  <tbody>\n",
       "  </tbody>\n",
       "</table>\n",
       "<p>0 rows × 78 columns</p>\n",
       "</div>"
      ],
      "text/plain": [
       "Empty DataFrame\n",
       "Columns: [index, all_awardings, allow_live_comments, author, author_flair_css_class, author_flair_richtext, author_flair_text, author_flair_type, author_fullname, author_is_blocked, author_patreon_flair, author_premium, awarders, can_mod_post, content_categories, contest_mode, created_utc, domain, full_link, gildings, id, is_created_from_ads_ui, is_crosspostable, is_meta, is_original_content, is_reddit_media_domain, is_robot_indexable, is_self, is_video, link_flair_background_color, link_flair_css_class, link_flair_richtext, link_flair_template_id, link_flair_text, link_flair_text_color, link_flair_type, locked, media_only, no_follow, num_comments, num_crossposts, over_18, parent_whitelist_status, permalink, pinned, pwls, retrieved_on, score, selftext, send_replies, spoiler, stickied, subreddit, subreddit_id, subreddit_subscribers, subreddit_type, thumbnail, title, total_awards_received, treatment_tags, upvote_ratio, url, whitelist_status, wls, media, media_embed, post_hint, preview, secure_media, secure_media_embed, thumbnail_height, thumbnail_width, url_overridden_by_dest, media_metadata, removed_by_category, author_flair_background_color, author_flair_text_color, author_flair_template_id]\n",
       "Index: []\n",
       "\n",
       "[0 rows x 78 columns]"
      ]
     },
     "execution_count": 13,
     "metadata": {},
     "output_type": "execute_result"
    }
   ],
   "source": [
    "df_anime[df_anime['title']=='']"
   ]
  },
  {
   "cell_type": "markdown",
   "id": "09d96724",
   "metadata": {},
   "source": [
    "There is missing data in the selftext column, however the text column seems to always contain information."
   ]
  },
  {
   "cell_type": "markdown",
   "id": "cd8bab06",
   "metadata": {},
   "source": [
    "To make things easier I will use a function to create the dataframes with 1000 rows each from both r/anime and r/mange"
   ]
  },
  {
   "cell_type": "code",
   "execution_count": 14,
   "id": "d5865928",
   "metadata": {},
   "outputs": [],
   "source": [
    "# Function to take comments and collect them into an organized Dataframe\n",
    "def Dataframe_organizer_2000(url, params1, params2):\n",
    "    # A list for parameters for r/anime and r/manga\n",
    "    p_list = [params1, params2]\n",
    "    # a list to hold two dataframe lists, it is initialized with two empty slots\n",
    "    final_list = [None]*2\n",
    "    # final list is populated with two dataframe lists with 1000 rows each using previous dataframe function\n",
    "    for i in range(2):\n",
    "        final_list[i] = The_DataframeMaker_1000(url, p_list[i])\n",
    "    # the two dataframe lists are combined into 1 list with 2000 posts\n",
    "    final_list = final_list[0] + final_list[1]\n",
    "    # all rows on dataframe list are combined into one large dataframe\n",
    "    df = pd.concat([final_list[i] for i in range(len(final_list))])\n",
    "    # only the subreddit, selftext, and title columns will be used for modeling the others are dropped\n",
    "    df = df[['subreddit', 'selftext', 'title']]\n",
    "    # rows with missing data in the selftext column are dropped\n",
    "    df = df[df['selftext'] != '']\n",
    "    df = df[df['selftext'] != '[removed]']\n",
    "    df = df[df['selftext'] != '[deleted]']\n",
    "    # rows with missing data is dropped\n",
    "    df.dropna(inplace=True)\n",
    "    # index is reset to go from 0 until the last numbered row\n",
    "    df.reset_index(inplace=True)\n",
    "    df.drop(columns='index', inplace=True)\n",
    "    return df"
   ]
  },
  {
   "cell_type": "code",
   "execution_count": 19,
   "id": "ff925707",
   "metadata": {},
   "outputs": [],
   "source": [
    "# uses functions to create dataframe of 1000 rows each from the two subreddits given in the parameters\n",
    "df = Dataframe_organizer_2000(url, params1, params2)"
   ]
  },
  {
   "cell_type": "code",
   "execution_count": 18,
   "id": "0cecc0db",
   "metadata": {},
   "outputs": [],
   "source": [
    "# change target column to numeric values, 1 for anime, 0 for manga\n",
    "df['subreddit'] = np.where(df['subreddit']=='anime', 1, 0)"
   ]
  },
  {
   "cell_type": "code",
   "execution_count": 27,
   "id": "475b1656",
   "metadata": {},
   "outputs": [],
   "source": [
    "# Save dataframe to work with it later.\n",
    "# df.to_csv('./anime_manga_755.csv')"
   ]
  },
  {
   "cell_type": "code",
   "execution_count": 742,
   "id": "864087cf",
   "metadata": {},
   "outputs": [],
   "source": [
    "df = pd.read_csv('./anime_manga_755.csv')\n",
    "df.drop(columns='Unnamed: 0', inplace=True)"
   ]
  },
  {
   "cell_type": "code",
   "execution_count": 743,
   "id": "001b9e2e",
   "metadata": {},
   "outputs": [
    {
     "data": {
      "text/html": [
       "<div>\n",
       "<style scoped>\n",
       "    .dataframe tbody tr th:only-of-type {\n",
       "        vertical-align: middle;\n",
       "    }\n",
       "\n",
       "    .dataframe tbody tr th {\n",
       "        vertical-align: top;\n",
       "    }\n",
       "\n",
       "    .dataframe thead th {\n",
       "        text-align: right;\n",
       "    }\n",
       "</style>\n",
       "<table border=\"1\" class=\"dataframe\">\n",
       "  <thead>\n",
       "    <tr style=\"text-align: right;\">\n",
       "      <th></th>\n",
       "      <th>subreddit</th>\n",
       "      <th>selftext</th>\n",
       "      <th>title</th>\n",
       "    </tr>\n",
       "  </thead>\n",
       "  <tbody>\n",
       "    <tr>\n",
       "      <th>0</th>\n",
       "      <td>1</td>\n",
       "      <td>I don't know the title, but i know that the op...</td>\n",
       "      <td>Looking for an anime</td>\n",
       "    </tr>\n",
       "    <tr>\n",
       "      <th>1</th>\n",
       "      <td>1</td>\n",
       "      <td>Usually they have it on there heads but does a...</td>\n",
       "      <td>Anyone know a anime with characters with a sym...</td>\n",
       "    </tr>\n",
       "    <tr>\n",
       "      <th>2</th>\n",
       "      <td>1</td>\n",
       "      <td>Here's my Mal list for some reference.\\nhttps:...</td>\n",
       "      <td>I'm bored and am looking for some anime to wat...</td>\n",
       "    </tr>\n",
       "    <tr>\n",
       "      <th>3</th>\n",
       "      <td>1</td>\n",
       "      <td>Hey guys, a few years ago I watched a harem an...</td>\n",
       "      <td>Searching for an anime</td>\n",
       "    </tr>\n",
       "    <tr>\n",
       "      <th>4</th>\n",
       "      <td>1</td>\n",
       "      <td>Dm me or sumn in need</td>\n",
       "      <td>I need an anime site</td>\n",
       "    </tr>\n",
       "    <tr>\n",
       "      <th>...</th>\n",
       "      <td>...</td>\n",
       "      <td>...</td>\n",
       "      <td>...</td>\n",
       "    </tr>\n",
       "    <tr>\n",
       "      <th>750</th>\n",
       "      <td>0</td>\n",
       "      <td>&amp;amp;#x200B;\\n\\n[I remember it was like hashor...</td>\n",
       "      <td>What was the name of this manga again?</td>\n",
       "    </tr>\n",
       "    <tr>\n",
       "      <th>751</th>\n",
       "      <td>0</td>\n",
       "      <td>Looking for another manga to read and oregairu...</td>\n",
       "      <td>Romcom manga with a love triangle like oregairu?</td>\n",
       "    </tr>\n",
       "    <tr>\n",
       "      <th>752</th>\n",
       "      <td>0</td>\n",
       "      <td>Are there any manga where the mc has a girl or...</td>\n",
       "      <td>need manga suggestions like this</td>\n",
       "    </tr>\n",
       "    <tr>\n",
       "      <th>753</th>\n",
       "      <td>0</td>\n",
       "      <td>Third time posting this first two didn’t get a...</td>\n",
       "      <td>Can you help me find this manga that I only kn...</td>\n",
       "    </tr>\n",
       "    <tr>\n",
       "      <th>754</th>\n",
       "      <td>0</td>\n",
       "      <td>I read it long time ago and can’t remember the...</td>\n",
       "      <td>Can’t find this old ass manga about a killer E...</td>\n",
       "    </tr>\n",
       "  </tbody>\n",
       "</table>\n",
       "<p>755 rows × 3 columns</p>\n",
       "</div>"
      ],
      "text/plain": [
       "     subreddit                                           selftext  \\\n",
       "0            1  I don't know the title, but i know that the op...   \n",
       "1            1  Usually they have it on there heads but does a...   \n",
       "2            1  Here's my Mal list for some reference.\\nhttps:...   \n",
       "3            1  Hey guys, a few years ago I watched a harem an...   \n",
       "4            1                              Dm me or sumn in need   \n",
       "..         ...                                                ...   \n",
       "750          0  &amp;#x200B;\\n\\n[I remember it was like hashor...   \n",
       "751          0  Looking for another manga to read and oregairu...   \n",
       "752          0  Are there any manga where the mc has a girl or...   \n",
       "753          0  Third time posting this first two didn’t get a...   \n",
       "754          0  I read it long time ago and can’t remember the...   \n",
       "\n",
       "                                                 title  \n",
       "0                                 Looking for an anime  \n",
       "1    Anyone know a anime with characters with a sym...  \n",
       "2    I'm bored and am looking for some anime to wat...  \n",
       "3                               Searching for an anime  \n",
       "4                                 I need an anime site  \n",
       "..                                                 ...  \n",
       "750             What was the name of this manga again?  \n",
       "751   Romcom manga with a love triangle like oregairu?  \n",
       "752                   need manga suggestions like this  \n",
       "753  Can you help me find this manga that I only kn...  \n",
       "754  Can’t find this old ass manga about a killer E...  \n",
       "\n",
       "[755 rows x 3 columns]"
      ]
     },
     "execution_count": 743,
     "metadata": {},
     "output_type": "execute_result"
    }
   ],
   "source": [
    "df"
   ]
  },
  {
   "cell_type": "markdown",
   "id": "32affde8",
   "metadata": {},
   "source": [
    "The dataframe has far less than 2000 rows, because of all the missing data in selftext which was removed. <br>\n",
    "Otherwsise the dataframe has the information expected so I will start cleaning and preparing for modeling."
   ]
  },
  {
   "cell_type": "markdown",
   "id": "d1a696d3",
   "metadata": {},
   "source": [
    "### Data Cleaning and EDA"
   ]
  },
  {
   "cell_type": "code",
   "execution_count": 55,
   "id": "3704e80f",
   "metadata": {},
   "outputs": [
    {
     "name": "stdout",
     "output_type": "stream",
     "text": [
      "<class 'pandas.core.frame.DataFrame'>\n",
      "RangeIndex: 755 entries, 0 to 754\n",
      "Data columns (total 3 columns):\n",
      " #   Column     Non-Null Count  Dtype \n",
      "---  ------     --------------  ----- \n",
      " 0   subreddit  755 non-null    int64 \n",
      " 1   selftext   755 non-null    object\n",
      " 2   title      755 non-null    object\n",
      "dtypes: int64(1), object(2)\n",
      "memory usage: 17.8+ KB\n"
     ]
    }
   ],
   "source": [
    "# No missing data as the function has removed it.\n",
    "df.info()"
   ]
  },
  {
   "cell_type": "code",
   "execution_count": 734,
   "id": "77d6a0eb",
   "metadata": {},
   "outputs": [
    {
     "data": {
      "text/plain": [
       "270.8373786407767"
      ]
     },
     "execution_count": 734,
     "metadata": {},
     "output_type": "execute_result"
    }
   ],
   "source": [
    "# Average of anime message lengths\n",
    "df.iloc[0:412,:]['selftext'].map(len).mean()"
   ]
  },
  {
   "cell_type": "code",
   "execution_count": 735,
   "id": "5a9f7839",
   "metadata": {},
   "outputs": [
    {
     "data": {
      "text/plain": [
       "373.5953079178886"
      ]
     },
     "execution_count": 735,
     "metadata": {},
     "output_type": "execute_result"
    }
   ],
   "source": [
    "df.iloc[413:754,:]['selftext'].map(len).mean()"
   ]
  },
  {
   "cell_type": "code",
   "execution_count": 736,
   "id": "949ccdcc",
   "metadata": {},
   "outputs": [
    {
     "data": {
      "image/png": "[encoded data removed]",
      "text/plain": [
       "<Figure size 432x288 with 1 Axes>"
      ]
     },
     "metadata": {
      "needs_background": "light"
     },
     "output_type": "display_data"
    }
   ],
   "source": [
    "# distribution of post lenth for r/anime\n",
    "plt.hist(df.iloc[0:412,:]['selftext'].map(len));"
   ]
  },
  {
   "cell_type": "code",
   "execution_count": 737,
   "id": "21232200",
   "metadata": {},
   "outputs": [
    {
     "data": {
      "image/png": "[encoded data removed]",
      "text/plain": [
       "<Figure size 432x288 with 1 Axes>"
      ]
     },
     "metadata": {
      "needs_background": "light"
     },
     "output_type": "display_data"
    }
   ],
   "source": [
    "# distribution of post lenth for r/manga\n",
    "plt.hist(df.iloc[413:754,:]['selftext'].map(len));"
   ]
  },
  {
   "cell_type": "markdown",
   "id": "a24603a9",
   "metadata": {},
   "source": [
    "The dataframe is ready for Preprocessing"
   ]
  },
  {
   "cell_type": "markdown",
   "id": "a4e51204",
   "metadata": {},
   "source": [
    "### Preprocessing and Modeling"
   ]
  },
  {
   "cell_type": "markdown",
   "id": "3e2f1457",
   "metadata": {},
   "source": [
    "#### baseline model"
   ]
  },
  {
   "cell_type": "code",
   "execution_count": 56,
   "id": "bd898b06",
   "metadata": {},
   "outputs": [
    {
     "data": {
      "text/plain": [
       "1    0.54702\n",
       "0    0.45298\n",
       "Name: subreddit, dtype: float64"
      ]
     },
     "execution_count": 56,
     "metadata": {},
     "output_type": "execute_result"
    }
   ],
   "source": [
    "#The target data is mostly balanced. A null model has an accuracy of 54.7%\n",
    "df['subreddit'].value_counts(normalize=True)"
   ]
  },
  {
   "cell_type": "markdown",
   "id": "db029e7d",
   "metadata": {},
   "source": [
    "#### Cleaning"
   ]
  },
  {
   "cell_type": "markdown",
   "id": "8d13c73d",
   "metadata": {},
   "source": [
    "I Will use code for function to split words, remove stop words, and eliminate inflected forms of a word. <br>\n",
    "I will try both lemmatizing and stemming the words and compare modeling scores."
   ]
  },
  {
   "cell_type": "code",
   "execution_count": 21,
   "id": "24c5d083",
   "metadata": {},
   "outputs": [],
   "source": [
    "# Code to lemmatize and remove stop words. Originally by Katie Sylvia\n",
    "def lem_cleaner(comment):\n",
    "    # Set token & instantiate Lem\n",
    "    lemmatizer = WordNetLemmatizer()\n",
    "    my_tokenizer = RegexpTokenizer(\"[\\w']+|\\$[\\d\\.]+\") \n",
    "\n",
    "    \n",
    "    # split string into a word list in lower case\n",
    "    words = my_tokenizer.tokenize(comment.lower())\n",
    "\n",
    "    # remove stop words from list\n",
    "    stop_word_list = stopwords.words('english')\n",
    "    no_stops = [i for i in words if i not in stop_word_list]\n",
    "\n",
    "    # Lemmatize each word in list \n",
    "    comm_lem = [lemmatizer.lemmatize(i) for i in no_stops]\n",
    "\n",
    "    # Put words back together\n",
    "    return \" \".join(comm_lem)"
   ]
  },
  {
   "cell_type": "code",
   "execution_count": 22,
   "id": "0a29f33a",
   "metadata": {},
   "outputs": [],
   "source": [
    "# Code to stem and remove stop words. Originally by Katie Sylvia\n",
    "def stem_cleaner(comment):\n",
    "    # Set token & instantiate Stem\n",
    "    p_stemmer = PorterStemmer()\n",
    "    my_tokenizer = RegexpTokenizer(\"[\\w']+|\\$[\\d\\.]+\") \n",
    "\n",
    "    \n",
    "    # split string into a word list in lower case\n",
    "    words = my_tokenizer.tokenize(comment.lower())\n",
    "\n",
    "    # remove stop words from list\n",
    "    stop_word_list = stopwords.words('english')\n",
    "    no_stops = [i for i in words if i not in stop_word_list]\n",
    "\n",
    "    # stem each word in list \n",
    "    comm_stem = [p_stemmer.stem(i) for i in no_stops]\n",
    "\n",
    "    # Put words back together\n",
    "    return \" \".join(comm_stem)"
   ]
  },
  {
   "cell_type": "markdown",
   "id": "12efc1f8",
   "metadata": {},
   "source": [
    "The lemmatizer function removes inflected words and and special characters so input data is more useful for modeling as demonstrated below"
   ]
  },
  {
   "cell_type": "code",
   "execution_count": 23,
   "id": "e961e1c2",
   "metadata": {},
   "outputs": [
    {
     "data": {
      "text/plain": [
       "'I don\\'t know the title, but i know that the opening song has the main characters singing about what role they are going to play in an online game or something. A voice suggests a role (tank, healer, DPS, or something) and then they sing \"nai. nai. nai-nai-nai-nai\" 2 or 3 times in a row.\\n\\nIf anybody knows the anime, would very much appreciate a pointer. Thanks in advance!'"
      ]
     },
     "execution_count": 23,
     "metadata": {},
     "output_type": "execute_result"
    }
   ],
   "source": [
    "# text from first post in the dataframe\n",
    "df['selftext'][0]"
   ]
  },
  {
   "cell_type": "code",
   "execution_count": 24,
   "id": "770ccd6b",
   "metadata": {},
   "outputs": [
    {
     "data": {
      "text/plain": [
       "'know title know opening song main character singing role going play online game something voice suggests role tank healer dp something sing nai nai nai nai nai nai 2 3 time row anybody know anime would much appreciate pointer thanks advance'"
      ]
     },
     "execution_count": 24,
     "metadata": {},
     "output_type": "execute_result"
    }
   ],
   "source": [
    "# text from first post after lemmatizer\n",
    "lem_cleaner(df['selftext'][0])"
   ]
  },
  {
   "cell_type": "code",
   "execution_count": 758,
   "id": "c304b240",
   "metadata": {},
   "outputs": [
    {
     "data": {
      "text/plain": [
       "[('anime', 415),\n",
       " ('http', 226),\n",
       " ('watch', 143),\n",
       " ('like', 142),\n",
       " ('one', 110),\n",
       " ('character', 99),\n",
       " ('would', 82),\n",
       " ('show', 78),\n",
       " ('com', 74),\n",
       " ('know', 72)]"
      ]
     },
     "execution_count": 758,
     "metadata": {},
     "output_type": "execute_result"
    }
   ],
   "source": [
    "# 10 most common words in r/anime\n",
    "Counter(\" \".join(df_lem.iloc[0:412,:][\"selftext\"]).split()).most_common(10)"
   ]
  },
  {
   "cell_type": "code",
   "execution_count": 1175,
   "id": "1c8d389b",
   "metadata": {},
   "outputs": [],
   "source": [
    "# variables representint 10 most commin words in r/anime and their frequency\n",
    "anime_words = [word[0] for word in Counter(\" \".join(df_lem.iloc[0:412,:][\"selftext\"]).split()).most_common(10)]\n",
    "anime_counts = [word[1] for word in Counter(\" \".join(df_lem.iloc[0:412,:][\"selftext\"]).split()).most_common(10)]"
   ]
  },
  {
   "cell_type": "code",
   "execution_count": 1176,
   "id": "463bc713",
   "metadata": {},
   "outputs": [
    {
     "data": {
      "image/png": "[encoded data removed]",
      "text/plain": [
       "<Figure size 720x432 with 1 Axes>"
      ]
     },
     "metadata": {
      "needs_background": "light"
     },
     "output_type": "display_data"
    }
   ],
   "source": [
    "# plot of 10 most frequen r/anime words\n",
    "plt.figure(figsize=(10,6))\n",
    "plt.barh(anime_words, sorted(anime_counts))\n",
    "plt.xticks(fontsize=12)\n",
    "plt.yticks(fontsize=15)\n",
    "plt.xlabel('count', fontsize=15)\n",
    "plt.title('10 Most common words in r/anime', fontsize=16);"
   ]
  },
  {
   "cell_type": "code",
   "execution_count": 760,
   "id": "545e3b32",
   "metadata": {},
   "outputs": [
    {
     "data": {
      "text/plain": [
       "[('manga', 251),\n",
       " ('one', 148),\n",
       " ('girl', 141),\n",
       " ('guy', 133),\n",
       " ('know', 125),\n",
       " ('like', 113),\n",
       " ('chapter', 110),\n",
       " ('read', 109),\n",
       " ('remember', 107),\n",
       " ('time', 97)]"
      ]
     },
     "execution_count": 760,
     "metadata": {},
     "output_type": "execute_result"
    }
   ],
   "source": [
    "# 10 most common words in r/manmga\n",
    "Counter(\" \".join(df_lem.iloc[413:754,:][\"selftext\"]).split()).most_common(10)"
   ]
  },
  {
   "cell_type": "code",
   "execution_count": 1177,
   "id": "6fc5a5b3",
   "metadata": {},
   "outputs": [],
   "source": [
    "# variables representint 10 most commin words in r/anime and their frequency\n",
    "manga_words = [word[0] for word in Counter(\" \".join(df_lem.iloc[413:754,:][\"selftext\"]).split()).most_common(10)]\n",
    "manga_counts = [word[1] for word in Counter(\" \".join(df_lem.iloc[413:754,:][\"selftext\"]).split()).most_common(10)]"
   ]
  },
  {
   "cell_type": "code",
   "execution_count": 1173,
   "id": "c29f6a0e",
   "metadata": {},
   "outputs": [
    {
     "data": {
      "image/png": "[encoded data removed]",
      "text/plain": [
       "<Figure size 720x432 with 1 Axes>"
      ]
     },
     "metadata": {
      "needs_background": "light"
     },
     "output_type": "display_data"
    }
   ],
   "source": [
    "plt.figure(figsize=(10,6))\n",
    "plt.barh(manga_words, sorted(manga_counts))\n",
    "plt.xticks(fontsize=12)\n",
    "plt.yticks(fontsize=15)\n",
    "plt.xlabel('count', fontsize=15)\n",
    "plt.title('10 most common words in r/manga', fontsize=16);"
   ]
  },
  {
   "cell_type": "code",
   "execution_count": 1178,
   "id": "bef6681e",
   "metadata": {},
   "outputs": [],
   "source": [
    "# function to return a list of bigrams in a string of text\n",
    "def bigrammer(text):\n",
    "    # split string into a list of words\n",
    "    tl = text.split()\n",
    "    # returns a lit of each successive group of two words from original list\n",
    "    return [tl[i-1] + \" \" + tl[i] for i in range(1,len(tl))]"
   ]
  },
  {
   "cell_type": "code",
   "execution_count": 1179,
   "id": "d9c24a39",
   "metadata": {},
   "outputs": [],
   "source": [
    "# Creates new column called Bigrams with bigrams using the selftext column \n",
    "df_lem['Bigrams'] = (df_lem['title'] + \" \" + df_lem['selftext']).map(bigrammer)"
   ]
  },
  {
   "cell_type": "code",
   "execution_count": 1028,
   "id": "b6f15acc",
   "metadata": {},
   "outputs": [
    {
     "data": {
      "text/html": [
       "<div>\n",
       "<style scoped>\n",
       "    .dataframe tbody tr th:only-of-type {\n",
       "        vertical-align: middle;\n",
       "    }\n",
       "\n",
       "    .dataframe tbody tr th {\n",
       "        vertical-align: top;\n",
       "    }\n",
       "\n",
       "    .dataframe thead th {\n",
       "        text-align: right;\n",
       "    }\n",
       "</style>\n",
       "<table border=\"1\" class=\"dataframe\">\n",
       "  <thead>\n",
       "    <tr style=\"text-align: right;\">\n",
       "      <th></th>\n",
       "      <th>subreddit</th>\n",
       "      <th>selftext</th>\n",
       "      <th>title</th>\n",
       "      <th>Bigrams</th>\n",
       "    </tr>\n",
       "  </thead>\n",
       "  <tbody>\n",
       "    <tr>\n",
       "      <th>0</th>\n",
       "      <td>1</td>\n",
       "      <td>know title know opening song main character si...</td>\n",
       "      <td>looking anime</td>\n",
       "      <td>[looking anime, anime know, know title, title ...</td>\n",
       "    </tr>\n",
       "    <tr>\n",
       "      <th>1</th>\n",
       "      <td>1</td>\n",
       "      <td>usually head character chest</td>\n",
       "      <td>anyone know anime character symbol chest simil...</td>\n",
       "      <td>[anyone know, know anime, anime character, cha...</td>\n",
       "    </tr>\n",
       "    <tr>\n",
       "      <th>2</th>\n",
       "      <td>1</td>\n",
       "      <td>here's mal list reference http myanimelist net...</td>\n",
       "      <td>i'm bored looking anime watch keep going</td>\n",
       "      <td>[i'm bored, bored looking, looking anime, anim...</td>\n",
       "    </tr>\n",
       "    <tr>\n",
       "      <th>3</th>\n",
       "      <td>1</td>\n",
       "      <td>hey guy year ago watched harem anime character...</td>\n",
       "      <td>searching anime</td>\n",
       "      <td>[searching anime, anime hey, hey guy, guy year...</td>\n",
       "    </tr>\n",
       "    <tr>\n",
       "      <th>4</th>\n",
       "      <td>1</td>\n",
       "      <td>dm sumn need</td>\n",
       "      <td>need anime site</td>\n",
       "      <td>[need anime, anime site, site dm, dm sumn, sum...</td>\n",
       "    </tr>\n",
       "  </tbody>\n",
       "</table>\n",
       "</div>"
      ],
      "text/plain": [
       "   subreddit                                           selftext  \\\n",
       "0          1  know title know opening song main character si...   \n",
       "1          1                       usually head character chest   \n",
       "2          1  here's mal list reference http myanimelist net...   \n",
       "3          1  hey guy year ago watched harem anime character...   \n",
       "4          1                                       dm sumn need   \n",
       "\n",
       "                                               title  \\\n",
       "0                                      looking anime   \n",
       "1  anyone know anime character symbol chest simil...   \n",
       "2           i'm bored looking anime watch keep going   \n",
       "3                                    searching anime   \n",
       "4                                    need anime site   \n",
       "\n",
       "                                             Bigrams  \n",
       "0  [looking anime, anime know, know title, title ...  \n",
       "1  [anyone know, know anime, anime character, cha...  \n",
       "2  [i'm bored, bored looking, looking anime, anim...  \n",
       "3  [searching anime, anime hey, hey guy, guy year...  \n",
       "4  [need anime, anime site, site dm, dm sumn, sum...  "
      ]
     },
     "execution_count": 1028,
     "metadata": {},
     "output_type": "execute_result"
    }
   ],
   "source": [
    "df_lem.head()"
   ]
  },
  {
   "cell_type": "code",
   "execution_count": 1037,
   "id": "151ffd20",
   "metadata": {},
   "outputs": [],
   "source": [
    "# code from https://www.geeksforgeeks.org/python-find-most-frequent-element-in-a-list/\n",
    "# finds most frequent occurence of wors in a list of words \n",
    "def most_frequent(List):\n",
    "    occurence_count = Counter(List)\n",
    "    return occurence_count.most_common(1)[0][0]"
   ]
  },
  {
   "cell_type": "code",
   "execution_count": 1046,
   "id": "0d2f8df5",
   "metadata": {},
   "outputs": [],
   "source": [
    "# Creat column of most frequent bigrams\n",
    "df_lem['Most frequent Bigram']=df_lem['Bigrams'].map(most_frequent)"
   ]
  },
  {
   "cell_type": "code",
   "execution_count": 1051,
   "id": "b4490cbc",
   "metadata": {},
   "outputs": [
    {
     "data": {
      "text/plain": [
       "'violet evergarden'"
      ]
     },
     "execution_count": 1051,
     "metadata": {},
     "output_type": "execute_result"
    }
   ],
   "source": [
    "#most common word pair n r/anime\n",
    "most_frequent(df_lem.iloc[0:412,:]['Most frequent Bigram'])"
   ]
  },
  {
   "cell_type": "code",
   "execution_count": 1053,
   "id": "00692c34",
   "metadata": {},
   "outputs": [
    {
     "data": {
      "text/plain": [
       "'manga like'"
      ]
     },
     "execution_count": 1053,
     "metadata": {},
     "output_type": "execute_result"
    }
   ],
   "source": [
    "#most common word pair in r/manga\n",
    "most_frequent(df_lem.iloc[413:754,:]['Most frequent Bigram'])"
   ]
  },
  {
   "cell_type": "code",
   "execution_count": 1070,
   "id": "a991d6e2",
   "metadata": {},
   "outputs": [],
   "source": [
    "# Loop to find most frequen anime bigrams\n",
    "anime_bigrams = []\n",
    "for i in df_lem.iloc[0:412]['Most frequent Bigram']:\n",
    "    anime_bigrams.append(i)\n",
    "    "
   ]
  },
  {
   "cell_type": "code",
   "execution_count": 1071,
   "id": "6d171f0f",
   "metadata": {},
   "outputs": [
    {
     "data": {
      "text/plain": [
       "['nai nai',\n",
       " 'anyone know',\n",
       " \"i'm bored\",\n",
       " 'searching anime',\n",
       " 'need anime',\n",
       " 'spoiled death',\n",
       " 'ridiculously op',\n",
       " 'good yaoi',\n",
       " 'massive crush',\n",
       " \"news 'vampire\",\n",
       " 'lesbian anime',\n",
       " 'love story',\n",
       " 'character progression',\n",
       " 'dont think',\n",
       " 'watch next',\n",
       " 'http myanimelist',\n",
       " 'komi san',\n",
       " 'op mc',\n",
       " 'anime like',\n",
       " 'anime think',\n",
       " 'platform watch',\n",
       " 'new season',\n",
       " 'way watch',\n",
       " 'cowboy bebop',\n",
       " 'mad man',\n",
       " 'sword art',\n",
       " 'noucome episode',\n",
       " 'need help',\n",
       " 'play role',\n",
       " 'suggestion want',\n",
       " 'death note',\n",
       " 'amp x200b',\n",
       " 'attack titan',\n",
       " 'better ruler',\n",
       " 'anime dont',\n",
       " 'baki need',\n",
       " 'anime list',\n",
       " 'better written',\n",
       " 'opinion theme',\n",
       " 'watch aot',\n",
       " 'place universe',\n",
       " 'place universe',\n",
       " 'naruto one',\n",
       " 'anime like',\n",
       " 'watch watched',\n",
       " 'anime de',\n",
       " 'watch watch',\n",
       " 'need seasonal',\n",
       " 'indra ashura',\n",
       " 'help finding',\n",
       " 'thought aquatope',\n",
       " 'finest assassin',\n",
       " 'haikyuu top',\n",
       " \"aot's trailer\",\n",
       " 'using quirk',\n",
       " 'anyone suggestion',\n",
       " 'anime subreddit',\n",
       " 'really fun',\n",
       " 'time got',\n",
       " 'horniest anime',\n",
       " 'shin nakama',\n",
       " 'vandread ed',\n",
       " 'legendary shield',\n",
       " 'opinion violet',\n",
       " 'looking anime',\n",
       " 'com r',\n",
       " 'anime lot',\n",
       " 'rate taste',\n",
       " 'rate anilist',\n",
       " 'tv show',\n",
       " 'badass quote',\n",
       " 'http www',\n",
       " 'akame ga',\n",
       " 'jojo gay',\n",
       " 'anime manga',\n",
       " 'violet evergarden',\n",
       " 'want start',\n",
       " 'hit 300',\n",
       " 'subbed dubbed',\n",
       " 'squid game',\n",
       " 'zero two',\n",
       " 'anime movie',\n",
       " 'really fun',\n",
       " 'time got',\n",
       " 'horniest anime',\n",
       " 'shin nakama',\n",
       " 'vandread ed',\n",
       " 'legendary shield',\n",
       " 'opinion violet',\n",
       " 'looking anime',\n",
       " 'com r',\n",
       " 'anime lot',\n",
       " 'rate taste',\n",
       " 'rate anilist',\n",
       " 'tv show',\n",
       " 'badass quote',\n",
       " 'http www',\n",
       " 'akame ga',\n",
       " 'jojo gay',\n",
       " 'anime manga',\n",
       " 'violet evergarden',\n",
       " 'want start',\n",
       " 'hit 300',\n",
       " 'subbed dubbed',\n",
       " 'squid game',\n",
       " 'zero two',\n",
       " 'anime movie',\n",
       " 'meaning start',\n",
       " 'who anime',\n",
       " 'good suggestion',\n",
       " 'anime recommendation',\n",
       " 'anime character',\n",
       " 'anime computer',\n",
       " 'question anyone',\n",
       " 'violet evergarden',\n",
       " 'good anime',\n",
       " 'saiki k',\n",
       " 'furare girl',\n",
       " 'anime lot',\n",
       " 'rate taste',\n",
       " 'rate anilist',\n",
       " 'tv show',\n",
       " 'badass quote',\n",
       " 'http www',\n",
       " 'akame ga',\n",
       " 'jojo gay',\n",
       " 'anime manga',\n",
       " 'violet evergarden',\n",
       " 'want start',\n",
       " 'hit 300',\n",
       " 'subbed dubbed',\n",
       " 'squid game',\n",
       " 'zero two',\n",
       " 'anime movie',\n",
       " 'meaning start',\n",
       " 'who anime',\n",
       " 'good suggestion',\n",
       " 'anime recommendation',\n",
       " 'anime character',\n",
       " 'anime computer',\n",
       " 'question anyone',\n",
       " 'violet evergarden',\n",
       " 'good anime',\n",
       " 'saiki k',\n",
       " 'furare girl',\n",
       " 'recommend something',\n",
       " 'original japanese',\n",
       " 'otome sensou',\n",
       " 'time got',\n",
       " 'event idea',\n",
       " 'recommend anime',\n",
       " 'mean randomly',\n",
       " 'tv show',\n",
       " 'badass quote',\n",
       " 'http www',\n",
       " 'akame ga',\n",
       " 'jojo gay',\n",
       " 'anime manga',\n",
       " 'violet evergarden',\n",
       " 'want start',\n",
       " 'hit 300',\n",
       " 'subbed dubbed',\n",
       " 'squid game',\n",
       " 'zero two',\n",
       " 'anime movie',\n",
       " 'meaning start',\n",
       " 'who anime',\n",
       " 'good suggestion',\n",
       " 'anime recommendation',\n",
       " 'anime character',\n",
       " 'anime computer',\n",
       " 'question anyone',\n",
       " 'violet evergarden',\n",
       " 'good anime',\n",
       " 'saiki k',\n",
       " 'furare girl',\n",
       " 'recommend something',\n",
       " 'original japanese',\n",
       " 'otome sensou',\n",
       " 'time got',\n",
       " 'event idea',\n",
       " 'recommend anime',\n",
       " 'mean randomly',\n",
       " 'somthing j',\n",
       " 'best way',\n",
       " 'favorite one',\n",
       " 'would anyone',\n",
       " 'dragon ball',\n",
       " 'seeking anime',\n",
       " 'akame ga',\n",
       " 'jojo gay',\n",
       " 'anime manga',\n",
       " 'violet evergarden',\n",
       " 'want start',\n",
       " 'hit 300',\n",
       " 'subbed dubbed',\n",
       " 'squid game',\n",
       " 'zero two',\n",
       " 'anime movie',\n",
       " 'meaning start',\n",
       " 'who anime',\n",
       " 'good suggestion',\n",
       " 'anime recommendation',\n",
       " 'anime character',\n",
       " 'anime computer',\n",
       " 'question anyone',\n",
       " 'violet evergarden',\n",
       " 'good anime',\n",
       " 'saiki k',\n",
       " 'furare girl',\n",
       " 'recommend something',\n",
       " 'original japanese',\n",
       " 'otome sensou',\n",
       " 'time got',\n",
       " 'event idea',\n",
       " 'recommend anime',\n",
       " 'mean randomly',\n",
       " 'somthing j',\n",
       " 'best way',\n",
       " 'favorite one',\n",
       " 'would anyone',\n",
       " 'dragon ball',\n",
       " 'seeking anime',\n",
       " 'nai nai',\n",
       " 'anyone know',\n",
       " \"i'm bored\",\n",
       " 'searching anime',\n",
       " 'need anime',\n",
       " 'spoiled death',\n",
       " 'want start',\n",
       " 'hit 300',\n",
       " 'subbed dubbed',\n",
       " 'squid game',\n",
       " 'zero two',\n",
       " 'anime movie',\n",
       " 'meaning start',\n",
       " 'who anime',\n",
       " 'good suggestion',\n",
       " 'anime recommendation',\n",
       " 'anime character',\n",
       " 'anime computer',\n",
       " 'question anyone',\n",
       " 'violet evergarden',\n",
       " 'good anime',\n",
       " 'saiki k',\n",
       " 'furare girl',\n",
       " 'recommend something',\n",
       " 'original japanese',\n",
       " 'otome sensou',\n",
       " 'time got',\n",
       " 'event idea',\n",
       " 'recommend anime',\n",
       " 'mean randomly',\n",
       " 'somthing j',\n",
       " 'best way',\n",
       " 'favorite one',\n",
       " 'would anyone',\n",
       " 'dragon ball',\n",
       " 'seeking anime',\n",
       " 'nai nai',\n",
       " 'anyone know',\n",
       " \"i'm bored\",\n",
       " 'searching anime',\n",
       " 'need anime',\n",
       " 'spoiled death',\n",
       " 'ridiculously op',\n",
       " 'good yaoi',\n",
       " 'massive crush',\n",
       " \"news 'vampire\",\n",
       " 'lesbian anime',\n",
       " 'love story',\n",
       " 'character progression',\n",
       " 'dont think',\n",
       " 'watch next',\n",
       " 'who anime',\n",
       " 'good suggestion',\n",
       " 'anime recommendation',\n",
       " 'anime character',\n",
       " 'anime computer',\n",
       " 'question anyone',\n",
       " 'violet evergarden',\n",
       " 'good anime',\n",
       " 'saiki k',\n",
       " 'furare girl',\n",
       " 'recommend something',\n",
       " 'original japanese',\n",
       " 'otome sensou',\n",
       " 'time got',\n",
       " 'event idea',\n",
       " 'recommend anime',\n",
       " 'mean randomly',\n",
       " 'somthing j',\n",
       " 'best way',\n",
       " 'favorite one',\n",
       " 'would anyone',\n",
       " 'dragon ball',\n",
       " 'seeking anime',\n",
       " 'nai nai',\n",
       " 'anyone know',\n",
       " \"i'm bored\",\n",
       " 'searching anime',\n",
       " 'need anime',\n",
       " 'spoiled death',\n",
       " 'ridiculously op',\n",
       " 'good yaoi',\n",
       " 'massive crush',\n",
       " \"news 'vampire\",\n",
       " 'lesbian anime',\n",
       " 'love story',\n",
       " 'character progression',\n",
       " 'dont think',\n",
       " 'watch next',\n",
       " 'http myanimelist',\n",
       " 'komi san',\n",
       " 'op mc',\n",
       " 'anime like',\n",
       " 'anime think',\n",
       " 'platform watch',\n",
       " 'new season',\n",
       " 'way watch',\n",
       " 'cowboy bebop',\n",
       " 'mad man',\n",
       " 'anime character',\n",
       " 'anime computer',\n",
       " 'question anyone',\n",
       " 'violet evergarden',\n",
       " 'good anime',\n",
       " 'saiki k',\n",
       " 'furare girl',\n",
       " 'recommend something',\n",
       " 'original japanese',\n",
       " 'otome sensou',\n",
       " 'time got',\n",
       " 'event idea',\n",
       " 'recommend anime',\n",
       " 'mean randomly',\n",
       " 'somthing j',\n",
       " 'best way',\n",
       " 'favorite one',\n",
       " 'would anyone',\n",
       " 'dragon ball',\n",
       " 'seeking anime',\n",
       " 'nai nai',\n",
       " 'anyone know',\n",
       " \"i'm bored\",\n",
       " 'searching anime',\n",
       " 'need anime',\n",
       " 'spoiled death',\n",
       " 'ridiculously op',\n",
       " 'good yaoi',\n",
       " 'massive crush',\n",
       " \"news 'vampire\",\n",
       " 'lesbian anime',\n",
       " 'love story',\n",
       " 'character progression',\n",
       " 'dont think',\n",
       " 'watch next',\n",
       " 'http myanimelist',\n",
       " 'komi san',\n",
       " 'op mc',\n",
       " 'anime like',\n",
       " 'anime think',\n",
       " 'platform watch',\n",
       " 'new season',\n",
       " 'way watch',\n",
       " 'cowboy bebop',\n",
       " 'mad man',\n",
       " 'sword art',\n",
       " 'noucome episode',\n",
       " 'original japanese',\n",
       " 'otome sensou',\n",
       " 'time got',\n",
       " 'event idea',\n",
       " 'recommend anime',\n",
       " 'mean randomly',\n",
       " 'somthing j',\n",
       " 'best way',\n",
       " 'favorite one',\n",
       " 'would anyone',\n",
       " 'dragon ball',\n",
       " 'seeking anime',\n",
       " 'nai nai',\n",
       " 'anyone know',\n",
       " \"i'm bored\",\n",
       " 'searching anime',\n",
       " 'need anime',\n",
       " 'spoiled death',\n",
       " 'ridiculously op',\n",
       " 'good yaoi',\n",
       " 'massive crush',\n",
       " \"news 'vampire\",\n",
       " 'lesbian anime',\n",
       " 'love story',\n",
       " 'character progression',\n",
       " 'dont think',\n",
       " 'watch next',\n",
       " 'http myanimelist',\n",
       " 'komi san',\n",
       " 'op mc',\n",
       " 'anime like',\n",
       " 'anime think',\n",
       " 'platform watch',\n",
       " 'new season',\n",
       " 'way watch',\n",
       " 'cowboy bebop',\n",
       " 'mad man',\n",
       " 'sword art',\n",
       " 'noucome episode',\n",
       " 'need help',\n",
       " 'play role',\n",
       " 'suggestion want',\n",
       " 'death note']"
      ]
     },
     "execution_count": 1071,
     "metadata": {},
     "output_type": "execute_result"
    }
   ],
   "source": [
    "anime_bigrams"
   ]
  },
  {
   "cell_type": "code",
   "execution_count": 1072,
   "id": "4d6a57d2",
   "metadata": {},
   "outputs": [
    {
     "data": {
      "text/plain": [
       "[('violet evergarden', 12),\n",
       " ('time got', 9),\n",
       " ('anime character', 7),\n",
       " ('anime computer', 7),\n",
       " ('question anyone', 7),\n",
       " ('good anime', 7),\n",
       " ('saiki k', 7),\n",
       " ('furare girl', 7),\n",
       " ('original japanese', 7),\n",
       " ('otome sensou', 7)]"
      ]
     },
     "execution_count": 1072,
     "metadata": {},
     "output_type": "execute_result"
    }
   ],
   "source": [
    "#list of tupes of most common anime bigrams and their count\n",
    "c = Counter(anime_bigrams)\n",
    "c.most_common(10)"
   ]
  },
  {
   "cell_type": "code",
   "execution_count": 1073,
   "id": "66b77ed0",
   "metadata": {},
   "outputs": [],
   "source": [
    "#List of all manga most frequen bigrams\n",
    "manga_bigrams = []\n",
    "for i in df_lem.iloc[413:754]['Most frequent Bigram']:\n",
    "    manga_bigrams.append(i)\n",
    "    "
   ]
  },
  {
   "cell_type": "code",
   "execution_count": 1092,
   "id": "5d8fc0a7",
   "metadata": {},
   "outputs": [],
   "source": [
    "c = Counter(anime_bigrams)"
   ]
  },
  {
   "cell_type": "code",
   "execution_count": 1093,
   "id": "a7e7b7ac",
   "metadata": {},
   "outputs": [
    {
     "data": {
      "text/plain": [
       "{'violet evergarden': 12,\n",
       " 'time got': 9,\n",
       " 'anime character': 7,\n",
       " 'anime computer': 7,\n",
       " 'question anyone': 7,\n",
       " 'good anime': 7,\n",
       " 'saiki k': 7,\n",
       " 'furare girl': 7,\n",
       " 'original japanese': 7,\n",
       " 'otome sensou': 7}"
      ]
     },
     "execution_count": 1093,
     "metadata": {},
     "output_type": "execute_result"
    }
   ],
   "source": [
    "#dictionary of anime bigram and frequency\n",
    "a_dict = dict(c.most_common(10))\n",
    "a_dict"
   ]
  },
  {
   "cell_type": "code",
   "execution_count": 1131,
   "id": "b4da0663",
   "metadata": {},
   "outputs": [
    {
     "data": {
      "image/png": "[encoded data removed]",
      "text/plain": [
       "<Figure size 720x432 with 1 Axes>"
      ]
     },
     "metadata": {
      "needs_background": "light"
     },
     "output_type": "display_data"
    }
   ],
   "source": [
    "#plot of anime bigram frequency using dictionary\n",
    "plt.figure(figsize=(10,6))\n",
    "plt.bar(a_dict.keys(), a_dict.values())\n",
    "plt.xticks(rotation=45);"
   ]
  },
  {
   "cell_type": "code",
   "execution_count": null,
   "id": "46735a1f",
   "metadata": {},
   "outputs": [],
   "source": [
    "c = Counter(manga_bigrams)"
   ]
  },
  {
   "cell_type": "code",
   "execution_count": 1080,
   "id": "c343ff2f",
   "metadata": {},
   "outputs": [
    {
     "data": {
      "text/plain": [
       "{'manga like': 17,\n",
       " 'looking manga': 14,\n",
       " 'goth guy': 13,\n",
       " 'anyone know': 10,\n",
       " 'need help': 9,\n",
       " 'help finding': 9,\n",
       " 'open portal': 9,\n",
       " 'manga title': 9,\n",
       " 'specific manga': 8,\n",
       " 'furare girl': 8}"
      ]
     },
     "execution_count": 1080,
     "metadata": {},
     "output_type": "execute_result"
    }
   ],
   "source": [
    "# list of tuples of most common manga bigrams and  frequency\n",
    "m_dict = dict(c.most_common(10))\n",
    "m_dict"
   ]
  },
  {
   "cell_type": "code",
   "execution_count": 1180,
   "id": "7611697a",
   "metadata": {},
   "outputs": [
    {
     "data": {
      "image/png": "[encoded data removed]",
      "text/plain": [
       "<Figure size 720x432 with 1 Axes>"
      ]
     },
     "metadata": {
      "needs_background": "light"
     },
     "output_type": "display_data"
    }
   ],
   "source": [
    "# Plot of manga bigram frequency\n",
    "plt.figure(figsize=(10,6))\n",
    "plt.bar(m_dict.keys(), m_dict.values())\n",
    "plt.xticks(rotation=45);"
   ]
  },
  {
   "cell_type": "markdown",
   "id": "f9cea05f",
   "metadata": {},
   "source": [
    "# Modeling"
   ]
  },
  {
   "cell_type": "code",
   "execution_count": 25,
   "id": "cefa7214",
   "metadata": {},
   "outputs": [],
   "source": [
    "# Function to evaluate accuracy of models using variable, target, word transformer, and an estimator\n",
    "def classifier_test(transformer, classifier, X, y):\n",
    "    # instantiate pipeline using passed text transformer and estimator\n",
    "    pipe = make_pipeline(transformer, classifier)\n",
    "    # Train test split X and y data \n",
    "    X_train, X_test, y_train, y_test = train_test_split(X, y, stratify=y)\n",
    "    # the pipeline is fit to training data.\n",
    "    pipe.fit(X_train, y_train)\n",
    "    # prediction for target using test data\n",
    "    preds = pipe.predict(X_test)\n",
    "    # Accuracy score calculated with score method\n",
    "    Acc = pipe.score(X_test, y_test)\n",
    "    # F1 score calculated\n",
    "    F1 = f1_score(y_test, preds)\n",
    "    # Balanced accuracy is calculated\n",
    "    BA = balanced_accuracy_score(y_test, preds)\n",
    "    # Results are printed and returned to user\n",
    "    return f\"Accuracy is {Acc}, F1 Score is {F1}, Balanced Accuracy is {BA}\"\n",
    "    "
   ]
  },
  {
   "cell_type": "markdown",
   "id": "5a3b887e",
   "metadata": {},
   "source": [
    "Countvectorizer, and Tfidfvecotroizer are used with different classifiers to model and predict the subreddit category\n",
    "using the input text data. <br> the results are calculated and printed using the classifier function using the following 7 classifiers. \n",
    "- Gradient Boost \n",
    "- Bagging \n",
    "- Random Forest \n",
    "- Extra Trees \n",
    "- Naive Bayes \n",
    "- Logistic Regression  \n",
    "\n",
    "I will use a gridsearch to fine-tune the pipeline combination with the highest score. <br>\n",
    "I will evalautes scores using Stemmed, Lemmatized, and uncleaned input data. First I will evaluate models with data cleaned with word stemmer"
   ]
  },
  {
   "cell_type": "markdown",
   "id": "5578ef3e",
   "metadata": {},
   "source": [
    "### Stemmed Data Scores"
   ]
  },
  {
   "cell_type": "markdown",
   "id": "f7f1d02f",
   "metadata": {},
   "source": [
    "---"
   ]
  },
  {
   "cell_type": "code",
   "execution_count": 744,
   "id": "3e6f3b32",
   "metadata": {},
   "outputs": [],
   "source": [
    "# state new dataframe with stemmed words\n",
    "df_stem = df.copy()\n",
    "# apply stemming function to data selftext column\n",
    "df_stem['selftext'] = df_stem['selftext'].map(stem_cleaner)\n",
    "# apply stemming function to data title column\n",
    "df_stem['title'] = df_stem['title'].map(stem_cleaner)"
   ]
  },
  {
   "cell_type": "code",
   "execution_count": 58,
   "id": "d40079fa",
   "metadata": {},
   "outputs": [],
   "source": [
    "# stemmed X data is text in title column plus text in selftext column\n",
    "X_stem = df_stem['title'] + \" \" + df_stem['selftext']\n",
    "# target is which subreddit text originates from, 1 for r/anime, 0 for r/manga\n",
    "y = df['subreddit']"
   ]
  },
  {
   "cell_type": "markdown",
   "id": "658891bb",
   "metadata": {},
   "source": [
    "#### Gradient Boost"
   ]
  },
  {
   "cell_type": "code",
   "execution_count": 44,
   "id": "8ffeafc0",
   "metadata": {},
   "outputs": [
    {
     "data": {
      "text/plain": [
       "'Accuracy is 0.9470899470899471, F1 Score is 0.9523809523809522, Balanced Accuracy is 0.9447392187852788'"
      ]
     },
     "execution_count": 44,
     "metadata": {},
     "output_type": "execute_result"
    }
   ],
   "source": [
    "classifier_test(CountVectorizer(max_features = 1000), GradientBoostingClassifier(), X_stem, y)"
   ]
  },
  {
   "cell_type": "code",
   "execution_count": 45,
   "id": "854d43ab",
   "metadata": {},
   "outputs": [
    {
     "data": {
      "text/plain": [
       "'Accuracy is 0.9788359788359788, F1 Score is 0.9809523809523809, Balanced Accuracy is 0.9767441860465116'"
      ]
     },
     "execution_count": 45,
     "metadata": {},
     "output_type": "execute_result"
    }
   ],
   "source": [
    "classifier_test(TfidfVectorizer(max_features=1000), GradientBoostingClassifier(), X_stem, y)"
   ]
  },
  {
   "cell_type": "markdown",
   "id": "d9a6bcd5",
   "metadata": {},
   "source": [
    "#### Bagging"
   ]
  },
  {
   "cell_type": "code",
   "execution_count": 46,
   "id": "b9beeb1e",
   "metadata": {},
   "outputs": [
    {
     "data": {
      "text/plain": [
       "'Accuracy is 0.9523809523809523, F1 Score is 0.9565217391304348, Balanced Accuracy is 0.9515127568299842'"
      ]
     },
     "execution_count": 46,
     "metadata": {},
     "output_type": "execute_result"
    }
   ],
   "source": [
    "classifier_test(TfidfVectorizer(max_features=1000), BaggingClassifier(n_estimators=1_000), X_stem, y)"
   ]
  },
  {
   "cell_type": "code",
   "execution_count": 47,
   "id": "fab64866",
   "metadata": {},
   "outputs": [
    {
     "data": {
      "text/plain": [
       "'Accuracy is 0.9735449735449735, F1 Score is 0.9751243781094527, Balanced Accuracy is 0.9757281553398058'"
      ]
     },
     "execution_count": 47,
     "metadata": {},
     "output_type": "execute_result"
    }
   ],
   "source": [
    "classifier_test(CountVectorizer(max_features = 1000), BaggingClassifier(n_estimators=1_000), X_stem, y)"
   ]
  },
  {
   "cell_type": "markdown",
   "id": "9213717c",
   "metadata": {},
   "source": [
    "#### Random Forest"
   ]
  },
  {
   "cell_type": "code",
   "execution_count": 48,
   "id": "82696835",
   "metadata": {},
   "outputs": [
    {
     "data": {
      "text/plain": [
       "'Accuracy is 0.9788359788359788, F1 Score is 0.9809523809523809, Balanced Accuracy is 0.9767441860465116'"
      ]
     },
     "execution_count": 48,
     "metadata": {},
     "output_type": "execute_result"
    }
   ],
   "source": [
    "classifier_test(CountVectorizer(max_features = 1000), RandomForestClassifier(), X_stem, y)"
   ]
  },
  {
   "cell_type": "code",
   "execution_count": 49,
   "id": "6abf5bda",
   "metadata": {},
   "outputs": [
    {
     "data": {
      "text/plain": [
       "'Accuracy is 0.9841269841269841, F1 Score is 0.9853658536585367, Balanced Accuracy is 0.9844773086475502'"
      ]
     },
     "execution_count": 49,
     "metadata": {},
     "output_type": "execute_result"
    }
   ],
   "source": [
    "classifier_test(TfidfVectorizer(max_features=1000), RandomForestClassifier(), X_stem, y)"
   ]
  },
  {
   "cell_type": "markdown",
   "id": "a988568b",
   "metadata": {},
   "source": [
    "#### Extra Trees"
   ]
  },
  {
   "cell_type": "code",
   "execution_count": 51,
   "id": "6c402303",
   "metadata": {},
   "outputs": [
    {
     "data": {
      "text/plain": [
       "'Accuracy is 0.9682539682539683, F1 Score is 0.9716981132075472, Balanced Accuracy is 0.9651162790697674'"
      ]
     },
     "execution_count": 51,
     "metadata": {},
     "output_type": "execute_result"
    }
   ],
   "source": [
    "classifier_test(CountVectorizer(max_features = 1000), ExtraTreesClassifier(), X_stem, y)"
   ]
  },
  {
   "cell_type": "code",
   "execution_count": 52,
   "id": "497fbca3",
   "metadata": {},
   "outputs": [
    {
     "data": {
      "text/plain": [
       "'Accuracy is 0.9682539682539683, F1 Score is 0.970873786407767, Balanced Accuracy is 0.9679950327387672'"
      ]
     },
     "execution_count": 52,
     "metadata": {},
     "output_type": "execute_result"
    }
   ],
   "source": [
    "classifier_test(TfidfVectorizer(max_features=1000), ExtraTreesClassifier(), X_stem, y)"
   ]
  },
  {
   "cell_type": "markdown",
   "id": "91a67628",
   "metadata": {},
   "source": [
    "#### Naive Bayes"
   ]
  },
  {
   "cell_type": "code",
   "execution_count": 53,
   "id": "79989b18",
   "metadata": {},
   "outputs": [
    {
     "data": {
      "text/plain": [
       "'Accuracy is 0.9576719576719577, F1 Score is 0.9607843137254902, Balanced Accuracy is 0.9582862948746895'"
      ]
     },
     "execution_count": 53,
     "metadata": {},
     "output_type": "execute_result"
    }
   ],
   "source": [
    "classifier_test(CountVectorizer(max_features = 1000), MultinomialNB(), X_stem, y)"
   ]
  },
  {
   "cell_type": "code",
   "execution_count": 54,
   "id": "7d5dee64",
   "metadata": {},
   "outputs": [
    {
     "data": {
      "text/plain": [
       "'Accuracy is 0.9682539682539683, F1 Score is 0.970873786407767, Balanced Accuracy is 0.9679950327387672'"
      ]
     },
     "execution_count": 54,
     "metadata": {},
     "output_type": "execute_result"
    }
   ],
   "source": [
    "classifier_test(TfidfVectorizer(max_features=1000), MultinomialNB(), X_stem, y)"
   ]
  },
  {
   "cell_type": "markdown",
   "id": "62818551",
   "metadata": {},
   "source": [
    "#### Logistic Regression"
   ]
  },
  {
   "cell_type": "code",
   "execution_count": 55,
   "id": "4b5e265b",
   "metadata": {},
   "outputs": [
    {
     "data": {
      "text/plain": [
       "'Accuracy is 0.9735449735449735, F1 Score is 0.976303317535545, Balanced Accuracy is 0.9709302325581395'"
      ]
     },
     "execution_count": 55,
     "metadata": {},
     "output_type": "execute_result"
    }
   ],
   "source": [
    "classifier_test(CountVectorizer(max_features = 1000), LogisticRegression(), X_stem, y)"
   ]
  },
  {
   "cell_type": "code",
   "execution_count": 56,
   "id": "7a97460d",
   "metadata": {},
   "outputs": [
    {
     "data": {
      "text/plain": [
       "'Accuracy is 0.9788359788359788, F1 Score is 0.9805825242718447, Balanced Accuracy is 0.9786633551591781'"
      ]
     },
     "execution_count": 56,
     "metadata": {},
     "output_type": "execute_result"
    }
   ],
   "source": [
    "classifier_test(TfidfVectorizer(max_features=1000), LogisticRegression(), X_stem, y)"
   ]
  },
  {
   "cell_type": "markdown",
   "id": "2f25e776",
   "metadata": {},
   "source": [
    "### Lemmatized Data"
   ]
  },
  {
   "cell_type": "code",
   "execution_count": 746,
   "id": "32c353da",
   "metadata": {},
   "outputs": [],
   "source": [
    "# state new dataframe with stemmed words\n",
    "df_lem = df.copy()\n",
    "# apply stemming function to data selftext column\n",
    "df_lem['selftext'] = df_lem['selftext'].map(lem_cleaner)\n",
    "# apply stemming function to data title column\n",
    "df_lem['title'] = df_lem['title'].map(lem_cleaner)"
   ]
  },
  {
   "cell_type": "code",
   "execution_count": 60,
   "id": "2ebd4c2c",
   "metadata": {},
   "outputs": [],
   "source": [
    "# Lemmatized X data is text in title column plus text in selftext column\n",
    "X_lem = df_lem['title'] + \" \" + df_lem['selftext']\n",
    "# target is which subreddit text originates from, 1 for r/anime, 0 for r/manga\n",
    "y = df['subreddit']"
   ]
  },
  {
   "cell_type": "markdown",
   "id": "ac43ea76",
   "metadata": {},
   "source": [
    "#### Gradient Boost"
   ]
  },
  {
   "cell_type": "code",
   "execution_count": 62,
   "id": "3e0e86ce",
   "metadata": {},
   "outputs": [
    {
     "data": {
      "text/plain": [
       "'Accuracy is 0.9841269841269841, F1 Score is 0.9855072463768114, Balanced Accuracy is 0.983517724091217'"
      ]
     },
     "execution_count": 62,
     "metadata": {},
     "output_type": "execute_result"
    }
   ],
   "source": [
    "classifier_test(CountVectorizer(max_features = 1000), GradientBoostingClassifier(), X_lem, y)"
   ]
  },
  {
   "cell_type": "code",
   "execution_count": 63,
   "id": "ec3b38b2",
   "metadata": {},
   "outputs": [
    {
     "data": {
      "text/plain": [
       "'Accuracy is 0.9735449735449735, F1 Score is 0.9751243781094527, Balanced Accuracy is 0.9757281553398058'"
      ]
     },
     "execution_count": 63,
     "metadata": {},
     "output_type": "execute_result"
    }
   ],
   "source": [
    "classifier_test(TfidfVectorizer(max_features=1000), GradientBoostingClassifier(), X_lem, y)"
   ]
  },
  {
   "cell_type": "markdown",
   "id": "a804456a",
   "metadata": {},
   "source": [
    "#### Bagging"
   ]
  },
  {
   "cell_type": "code",
   "execution_count": 64,
   "id": "6a5abf72",
   "metadata": {},
   "outputs": [
    {
     "data": {
      "text/plain": [
       "'Accuracy is 0.9629629629629629, F1 Score is 0.966183574879227, Balanced Accuracy is 0.9621810792503951'"
      ]
     },
     "execution_count": 64,
     "metadata": {},
     "output_type": "execute_result"
    }
   ],
   "source": [
    "classifier_test(CountVectorizer(max_features = 1000), BaggingClassifier(), X_lem, y)"
   ]
  },
  {
   "cell_type": "code",
   "execution_count": 65,
   "id": "2e48c3f8",
   "metadata": {},
   "outputs": [
    {
     "data": {
      "text/plain": [
       "'Accuracy is 0.9894179894179894, F1 Score is 0.9902912621359223, Balanced Accuracy is 0.9893316775795891'"
      ]
     },
     "execution_count": 65,
     "metadata": {},
     "output_type": "execute_result"
    }
   ],
   "source": [
    "classifier_test(TfidfVectorizer(max_features=1000), BaggingClassifier(), X_lem, y)"
   ]
  },
  {
   "cell_type": "markdown",
   "id": "048c361b",
   "metadata": {},
   "source": [
    "#### Random Forest"
   ]
  },
  {
   "cell_type": "code",
   "execution_count": 66,
   "id": "744fe315",
   "metadata": {},
   "outputs": [
    {
     "data": {
      "text/plain": [
       "'Accuracy is 0.9682539682539683, F1 Score is 0.9705882352941178, Balanced Accuracy is 0.9689546172951005'"
      ]
     },
     "execution_count": 66,
     "metadata": {},
     "output_type": "execute_result"
    }
   ],
   "source": [
    "classifier_test(CountVectorizer(max_features = 1000), RandomForestClassifier(), X_lem, y)"
   ]
  },
  {
   "cell_type": "code",
   "execution_count": 67,
   "id": "d48f9986",
   "metadata": {},
   "outputs": [
    {
     "data": {
      "text/plain": [
       "'Accuracy is 0.9894179894179894, F1 Score is 0.9901960784313726, Balanced Accuracy is 0.9902912621359223'"
      ]
     },
     "execution_count": 67,
     "metadata": {},
     "output_type": "execute_result"
    }
   ],
   "source": [
    "classifier_test(TfidfVectorizer(max_features=1000), RandomForestClassifier(), X_lem, y)"
   ]
  },
  {
   "cell_type": "markdown",
   "id": "e32bb68f",
   "metadata": {},
   "source": [
    "#### Extra Trees"
   ]
  },
  {
   "cell_type": "code",
   "execution_count": 68,
   "id": "fd6645e6",
   "metadata": {},
   "outputs": [
    {
     "data": {
      "text/plain": [
       "'Accuracy is 0.9788359788359788, F1 Score is 0.9803921568627452, Balanced Accuracy is 0.9796229397155114'"
      ]
     },
     "execution_count": 68,
     "metadata": {},
     "output_type": "execute_result"
    }
   ],
   "source": [
    "classifier_test(CountVectorizer(max_features = 1000), ExtraTreesClassifier(), X_lem, y)"
   ]
  },
  {
   "cell_type": "code",
   "execution_count": 69,
   "id": "611263dc",
   "metadata": {},
   "outputs": [
    {
     "data": {
      "text/plain": [
       "'Accuracy is 0.9629629629629629, F1 Score is 0.9658536585365853, Balanced Accuracy is 0.9631406638067284'"
      ]
     },
     "execution_count": 69,
     "metadata": {},
     "output_type": "execute_result"
    }
   ],
   "source": [
    "classifier_test(TfidfVectorizer(max_features=1000), ExtraTreesClassifier(), X_lem, y)"
   ]
  },
  {
   "cell_type": "markdown",
   "id": "29edb901",
   "metadata": {},
   "source": [
    "#### Naive Bayes"
   ]
  },
  {
   "cell_type": "code",
   "execution_count": 70,
   "id": "2e3c5002",
   "metadata": {},
   "outputs": [
    {
     "data": {
      "text/plain": [
       "'Accuracy is 0.9365079365079365, F1 Score is 0.941747572815534, Balanced Accuracy is 0.9359900654775344'"
      ]
     },
     "execution_count": 70,
     "metadata": {},
     "output_type": "execute_result"
    }
   ],
   "source": [
    "classifier_test(CountVectorizer(max_features = 1000), MultinomialNB(), X_lem, y)"
   ]
  },
  {
   "cell_type": "code",
   "execution_count": 71,
   "id": "2b026828",
   "metadata": {},
   "outputs": [
    {
     "data": {
      "text/plain": [
       "'Accuracy is 0.91005291005291, F1 Score is 0.9186602870813397, Balanced Accuracy is 0.9078798825920072'"
      ]
     },
     "execution_count": 71,
     "metadata": {},
     "output_type": "execute_result"
    }
   ],
   "source": [
    "classifier_test(TfidfVectorizer(max_features=1000), MultinomialNB(), X_lem, y)"
   ]
  },
  {
   "cell_type": "markdown",
   "id": "148727a4",
   "metadata": {},
   "source": [
    "#### Lostistic Regression"
   ]
  },
  {
   "cell_type": "code",
   "execution_count": 72,
   "id": "c4d3c43c",
   "metadata": {},
   "outputs": [
    {
     "data": {
      "text/plain": [
       "'Accuracy is 0.9735449735449735, F1 Score is 0.9753694581280788, Balanced Accuracy is 0.9747685707834726'"
      ]
     },
     "execution_count": 72,
     "metadata": {},
     "output_type": "execute_result"
    }
   ],
   "source": [
    "classifier_test(CountVectorizer(max_features = 1000), LogisticRegression(), X_lem, y)"
   ]
  },
  {
   "cell_type": "code",
   "execution_count": 73,
   "id": "8a9b5c54",
   "metadata": {},
   "outputs": [
    {
     "data": {
      "text/plain": [
       "'Accuracy is 0.9788359788359788, F1 Score is 0.9805825242718447, Balanced Accuracy is 0.9786633551591781'"
      ]
     },
     "execution_count": 73,
     "metadata": {},
     "output_type": "execute_result"
    }
   ],
   "source": [
    "classifier_test(TfidfVectorizer(max_features=1000), LogisticRegression(), X_lem, y)"
   ]
  },
  {
   "cell_type": "markdown",
   "id": "f2cab0e6",
   "metadata": {},
   "source": [
    "### Uncleaned Data"
   ]
  },
  {
   "cell_type": "code",
   "execution_count": 796,
   "id": "821dacf0",
   "metadata": {},
   "outputs": [],
   "source": [
    "# Uncleaned X data is text in title column plus text in selftext column\n",
    "X = df['title'] + \" \" + df['selftext']\n",
    "# target is which subreddit text originates from, 1 for r/anime, 0 for r/manga\n",
    "y = df['subreddit']"
   ]
  },
  {
   "cell_type": "markdown",
   "id": "0f79d0b9",
   "metadata": {},
   "source": [
    "#### Gradient Boost"
   ]
  },
  {
   "cell_type": "code",
   "execution_count": 797,
   "id": "e5d4e91c",
   "metadata": {},
   "outputs": [
    {
     "data": {
      "text/plain": [
       "'Accuracy is 0.9735449735449735, F1 Score is 0.9753694581280788, Balanced Accuracy is 0.9747685707834726'"
      ]
     },
     "execution_count": 797,
     "metadata": {},
     "output_type": "execute_result"
    }
   ],
   "source": [
    "classifier_test(CountVectorizer(max_features = 1000), GradientBoostingClassifier(), X, y)"
   ]
  },
  {
   "cell_type": "code",
   "execution_count": 798,
   "id": "5ecb70eb",
   "metadata": {},
   "outputs": [
    {
     "data": {
      "text/plain": [
       "'Accuracy is 0.9735449735449735, F1 Score is 0.9753694581280788, Balanced Accuracy is 0.9747685707834726'"
      ]
     },
     "execution_count": 798,
     "metadata": {},
     "output_type": "execute_result"
    }
   ],
   "source": [
    "classifier_test(TfidfVectorizer(max_features=1000), GradientBoostingClassifier(), X, y)"
   ]
  },
  {
   "cell_type": "markdown",
   "id": "25b36525",
   "metadata": {},
   "source": [
    "#### Bagging"
   ]
  },
  {
   "cell_type": "code",
   "execution_count": 799,
   "id": "b2bab64d",
   "metadata": {},
   "outputs": [
    {
     "data": {
      "text/plain": [
       "'Accuracy is 0.9788359788359788, F1 Score is 0.9801980198019802, Balanced Accuracy is 0.9805825242718447'"
      ]
     },
     "execution_count": 799,
     "metadata": {},
     "output_type": "execute_result"
    }
   ],
   "source": [
    "classifier_test(CountVectorizer(max_features = 1000), BaggingClassifier(), X, y)"
   ]
  },
  {
   "cell_type": "code",
   "execution_count": 800,
   "id": "0e6f61fc",
   "metadata": {},
   "outputs": [
    {
     "data": {
      "text/plain": [
       "'Accuracy is 0.9841269841269841, F1 Score is 0.9852216748768473, Balanced Accuracy is 0.9854368932038835'"
      ]
     },
     "execution_count": 800,
     "metadata": {},
     "output_type": "execute_result"
    }
   ],
   "source": [
    "classifier_test(TfidfVectorizer(max_features=1000), BaggingClassifier(), X, y)"
   ]
  },
  {
   "cell_type": "markdown",
   "id": "7bb283c4",
   "metadata": {},
   "source": [
    "#### Random Forest"
   ]
  },
  {
   "cell_type": "code",
   "execution_count": 801,
   "id": "bad951e7",
   "metadata": {},
   "outputs": [
    {
     "data": {
      "text/plain": [
       "'Accuracy is 0.9682539682539683, F1 Score is 0.970873786407767, Balanced Accuracy is 0.9679950327387672'"
      ]
     },
     "execution_count": 801,
     "metadata": {},
     "output_type": "execute_result"
    }
   ],
   "source": [
    "classifier_test(CountVectorizer(max_features = 1000), RandomForestClassifier(), X, y)"
   ]
  },
  {
   "cell_type": "code",
   "execution_count": 802,
   "id": "e5fc4647",
   "metadata": {},
   "outputs": [
    {
     "data": {
      "text/plain": [
       "'Accuracy is 0.9682539682539683, F1 Score is 0.970873786407767, Balanced Accuracy is 0.9679950327387672'"
      ]
     },
     "execution_count": 802,
     "metadata": {},
     "output_type": "execute_result"
    }
   ],
   "source": [
    "classifier_test(TfidfVectorizer(max_features=1000), RandomForestClassifier(), X, y)"
   ]
  },
  {
   "cell_type": "markdown",
   "id": "4fbf921b",
   "metadata": {},
   "source": [
    "#### Extra Trees"
   ]
  },
  {
   "cell_type": "code",
   "execution_count": 803,
   "id": "675fe105",
   "metadata": {},
   "outputs": [
    {
     "data": {
      "text/plain": [
       "'Accuracy is 0.9629629629629629, F1 Score is 0.9665071770334929, Balanced Accuracy is 0.9612214946940618'"
      ]
     },
     "execution_count": 803,
     "metadata": {},
     "output_type": "execute_result"
    }
   ],
   "source": [
    "classifier_test(CountVectorizer(max_features = 1000), ExtraTreesClassifier(), X, y)"
   ]
  },
  {
   "cell_type": "code",
   "execution_count": 804,
   "id": "4fd0ec44",
   "metadata": {},
   "outputs": [
    {
     "data": {
      "text/plain": [
       "'Accuracy is 0.9788359788359788, F1 Score is 0.9805825242718447, Balanced Accuracy is 0.9786633551591781'"
      ]
     },
     "execution_count": 804,
     "metadata": {},
     "output_type": "execute_result"
    }
   ],
   "source": [
    "classifier_test(TfidfVectorizer(max_features=1000), ExtraTreesClassifier(), X, y)"
   ]
  },
  {
   "cell_type": "markdown",
   "id": "74407729",
   "metadata": {},
   "source": [
    "#### Naive Bayes"
   ]
  },
  {
   "cell_type": "code",
   "execution_count": 805,
   "id": "20a9e00d",
   "metadata": {},
   "outputs": [
    {
     "data": {
      "text/plain": [
       "'Accuracy is 0.9365079365079365, F1 Score is 0.9433962264150944, Balanced Accuracy is 0.9331113118085347'"
      ]
     },
     "execution_count": 805,
     "metadata": {},
     "output_type": "execute_result"
    }
   ],
   "source": [
    "classifier_test(CountVectorizer(max_features = 1000), MultinomialNB(), X, y)"
   ]
  },
  {
   "cell_type": "code",
   "execution_count": 806,
   "id": "5df88083",
   "metadata": {},
   "outputs": [
    {
     "data": {
      "text/plain": [
       "'Accuracy is 0.9417989417989417, F1 Score is 0.9468599033816425, Balanced Accuracy is 0.9408444344095732'"
      ]
     },
     "execution_count": 806,
     "metadata": {},
     "output_type": "execute_result"
    }
   ],
   "source": [
    "classifier_test(TfidfVectorizer(max_features=1000), MultinomialNB(), X, y)"
   ]
  },
  {
   "cell_type": "markdown",
   "id": "d3347476",
   "metadata": {},
   "source": [
    "#### Lostistic Regression"
   ]
  },
  {
   "cell_type": "code",
   "execution_count": 807,
   "id": "15d2a865",
   "metadata": {},
   "outputs": [
    {
     "data": {
      "text/plain": [
       "'Accuracy is 0.9682539682539683, F1 Score is 0.970873786407767, Balanced Accuracy is 0.9679950327387672'"
      ]
     },
     "execution_count": 807,
     "metadata": {},
     "output_type": "execute_result"
    }
   ],
   "source": [
    "classifier_test(CountVectorizer(max_features = 1000), LogisticRegression(), X, y)"
   ]
  },
  {
   "cell_type": "code",
   "execution_count": 808,
   "id": "a9c5bf62",
   "metadata": {},
   "outputs": [
    {
     "data": {
      "text/plain": [
       "'Accuracy is 0.9735449735449735, F1 Score is 0.975609756097561, Balanced Accuracy is 0.9738089862271393'"
      ]
     },
     "execution_count": 808,
     "metadata": {},
     "output_type": "execute_result"
    }
   ],
   "source": [
    "classifier_test(TfidfVectorizer(max_features=1000), LogisticRegression(), X, y)"
   ]
  },
  {
   "cell_type": "markdown",
   "id": "6c1671b9",
   "metadata": {},
   "source": [
    "## GridSearch"
   ]
  },
  {
   "cell_type": "markdown",
   "id": "eb8430ac",
   "metadata": {},
   "source": [
    "### Extremely Random Trees"
   ]
  },
  {
   "cell_type": "code",
   "execution_count": 1182,
   "id": "e07638d5",
   "metadata": {},
   "outputs": [],
   "source": [
    "# instantiate pipeline for Gridsearch with countvectorizer and extratrees\n",
    "tree_pipe = make_pipeline(CountVectorizer(max_features = 1000), ExtraTreesClassifier())"
   ]
  },
  {
   "cell_type": "code",
   "execution_count": 1183,
   "id": "134d676b",
   "metadata": {},
   "outputs": [],
   "source": [
    "# show paramters to use with gridsearch\n",
    "# tree_pipe.get_params()"
   ]
  },
  {
   "cell_type": "code",
   "execution_count": 1191,
   "id": "99a2ed7f",
   "metadata": {},
   "outputs": [],
   "source": [
    "# train test split on clean data\n",
    "X_train, X_test, y_train, y_test = train_test_split(X, y, stratify=y)"
   ]
  },
  {
   "cell_type": "code",
   "execution_count": 1185,
   "id": "6c3bfc4e",
   "metadata": {},
   "outputs": [],
   "source": [
    "# Hyper-parameter tuning for countevectorizer and extratrees in gridsearch\n",
    "tree_params = { \n",
    "                'countvectorizer__max_df': (0.5, 0.75, 1.0),\n",
    "                'countvectorizer__max_features': (None, 5000, 10000, 50000),\n",
    "                'countvectorizer__stop_words': [None, 'english'],\n",
    "                'extratreesclassifier__n_estimators' : [50, 100, 200],\n",
    "                'extratreesclassifier__max_depth' : [5, 10, 20, None],\n",
    "                'extratreesclassifier__max_features' : ['auto','sqrt','log2'],\n",
    "                'extratreesclassifier__warm_start' : [True, False]\n",
    "}"
   ]
  },
  {
   "cell_type": "code",
   "execution_count": 1186,
   "id": "296110aa",
   "metadata": {},
   "outputs": [],
   "source": [
    "# instantiate grid search for the Extra Trees pipeline, fit and training data, and score on test data\n",
    "gs_tree = GridSearchCV(tree_pipe, tree_params)"
   ]
  },
  {
   "cell_type": "code",
   "execution_count": 1187,
   "id": "eefd39c0",
   "metadata": {},
   "outputs": [
    {
     "data": {
      "text/plain": [
       "GridSearchCV(estimator=Pipeline(steps=[('countvectorizer',\n",
       "                                        CountVectorizer(max_features=1000)),\n",
       "                                       ('extratreesclassifier',\n",
       "                                        ExtraTreesClassifier())]),\n",
       "             param_grid={'countvectorizer__max_df': (0.5, 0.75, 1.0),\n",
       "                         'countvectorizer__max_features': (None, 5000, 10000,\n",
       "                                                           50000),\n",
       "                         'countvectorizer__stop_words': [None, 'english'],\n",
       "                         'extratreesclassifier__max_depth': [5, 10, 20, None],\n",
       "                         'extratreesclassifier__max_features': ['auto', 'sqrt',\n",
       "                                                                'log2'],\n",
       "                         'extratreesclassifier__n_estimators': [50, 100, 200],\n",
       "                         'extratreesclassifier__warm_start': [True, False]})"
      ]
     },
     "execution_count": 1187,
     "metadata": {},
     "output_type": "execute_result"
    }
   ],
   "source": [
    "gs_tree.fit(X_train, y_train)"
   ]
  },
  {
   "cell_type": "code",
   "execution_count": 1192,
   "id": "8a1efa79",
   "metadata": {
    "scrolled": true
   },
   "outputs": [
    {
     "data": {
      "text/plain": [
       "0.9894179894179894"
      ]
     },
     "execution_count": 1192,
     "metadata": {},
     "output_type": "execute_result"
    }
   ],
   "source": [
    "gs_tree.score(X_test, y_test)"
   ]
  },
  {
   "cell_type": "code",
   "execution_count": 1193,
   "id": "a31affb5",
   "metadata": {
    "scrolled": true
   },
   "outputs": [
    {
     "data": {
      "text/plain": [
       "{'countvectorizer__max_df': 0.5,\n",
       " 'countvectorizer__max_features': None,\n",
       " 'countvectorizer__stop_words': 'english',\n",
       " 'extratreesclassifier__max_depth': None,\n",
       " 'extratreesclassifier__max_features': 'auto',\n",
       " 'extratreesclassifier__n_estimators': 50,\n",
       " 'extratreesclassifier__warm_start': False}"
      ]
     },
     "execution_count": 1193,
     "metadata": {},
     "output_type": "execute_result"
    }
   ],
   "source": [
    "# pipeline Hyper-parameters that give best result according to Grid Search\n",
    "gs_tree.best_params_"
   ]
  },
  {
   "cell_type": "code",
   "execution_count": 1194,
   "id": "a685acbe",
   "metadata": {},
   "outputs": [
    {
     "data": {
      "image/png": "[encoded data removed]",
      "text/plain": [
       "<Figure size 504x504 with 2 Axes>"
      ]
     },
     "metadata": {
      "needs_background": "light"
     },
     "output_type": "display_data"
    }
   ],
   "source": [
    "fig, ax = plt.subplots(figsize=(7, 7))\n",
    "ConfusionMatrixDisplay.from_estimator(gs_tree, X_test, y_test, display_labels = ['Manga', 'Anime'], cmap=plt.cm.Blues, ax=ax)\n",
    "plt.title(\"Confusion Matrix Clean Text\")\n",
    "plt.xlabel('Predicted Label', fontsize=16)\n",
    "plt.show()"
   ]
  },
  {
   "cell_type": "markdown",
   "id": "8ce48513",
   "metadata": {},
   "source": [
    "The extra trees model had an accuracy of about 99%. The confusion matrix shows only one false positive and one false negative."
   ]
  },
  {
   "cell_type": "markdown",
   "id": "c8a6868c",
   "metadata": {},
   "source": [
    "### Decision Tree Ensemble"
   ]
  },
  {
   "cell_type": "code",
   "execution_count": 1195,
   "id": "5237b180",
   "metadata": {},
   "outputs": [],
   "source": [
    "# instantiate pipeline for Gridsearch with tfidfvectorizer and baggingclassifier\n",
    "bag_pipe = make_pipeline(TfidfVectorizer(), BaggingClassifier())"
   ]
  },
  {
   "cell_type": "code",
   "execution_count": 1196,
   "id": "4bbc5643",
   "metadata": {},
   "outputs": [],
   "source": [
    "# bag_pipe.get_params()"
   ]
  },
  {
   "cell_type": "code",
   "execution_count": 1205,
   "id": "6e29eaef",
   "metadata": {},
   "outputs": [],
   "source": [
    "X_lem_train, X_lem_test, y_lem_train, y_lem_test = train_test_split(X_lem, y, stratify=y)"
   ]
  },
  {
   "cell_type": "code",
   "execution_count": 1198,
   "id": "6279aff4",
   "metadata": {},
   "outputs": [],
   "source": [
    "# Hyper-parameter tuning for countevectorizer and extratrees in gridsearch\n",
    "bag_params = {'tfidfvectorizer__max_features': [None, 5000, 10000, 50000],\n",
    "              'tfidfvectorizer__ngram_range': [(1, 1), (1, 2), (1, 3)],\n",
    "              'tfidfvectorizer__max_df': [0.5, 0.75, 1.0],\n",
    "              'baggingclassifier__max_samples': [0.5, 0.7, 1.0],\n",
    "              'baggingclassifier__bootstrap_features': [False, True],\n",
    "              'baggingclassifier__max_features': [0.5, 0.7, 1.0],\n",
    "              'baggingclassifier__n_estimators': [2, 5, 10, 20],\n",
    "              'baggingclassifier__warm_start': [True, False]\n",
    "}"
   ]
  },
  {
   "cell_type": "code",
   "execution_count": 1199,
   "id": "3bfd20c8",
   "metadata": {},
   "outputs": [],
   "source": [
    "gs_bag = GridSearchCV(bag_pipe, bag_params)"
   ]
  },
  {
   "cell_type": "code",
   "execution_count": 1200,
   "id": "b52451ea",
   "metadata": {},
   "outputs": [
    {
     "data": {
      "text/plain": [
       "GridSearchCV(estimator=Pipeline(steps=[('tfidfvectorizer', TfidfVectorizer()),\n",
       "                                       ('baggingclassifier',\n",
       "                                        BaggingClassifier())]),\n",
       "             param_grid={'baggingclassifier__bootstrap_features': [False, True],\n",
       "                         'baggingclassifier__max_features': [0.5, 0.7, 1.0],\n",
       "                         'baggingclassifier__max_samples': [0.5, 0.7, 1.0],\n",
       "                         'baggingclassifier__n_estimators': [2, 5, 10, 20],\n",
       "                         'baggingclassifier__warm_start': [True, False],\n",
       "                         'tfidfvectorizer__max_df': [0.5, 0.75, 1.0],\n",
       "                         'tfidfvectorizer__max_features': [None, 5000, 10000,\n",
       "                                                           50000],\n",
       "                         'tfidfvectorizer__ngram_range': [(1, 1), (1, 2),\n",
       "                                                          (1, 3)]})"
      ]
     },
     "execution_count": 1200,
     "metadata": {},
     "output_type": "execute_result"
    }
   ],
   "source": [
    "gs_bag.fit(X_lem_train, y_lem_train)"
   ]
  },
  {
   "cell_type": "code",
   "execution_count": 439,
   "id": "2d0d1fac",
   "metadata": {},
   "outputs": [
    {
     "data": {
      "text/plain": [
       "1.0"
      ]
     },
     "execution_count": 439,
     "metadata": {},
     "output_type": "execute_result"
    }
   ],
   "source": [
    "gs_bag.score(X_lem_test, y_lem_test)"
   ]
  },
  {
   "cell_type": "markdown",
   "id": "6fa7237c",
   "metadata": {},
   "source": [
    "This Grid Search again seems to have no effect or a slightly positive one. The accuracy score is within percentage points of the default hyper-paramter score, however it is the first score of 100% accuracy. "
   ]
  },
  {
   "cell_type": "code",
   "execution_count": 1201,
   "id": "9a25161a",
   "metadata": {},
   "outputs": [
    {
     "data": {
      "text/plain": [
       "{'baggingclassifier__bootstrap_features': True,\n",
       " 'baggingclassifier__max_features': 1.0,\n",
       " 'baggingclassifier__max_samples': 1.0,\n",
       " 'baggingclassifier__n_estimators': 5,\n",
       " 'baggingclassifier__warm_start': True,\n",
       " 'tfidfvectorizer__max_df': 0.75,\n",
       " 'tfidfvectorizer__max_features': 10000,\n",
       " 'tfidfvectorizer__ngram_range': (1, 3)}"
      ]
     },
     "execution_count": 1201,
     "metadata": {},
     "output_type": "execute_result"
    }
   ],
   "source": [
    "# Hyper-paremters found by Grid Search\n",
    "gs_bag.best_params_"
   ]
  },
  {
   "cell_type": "code",
   "execution_count": 438,
   "id": "67cab8bf",
   "metadata": {},
   "outputs": [
    {
     "data": {
      "image/png": "[encoded data removed]",
      "text/plain": [
       "<Figure size 504x504 with 2 Axes>"
      ]
     },
     "metadata": {
      "needs_background": "light"
     },
     "output_type": "display_data"
    }
   ],
   "source": [
    "fig, ax = plt.subplots(figsize=(7, 7))\n",
    "ConfusionMatrixDisplay.from_estimator(gs_bag, X_lem_test, y_test, display_labels = ['Manga', 'Anime'], cmap=plt.cm.Blues, ax=ax)\n",
    "plt.title(\"Confusion Matrix Lemmatized Text\")\n",
    "plt.show()"
   ]
  },
  {
   "cell_type": "markdown",
   "id": "87552751",
   "metadata": {},
   "source": [
    "### Comparison  to Naive Bayes Method"
   ]
  },
  {
   "cell_type": "code",
   "execution_count": 460,
   "id": "356fd9a4",
   "metadata": {},
   "outputs": [],
   "source": [
    "# Pipeline from best naive bayes score from the scoring section\n",
    "NB_pipeline = make_pipeline(TfidfVectorizer(), MultinomialNB())"
   ]
  },
  {
   "cell_type": "code",
   "execution_count": 812,
   "id": "3311ae20",
   "metadata": {},
   "outputs": [],
   "source": [
    "# NB_pipeline.get_params()"
   ]
  },
  {
   "cell_type": "code",
   "execution_count": 462,
   "id": "8de41437",
   "metadata": {},
   "outputs": [],
   "source": [
    "NB_params = {'multinomialnb__alpha' : [0.5, 0.75, 1, 5, 10], \n",
    "             'tfidfvectorizer__ngram_range': [(1,2), (1,2), (1,3)], \n",
    "             'tfidfvectorizer__max_features': [2, 10, 100, 1000],\n",
    "              'tfidfvectorizer__max_df' : [0.5, 0.75, 1, 5, 10]}"
   ]
  },
  {
   "cell_type": "code",
   "execution_count": 463,
   "id": "2c8c2334",
   "metadata": {},
   "outputs": [],
   "source": [
    "gs_NB = GridSearchCV(NB_pipeline, NB_params)"
   ]
  },
  {
   "cell_type": "code",
   "execution_count": 464,
   "id": "52030117",
   "metadata": {},
   "outputs": [],
   "source": [
    "X_stem_train, X_stem_test, y_train, y_test = train_test_split(X_stem, y, stratify=y)"
   ]
  },
  {
   "cell_type": "code",
   "execution_count": 465,
   "id": "24ec8c28",
   "metadata": {},
   "outputs": [
    {
     "data": {
      "text/plain": [
       "GridSearchCV(estimator=Pipeline(steps=[('tfidfvectorizer', TfidfVectorizer()),\n",
       "                                       ('multinomialnb', MultinomialNB())]),\n",
       "             param_grid={'multinomialnb__alpha': [0.5, 0.75, 1, 5, 10],\n",
       "                         'tfidfvectorizer__max_df': [0.5, 0.75, 1, 5, 10],\n",
       "                         'tfidfvectorizer__max_features': [2, 10, 100, 1000],\n",
       "                         'tfidfvectorizer__ngram_range': [(1, 2), (1, 2),\n",
       "                                                          (1, 3)]})"
      ]
     },
     "execution_count": 465,
     "metadata": {},
     "output_type": "execute_result"
    }
   ],
   "source": [
    "gs_NB.fit(X_stem_train, y_train)"
   ]
  },
  {
   "cell_type": "code",
   "execution_count": 466,
   "id": "08b3ab7d",
   "metadata": {},
   "outputs": [
    {
     "data": {
      "text/plain": [
       "0.9523809523809523"
      ]
     },
     "execution_count": 466,
     "metadata": {},
     "output_type": "execute_result"
    }
   ],
   "source": [
    "gs_NB.score(X_stem_test, y_test)"
   ]
  },
  {
   "cell_type": "code",
   "execution_count": 467,
   "id": "67647caf",
   "metadata": {},
   "outputs": [
    {
     "data": {
      "text/plain": [
       "{'multinomialnb__alpha': 5,\n",
       " 'tfidfvectorizer__max_df': 0.5,\n",
       " 'tfidfvectorizer__max_features': 1000,\n",
       " 'tfidfvectorizer__ngram_range': (1, 2)}"
      ]
     },
     "execution_count": 467,
     "metadata": {},
     "output_type": "execute_result"
    }
   ],
   "source": [
    "gs_NB.best_params_"
   ]
  },
  {
   "cell_type": "code",
   "execution_count": 475,
   "id": "983d03e9",
   "metadata": {},
   "outputs": [
    {
     "data": {
      "image/png": "[encoded data removed]",
      "text/plain": [
       "<Figure size 504x504 with 2 Axes>"
      ]
     },
     "metadata": {
      "needs_background": "light"
     },
     "output_type": "display_data"
    }
   ],
   "source": [
    "fig, ax = plt.subplots(figsize=(7, 7))\n",
    "ConfusionMatrixDisplay.from_estimator(gs_NB, X_lem_test, y_lem_test, display_labels = ['Manga', 'Anime'], cmap=plt.cm.Blues, ax=ax)\n",
    "plt.title(\"Confusion Naive Bayes\")\n",
    "plt.show()"
   ]
  },
  {
   "cell_type": "code",
   "execution_count": 1181,
   "id": "9e8b8b9b",
   "metadata": {},
   "outputs": [],
   "source": [
    "# Speend comparison"
   ]
  },
  {
   "cell_type": "markdown",
   "id": "0d1f2b85",
   "metadata": {},
   "source": [
    "# Data Analysis"
   ]
  },
  {
   "cell_type": "code",
   "execution_count": 981,
   "id": "e8b5d87e",
   "metadata": {},
   "outputs": [],
   "source": [
    "log_pipe = make_pipeline(TfidfVectorizer(max_features = 10000, ngram_range=(2, 2)), LogisticRegression())"
   ]
  },
  {
   "cell_type": "code",
   "execution_count": 982,
   "id": "c175c0df",
   "metadata": {},
   "outputs": [
    {
     "data": {
      "text/plain": [
       "Pipeline(steps=[('tfidfvectorizer',\n",
       "                 TfidfVectorizer(max_features=10000, ngram_range=(2, 2))),\n",
       "                ('logisticregression', LogisticRegression())])"
      ]
     },
     "execution_count": 982,
     "metadata": {},
     "output_type": "execute_result"
    }
   ],
   "source": [
    "log_pipe.fit(X_train, y_train)\n",
    "\n",
    "log_pipe.score(X_test, y_test)\n",
    "\n",
    "coefs = log_pipe['logisticregression'].coef_\n",
    "\n",
    "bigram_coefs = pd.DataFrame({'words': log_pipe['tfidfvectorizer'].get_feature_names_out(), 'coef': coefs[0]}).sort_values(by= 'coef')\n",
    "bigram_coefs"
   ]
  },
  {
   "cell_type": "code",
   "execution_count": 1001,
   "id": "e62311aa",
   "metadata": {},
   "outputs": [
    {
     "data": {
      "text/html": [
       "<div>\n",
       "<style scoped>\n",
       "    .dataframe tbody tr th:only-of-type {\n",
       "        vertical-align: middle;\n",
       "    }\n",
       "\n",
       "    .dataframe tbody tr th {\n",
       "        vertical-align: top;\n",
       "    }\n",
       "\n",
       "    .dataframe thead th {\n",
       "        text-align: right;\n",
       "    }\n",
       "</style>\n",
       "<table border=\"1\" class=\"dataframe\">\n",
       "  <thead>\n",
       "    <tr style=\"text-align: right;\">\n",
       "      <th></th>\n",
       "      <th>words</th>\n",
       "      <th>coef</th>\n",
       "    </tr>\n",
       "  </thead>\n",
       "  <tbody>\n",
       "    <tr>\n",
       "      <th>671</th>\n",
       "      <td>anime where</td>\n",
       "      <td>0.491792</td>\n",
       "    </tr>\n",
       "    <tr>\n",
       "      <th>4743</th>\n",
       "      <td>myanimelist net</td>\n",
       "      <td>0.502537</td>\n",
       "    </tr>\n",
       "    <tr>\n",
       "      <th>3323</th>\n",
       "      <td>https myanimelist</td>\n",
       "      <td>0.502537</td>\n",
       "    </tr>\n",
       "    <tr>\n",
       "      <th>3389</th>\n",
       "      <td>if you</td>\n",
       "      <td>0.510540</td>\n",
       "    </tr>\n",
       "    <tr>\n",
       "      <th>3328</th>\n",
       "      <td>https www</td>\n",
       "      <td>0.527191</td>\n",
       "    </tr>\n",
       "    <tr>\n",
       "      <th>3476</th>\n",
       "      <td>in the</td>\n",
       "      <td>0.527477</td>\n",
       "    </tr>\n",
       "    <tr>\n",
       "      <th>6295</th>\n",
       "      <td>should watch</td>\n",
       "      <td>0.611981</td>\n",
       "    </tr>\n",
       "    <tr>\n",
       "      <th>7888</th>\n",
       "      <td>violet evergarden</td>\n",
       "      <td>0.724012</td>\n",
       "    </tr>\n",
       "    <tr>\n",
       "      <th>352</th>\n",
       "      <td>an anime</td>\n",
       "      <td>1.019690</td>\n",
       "    </tr>\n",
       "    <tr>\n",
       "      <th>7617</th>\n",
       "      <td>to watch</td>\n",
       "      <td>1.388300</td>\n",
       "    </tr>\n",
       "  </tbody>\n",
       "</table>\n",
       "</div>"
      ],
      "text/plain": [
       "                  words      coef\n",
       "671         anime where  0.491792\n",
       "4743    myanimelist net  0.502537\n",
       "3323  https myanimelist  0.502537\n",
       "3389             if you  0.510540\n",
       "3328          https www  0.527191\n",
       "3476             in the  0.527477\n",
       "6295       should watch  0.611981\n",
       "7888  violet evergarden  0.724012\n",
       "352            an anime  1.019690\n",
       "7617           to watch  1.388300"
      ]
     },
     "execution_count": 1001,
     "metadata": {},
     "output_type": "execute_result"
    }
   ],
   "source": [
    "bigram_coefs.iloc[-10:, :]"
   ]
  },
  {
   "cell_type": "code",
   "execution_count": 1169,
   "id": "a7c63aa3",
   "metadata": {},
   "outputs": [
    {
     "data": {
      "image/png": "[encoded data removed]",
      "text/plain": [
       "<Figure size 720x504 with 1 Axes>"
      ]
     },
     "metadata": {
      "needs_background": "light"
     },
     "output_type": "display_data"
    }
   ],
   "source": [
    "plt.figure(figsize=(10,7))\n",
    "plt.xticks(fontsize=12)\n",
    "plt.yticks(fontsize=15)\n",
    "plt.xlabel('Coefficient', fontsize=15)\n",
    "plt.barh(bigram_coefs.iloc[:10, :]['words'], sorted(bigram_coefs.iloc[:10, :]['coef']*-1))\n",
    "plt.title(\"Manga Bigram Coefficients\", fontsize=15);"
   ]
  },
  {
   "cell_type": "code",
   "execution_count": 1170,
   "id": "e004b27f",
   "metadata": {
    "scrolled": true
   },
   "outputs": [
    {
     "data": {
      "image/png": "[encoded data removed]",
      "text/plain": [
       "<Figure size 720x504 with 1 Axes>"
      ]
     },
     "metadata": {
      "needs_background": "light"
     },
     "output_type": "display_data"
    }
   ],
   "source": [
    "plt.figure(figsize=(10,7))\n",
    "plt.xticks(fontsize=12)\n",
    "plt.yticks(fontsize=15)\n",
    "plt.xlabel('Coefficient', fontsize=15)\n",
    "plt.barh(bigram_coefs.iloc[-10:, :]['words'], bigram_coefs.iloc[-10:, :]['coef'])\n",
    "plt.title(\"Anime Bigram Coefficients\", fontsize=15);"
   ]
  },
  {
   "cell_type": "code",
   "execution_count": 827,
   "id": "685a7888",
   "metadata": {
    "scrolled": true
   },
   "outputs": [
    {
     "data": {
      "text/html": [
       "<div>\n",
       "<style scoped>\n",
       "    .dataframe tbody tr th:only-of-type {\n",
       "        vertical-align: middle;\n",
       "    }\n",
       "\n",
       "    .dataframe tbody tr th {\n",
       "        vertical-align: top;\n",
       "    }\n",
       "\n",
       "    .dataframe thead th {\n",
       "        text-align: right;\n",
       "    }\n",
       "</style>\n",
       "<table border=\"1\" class=\"dataframe\">\n",
       "  <thead>\n",
       "    <tr style=\"text-align: right;\">\n",
       "      <th></th>\n",
       "      <th>016 forgot</th>\n",
       "      <th>29 https</th>\n",
       "      <th>37987 anilist</th>\n",
       "      <th>41450 anime</th>\n",
       "      <th>4xjqqrqtghy https</th>\n",
       "      <th>500 anime</th>\n",
       "      <th>81193214 information</th>\n",
       "      <th>90s ideas</th>\n",
       "      <th>absolutely destroyed</th>\n",
       "      <th>abuser girl</th>\n",
       "      <th>...</th>\n",
       "      <th>yesterday saying</th>\n",
       "      <th>yggdrasil pact</th>\n",
       "      <th>younger loved</th>\n",
       "      <th>youpoll 66183</th>\n",
       "      <th>youtu 4xjqqrqtghy</th>\n",
       "      <th>youtube channel</th>\n",
       "      <th>youtube com</th>\n",
       "      <th>zero 016</th>\n",
       "      <th>zero overrated</th>\n",
       "      <th>zombies definitely</th>\n",
       "    </tr>\n",
       "  </thead>\n",
       "  <tbody>\n",
       "    <tr>\n",
       "      <th>0</th>\n",
       "      <td>0.0</td>\n",
       "      <td>0.0</td>\n",
       "      <td>0.0</td>\n",
       "      <td>0.0</td>\n",
       "      <td>0.000000</td>\n",
       "      <td>0.000000</td>\n",
       "      <td>0.0</td>\n",
       "      <td>0.0</td>\n",
       "      <td>0.0</td>\n",
       "      <td>0.0</td>\n",
       "      <td>...</td>\n",
       "      <td>0.0</td>\n",
       "      <td>0.0</td>\n",
       "      <td>0.0</td>\n",
       "      <td>0.0</td>\n",
       "      <td>0.000000</td>\n",
       "      <td>0.0</td>\n",
       "      <td>0.000000</td>\n",
       "      <td>0.0</td>\n",
       "      <td>0.0</td>\n",
       "      <td>0.000000</td>\n",
       "    </tr>\n",
       "    <tr>\n",
       "      <th>1</th>\n",
       "      <td>0.0</td>\n",
       "      <td>0.0</td>\n",
       "      <td>0.0</td>\n",
       "      <td>0.0</td>\n",
       "      <td>0.000000</td>\n",
       "      <td>0.000000</td>\n",
       "      <td>0.0</td>\n",
       "      <td>0.0</td>\n",
       "      <td>0.0</td>\n",
       "      <td>0.0</td>\n",
       "      <td>...</td>\n",
       "      <td>0.0</td>\n",
       "      <td>0.0</td>\n",
       "      <td>0.0</td>\n",
       "      <td>0.0</td>\n",
       "      <td>0.000000</td>\n",
       "      <td>0.0</td>\n",
       "      <td>0.000000</td>\n",
       "      <td>0.0</td>\n",
       "      <td>0.0</td>\n",
       "      <td>0.167176</td>\n",
       "    </tr>\n",
       "    <tr>\n",
       "      <th>2</th>\n",
       "      <td>0.0</td>\n",
       "      <td>0.0</td>\n",
       "      <td>0.0</td>\n",
       "      <td>0.0</td>\n",
       "      <td>0.000000</td>\n",
       "      <td>0.000000</td>\n",
       "      <td>0.0</td>\n",
       "      <td>0.0</td>\n",
       "      <td>0.0</td>\n",
       "      <td>0.0</td>\n",
       "      <td>...</td>\n",
       "      <td>0.0</td>\n",
       "      <td>0.0</td>\n",
       "      <td>0.0</td>\n",
       "      <td>0.0</td>\n",
       "      <td>0.000000</td>\n",
       "      <td>0.0</td>\n",
       "      <td>0.000000</td>\n",
       "      <td>0.0</td>\n",
       "      <td>0.0</td>\n",
       "      <td>0.000000</td>\n",
       "    </tr>\n",
       "    <tr>\n",
       "      <th>3</th>\n",
       "      <td>0.0</td>\n",
       "      <td>0.0</td>\n",
       "      <td>0.0</td>\n",
       "      <td>0.0</td>\n",
       "      <td>0.000000</td>\n",
       "      <td>0.000000</td>\n",
       "      <td>0.0</td>\n",
       "      <td>0.0</td>\n",
       "      <td>0.0</td>\n",
       "      <td>0.0</td>\n",
       "      <td>...</td>\n",
       "      <td>0.0</td>\n",
       "      <td>0.0</td>\n",
       "      <td>0.0</td>\n",
       "      <td>0.0</td>\n",
       "      <td>0.000000</td>\n",
       "      <td>0.0</td>\n",
       "      <td>0.000000</td>\n",
       "      <td>0.0</td>\n",
       "      <td>0.0</td>\n",
       "      <td>0.000000</td>\n",
       "    </tr>\n",
       "    <tr>\n",
       "      <th>4</th>\n",
       "      <td>0.0</td>\n",
       "      <td>0.0</td>\n",
       "      <td>0.0</td>\n",
       "      <td>0.0</td>\n",
       "      <td>0.000000</td>\n",
       "      <td>0.000000</td>\n",
       "      <td>0.0</td>\n",
       "      <td>0.0</td>\n",
       "      <td>0.0</td>\n",
       "      <td>0.0</td>\n",
       "      <td>...</td>\n",
       "      <td>0.0</td>\n",
       "      <td>0.0</td>\n",
       "      <td>0.0</td>\n",
       "      <td>0.0</td>\n",
       "      <td>0.000000</td>\n",
       "      <td>0.0</td>\n",
       "      <td>0.000000</td>\n",
       "      <td>0.0</td>\n",
       "      <td>0.0</td>\n",
       "      <td>0.000000</td>\n",
       "    </tr>\n",
       "    <tr>\n",
       "      <th>...</th>\n",
       "      <td>...</td>\n",
       "      <td>...</td>\n",
       "      <td>...</td>\n",
       "      <td>...</td>\n",
       "      <td>...</td>\n",
       "      <td>...</td>\n",
       "      <td>...</td>\n",
       "      <td>...</td>\n",
       "      <td>...</td>\n",
       "      <td>...</td>\n",
       "      <td>...</td>\n",
       "      <td>...</td>\n",
       "      <td>...</td>\n",
       "      <td>...</td>\n",
       "      <td>...</td>\n",
       "      <td>...</td>\n",
       "      <td>...</td>\n",
       "      <td>...</td>\n",
       "      <td>...</td>\n",
       "      <td>...</td>\n",
       "      <td>...</td>\n",
       "    </tr>\n",
       "    <tr>\n",
       "      <th>561</th>\n",
       "      <td>0.0</td>\n",
       "      <td>0.0</td>\n",
       "      <td>0.0</td>\n",
       "      <td>0.0</td>\n",
       "      <td>0.000000</td>\n",
       "      <td>0.000000</td>\n",
       "      <td>0.0</td>\n",
       "      <td>0.0</td>\n",
       "      <td>0.0</td>\n",
       "      <td>0.0</td>\n",
       "      <td>...</td>\n",
       "      <td>0.0</td>\n",
       "      <td>0.0</td>\n",
       "      <td>0.0</td>\n",
       "      <td>0.0</td>\n",
       "      <td>0.000000</td>\n",
       "      <td>0.0</td>\n",
       "      <td>0.528037</td>\n",
       "      <td>0.0</td>\n",
       "      <td>0.0</td>\n",
       "      <td>0.000000</td>\n",
       "    </tr>\n",
       "    <tr>\n",
       "      <th>562</th>\n",
       "      <td>0.0</td>\n",
       "      <td>0.0</td>\n",
       "      <td>0.0</td>\n",
       "      <td>0.0</td>\n",
       "      <td>0.229416</td>\n",
       "      <td>0.000000</td>\n",
       "      <td>0.0</td>\n",
       "      <td>0.0</td>\n",
       "      <td>0.0</td>\n",
       "      <td>0.0</td>\n",
       "      <td>...</td>\n",
       "      <td>0.0</td>\n",
       "      <td>0.0</td>\n",
       "      <td>0.0</td>\n",
       "      <td>0.0</td>\n",
       "      <td>0.458831</td>\n",
       "      <td>0.0</td>\n",
       "      <td>0.000000</td>\n",
       "      <td>0.0</td>\n",
       "      <td>0.0</td>\n",
       "      <td>0.000000</td>\n",
       "    </tr>\n",
       "    <tr>\n",
       "      <th>563</th>\n",
       "      <td>0.0</td>\n",
       "      <td>0.0</td>\n",
       "      <td>0.0</td>\n",
       "      <td>0.0</td>\n",
       "      <td>0.000000</td>\n",
       "      <td>0.399485</td>\n",
       "      <td>0.0</td>\n",
       "      <td>0.0</td>\n",
       "      <td>0.0</td>\n",
       "      <td>0.0</td>\n",
       "      <td>...</td>\n",
       "      <td>0.0</td>\n",
       "      <td>0.0</td>\n",
       "      <td>0.0</td>\n",
       "      <td>0.0</td>\n",
       "      <td>0.000000</td>\n",
       "      <td>0.0</td>\n",
       "      <td>0.000000</td>\n",
       "      <td>0.0</td>\n",
       "      <td>0.0</td>\n",
       "      <td>0.000000</td>\n",
       "    </tr>\n",
       "    <tr>\n",
       "      <th>564</th>\n",
       "      <td>0.0</td>\n",
       "      <td>0.0</td>\n",
       "      <td>0.0</td>\n",
       "      <td>0.0</td>\n",
       "      <td>0.000000</td>\n",
       "      <td>0.000000</td>\n",
       "      <td>0.0</td>\n",
       "      <td>0.0</td>\n",
       "      <td>0.0</td>\n",
       "      <td>0.0</td>\n",
       "      <td>...</td>\n",
       "      <td>0.0</td>\n",
       "      <td>0.0</td>\n",
       "      <td>0.0</td>\n",
       "      <td>0.0</td>\n",
       "      <td>0.000000</td>\n",
       "      <td>0.0</td>\n",
       "      <td>0.000000</td>\n",
       "      <td>0.0</td>\n",
       "      <td>0.0</td>\n",
       "      <td>0.000000</td>\n",
       "    </tr>\n",
       "    <tr>\n",
       "      <th>565</th>\n",
       "      <td>0.0</td>\n",
       "      <td>0.0</td>\n",
       "      <td>0.0</td>\n",
       "      <td>0.0</td>\n",
       "      <td>0.000000</td>\n",
       "      <td>0.000000</td>\n",
       "      <td>0.0</td>\n",
       "      <td>0.0</td>\n",
       "      <td>0.0</td>\n",
       "      <td>0.0</td>\n",
       "      <td>...</td>\n",
       "      <td>0.0</td>\n",
       "      <td>0.0</td>\n",
       "      <td>0.0</td>\n",
       "      <td>0.0</td>\n",
       "      <td>0.000000</td>\n",
       "      <td>0.0</td>\n",
       "      <td>0.000000</td>\n",
       "      <td>0.0</td>\n",
       "      <td>0.0</td>\n",
       "      <td>0.000000</td>\n",
       "    </tr>\n",
       "  </tbody>\n",
       "</table>\n",
       "<p>566 rows × 1000 columns</p>\n",
       "</div>"
      ],
      "text/plain": [
       "     016 forgot  29 https  37987 anilist  41450 anime  4xjqqrqtghy https  \\\n",
       "0           0.0       0.0            0.0          0.0           0.000000   \n",
       "1           0.0       0.0            0.0          0.0           0.000000   \n",
       "2           0.0       0.0            0.0          0.0           0.000000   \n",
       "3           0.0       0.0            0.0          0.0           0.000000   \n",
       "4           0.0       0.0            0.0          0.0           0.000000   \n",
       "..          ...       ...            ...          ...                ...   \n",
       "561         0.0       0.0            0.0          0.0           0.000000   \n",
       "562         0.0       0.0            0.0          0.0           0.229416   \n",
       "563         0.0       0.0            0.0          0.0           0.000000   \n",
       "564         0.0       0.0            0.0          0.0           0.000000   \n",
       "565         0.0       0.0            0.0          0.0           0.000000   \n",
       "\n",
       "     500 anime  81193214 information  90s ideas  absolutely destroyed  \\\n",
       "0     0.000000                   0.0        0.0                   0.0   \n",
       "1     0.000000                   0.0        0.0                   0.0   \n",
       "2     0.000000                   0.0        0.0                   0.0   \n",
       "3     0.000000                   0.0        0.0                   0.0   \n",
       "4     0.000000                   0.0        0.0                   0.0   \n",
       "..         ...                   ...        ...                   ...   \n",
       "561   0.000000                   0.0        0.0                   0.0   \n",
       "562   0.000000                   0.0        0.0                   0.0   \n",
       "563   0.399485                   0.0        0.0                   0.0   \n",
       "564   0.000000                   0.0        0.0                   0.0   \n",
       "565   0.000000                   0.0        0.0                   0.0   \n",
       "\n",
       "     abuser girl  ...  yesterday saying  yggdrasil pact  younger loved  \\\n",
       "0            0.0  ...               0.0             0.0            0.0   \n",
       "1            0.0  ...               0.0             0.0            0.0   \n",
       "2            0.0  ...               0.0             0.0            0.0   \n",
       "3            0.0  ...               0.0             0.0            0.0   \n",
       "4            0.0  ...               0.0             0.0            0.0   \n",
       "..           ...  ...               ...             ...            ...   \n",
       "561          0.0  ...               0.0             0.0            0.0   \n",
       "562          0.0  ...               0.0             0.0            0.0   \n",
       "563          0.0  ...               0.0             0.0            0.0   \n",
       "564          0.0  ...               0.0             0.0            0.0   \n",
       "565          0.0  ...               0.0             0.0            0.0   \n",
       "\n",
       "     youpoll 66183  youtu 4xjqqrqtghy  youtube channel  youtube com  zero 016  \\\n",
       "0              0.0           0.000000              0.0     0.000000       0.0   \n",
       "1              0.0           0.000000              0.0     0.000000       0.0   \n",
       "2              0.0           0.000000              0.0     0.000000       0.0   \n",
       "3              0.0           0.000000              0.0     0.000000       0.0   \n",
       "4              0.0           0.000000              0.0     0.000000       0.0   \n",
       "..             ...                ...              ...          ...       ...   \n",
       "561            0.0           0.000000              0.0     0.528037       0.0   \n",
       "562            0.0           0.458831              0.0     0.000000       0.0   \n",
       "563            0.0           0.000000              0.0     0.000000       0.0   \n",
       "564            0.0           0.000000              0.0     0.000000       0.0   \n",
       "565            0.0           0.000000              0.0     0.000000       0.0   \n",
       "\n",
       "     zero overrated  zombies definitely  \n",
       "0               0.0            0.000000  \n",
       "1               0.0            0.167176  \n",
       "2               0.0            0.000000  \n",
       "3               0.0            0.000000  \n",
       "4               0.0            0.000000  \n",
       "..              ...                 ...  \n",
       "561             0.0            0.000000  \n",
       "562             0.0            0.000000  \n",
       "563             0.0            0.000000  \n",
       "564             0.0            0.000000  \n",
       "565             0.0            0.000000  \n",
       "\n",
       "[566 rows x 1000 columns]"
      ]
     },
     "execution_count": 827,
     "metadata": {},
     "output_type": "execute_result"
    }
   ],
   "source": [
    "bigram_df = pd.DataFrame(b_pipe[0].fit_transform(X_train, y_train).toarray(), columns = b_pipe['tfidfvectorizer'].get_feature_names_out())\n",
    "bigram_df"
   ]
  },
  {
   "cell_type": "markdown",
   "id": "b62cb6d0",
   "metadata": {},
   "source": [
    "Decision tree models give high scores on accuracy. I will use a simple Decision Tree Classifier so I can see how it's sorting data in it's nodes."
   ]
  },
  {
   "cell_type": "code",
   "execution_count": 1140,
   "id": "87018c72",
   "metadata": {},
   "outputs": [],
   "source": [
    "dc_pipe = make_pipeline(CountVectorizer(max_features = 1000), DecisionTreeClassifier())"
   ]
  },
  {
   "cell_type": "code",
   "execution_count": 1141,
   "id": "958f046b",
   "metadata": {},
   "outputs": [
    {
     "data": {
      "text/plain": [
       "Pipeline(steps=[('countvectorizer', CountVectorizer(max_features=1000)),\n",
       "                ('decisiontreeclassifier', DecisionTreeClassifier())])"
      ]
     },
     "execution_count": 1141,
     "metadata": {},
     "output_type": "execute_result"
    }
   ],
   "source": [
    "dc_pipe.fit(X_lem_train, y_train)"
   ]
  },
  {
   "cell_type": "code",
   "execution_count": 1142,
   "id": "61bfa694",
   "metadata": {},
   "outputs": [
    {
     "data": {
      "text/plain": [
       "0.9735449735449735"
      ]
     },
     "execution_count": 1142,
     "metadata": {},
     "output_type": "execute_result"
    }
   ],
   "source": [
    "dc_pipe.score(X_lem_test, y_test)"
   ]
  },
  {
   "cell_type": "code",
   "execution_count": 1152,
   "id": "7ab49a7c",
   "metadata": {},
   "outputs": [
    {
     "data": {
      "text/plain": [
       "Pipeline(steps=[('countvectorizer', CountVectorizer(max_features=1000)),\n",
       "                ('decisiontreeclassifier', DecisionTreeClassifier())])"
      ]
     },
     "execution_count": 1152,
     "metadata": {},
     "output_type": "execute_result"
    }
   ],
   "source": [
    "dc_pipe"
   ]
  },
  {
   "cell_type": "code",
   "execution_count": 1174,
   "id": "e5626c73",
   "metadata": {},
   "outputs": [
    {
     "data": {
      "text/plain": [
       "0.9946996466431095"
      ]
     },
     "execution_count": 1174,
     "metadata": {},
     "output_type": "execute_result"
    }
   ],
   "source": [
    "dc_pipe.score(X_lem_train, y_train)"
   ]
  },
  {
   "cell_type": "code",
   "execution_count": 2,
   "id": "4d8fb6a9",
   "metadata": {},
   "outputs": [
    {
     "ename": "NameError",
     "evalue": "name 'plt' is not defined",
     "output_type": "error",
     "traceback": [
      "\u001b[1;31m---------------------------------------------------------------------------\u001b[0m",
      "\u001b[1;31mNameError\u001b[0m                                 Traceback (most recent call last)",
      "\u001b[1;32m<ipython-input-2-fecc81815ffc>\u001b[0m in \u001b[0;36m<module>\u001b[1;34m\u001b[0m\n\u001b[1;32m----> 1\u001b[1;33m \u001b[0mplt\u001b[0m\u001b[1;33m.\u001b[0m\u001b[0mfigure\u001b[0m\u001b[1;33m(\u001b[0m\u001b[0mfigsize\u001b[0m\u001b[1;33m=\u001b[0m\u001b[1;33m(\u001b[0m\u001b[1;36m25\u001b[0m\u001b[1;33m,\u001b[0m\u001b[1;36m20\u001b[0m\u001b[1;33m)\u001b[0m\u001b[1;33m)\u001b[0m\u001b[1;33m\u001b[0m\u001b[1;33m\u001b[0m\u001b[0m\n\u001b[0m\u001b[0;32m      2\u001b[0m plot_tree(dc_pipe['decisiontreeclassifier'], \n\u001b[0;32m      3\u001b[0m                 \u001b[0mfeature_names\u001b[0m\u001b[1;33m=\u001b[0m\u001b[0mdc_pipe\u001b[0m\u001b[1;33m[\u001b[0m\u001b[1;34m'countvectorizer'\u001b[0m\u001b[1;33m]\u001b[0m\u001b[1;33m.\u001b[0m\u001b[0mget_feature_names_out\u001b[0m\u001b[1;33m(\u001b[0m\u001b[1;33m)\u001b[0m\u001b[1;33m,\u001b[0m\u001b[1;33m\u001b[0m\u001b[1;33m\u001b[0m\u001b[0m\n\u001b[0;32m      4\u001b[0m                 filled=True);\n",
      "\u001b[1;31mNameError\u001b[0m: name 'plt' is not defined"
     ]
    }
   ],
   "source": [
    "plt.figure(figsize=(25,20)) \n",
    "plot_tree(dc_pipe['decisiontreeclassifier'], \n",
    "                feature_names=dc_pipe['countvectorizer'].get_feature_names_out(),  \n",
    "                filled=True);"
   ]
  },
  {
   "cell_type": "markdown",
   "id": "ebf4632b",
   "metadata": {},
   "source": [
    "I will now test the Logistic Regressor Classifier after removing words that making classification easy."
   ]
  },
  {
   "cell_type": "code",
   "execution_count": 1208,
   "id": "04f42eb1",
   "metadata": {},
   "outputs": [],
   "source": [
    "pipe4 = make_pipeline(TfidfVectorizer(), \n",
    "                      BaggingClassifier())"
   ]
  },
  {
   "cell_type": "code",
   "execution_count": 1209,
   "id": "cb242116",
   "metadata": {},
   "outputs": [
    {
     "data": {
      "text/plain": [
       "Pipeline(steps=[('tfidfvectorizer', TfidfVectorizer()),\n",
       "                ('baggingclassifier', BaggingClassifier())])"
      ]
     },
     "execution_count": 1209,
     "metadata": {},
     "output_type": "execute_result"
    }
   ],
   "source": [
    "pipe4.fit(X_lem_train, y_lem_train)"
   ]
  },
  {
   "cell_type": "code",
   "execution_count": 1210,
   "id": "dd1fff1f",
   "metadata": {},
   "outputs": [
    {
     "data": {
      "text/plain": [
       "0.9788359788359788"
      ]
     },
     "execution_count": 1210,
     "metadata": {},
     "output_type": "execute_result"
    }
   ],
   "source": [
    "pipe4.score(X_lem_test, y_lem_test)"
   ]
  },
  {
   "cell_type": "code",
   "execution_count": 1218,
   "id": "48a102a7",
   "metadata": {},
   "outputs": [],
   "source": [
    "# will add 'anime' and 'manga' to stopwords to see accuracy\n",
    "stopwords = nltk.corpus.stopwords.words('english')\n",
    "stopwords.append(['manga', 'anime'])"
   ]
  },
  {
   "cell_type": "code",
   "execution_count": 1219,
   "id": "1430c33e",
   "metadata": {},
   "outputs": [
    {
     "data": {
      "text/html": [
       "<div>\n",
       "<style scoped>\n",
       "    .dataframe tbody tr th:only-of-type {\n",
       "        vertical-align: middle;\n",
       "    }\n",
       "\n",
       "    .dataframe tbody tr th {\n",
       "        vertical-align: top;\n",
       "    }\n",
       "\n",
       "    .dataframe thead th {\n",
       "        text-align: right;\n",
       "    }\n",
       "</style>\n",
       "<table border=\"1\" class=\"dataframe\">\n",
       "  <thead>\n",
       "    <tr style=\"text-align: right;\">\n",
       "      <th></th>\n",
       "      <th>subreddit</th>\n",
       "      <th>selftext</th>\n",
       "      <th>title</th>\n",
       "      <th>Bigrams</th>\n",
       "      <th>Most frequent Bigram</th>\n",
       "    </tr>\n",
       "  </thead>\n",
       "  <tbody>\n",
       "    <tr>\n",
       "      <th>0</th>\n",
       "      <td>1</td>\n",
       "      <td>know title know opening song main character si...</td>\n",
       "      <td>looking anime</td>\n",
       "      <td>[looking anime, anime know, know title, title ...</td>\n",
       "      <td>nai nai</td>\n",
       "    </tr>\n",
       "    <tr>\n",
       "      <th>2</th>\n",
       "      <td>1</td>\n",
       "      <td>here's mal list reference http myanimelist net...</td>\n",
       "      <td>i'm bored looking anime watch keep going</td>\n",
       "      <td>[i'm bored, bored looking, looking anime, anim...</td>\n",
       "      <td>i'm bored</td>\n",
       "    </tr>\n",
       "  </tbody>\n",
       "</table>\n",
       "</div>"
      ],
      "text/plain": [
       "   subreddit                                           selftext  \\\n",
       "0          1  know title know opening song main character si...   \n",
       "2          1  here's mal list reference http myanimelist net...   \n",
       "\n",
       "                                      title  \\\n",
       "0                             looking anime   \n",
       "2  i'm bored looking anime watch keep going   \n",
       "\n",
       "                                             Bigrams Most frequent Bigram  \n",
       "0  [looking anime, anime know, know title, title ...              nai nai  \n",
       "2  [i'm bored, bored looking, looking anime, anim...            i'm bored  "
      ]
     },
     "execution_count": 1219,
     "metadata": {},
     "output_type": "execute_result"
    }
   ],
   "source": [
    "df_lem[df_lem['selftext'].str.contains('anim')].head(2)"
   ]
  },
  {
   "cell_type": "code",
   "execution_count": 1223,
   "id": "35c4cd79",
   "metadata": {},
   "outputs": [
    {
     "data": {
      "text/plain": [
       "<WordListCorpusReader in 'C:\\\\Users\\\\marcj\\\\AppData\\\\Roaming\\\\nltk_data\\\\corpora\\\\stopwords'>"
      ]
     },
     "execution_count": 1223,
     "metadata": {},
     "output_type": "execute_result"
    }
   ],
   "source": [
    "stopwords"
   ]
  },
  {
   "cell_type": "code",
   "execution_count": 1254,
   "id": "966764d7",
   "metadata": {},
   "outputs": [],
   "source": [
    "# Code to lemmatize and remove stop words and anime and manga. Originally by Katie Sylvia\n",
    "def lem_cleaner2(comment):\n",
    "    # Set token & instantiate Lem\n",
    "    lemmatizer = WordNetLemmatizer()\n",
    "    my_tokenizer = RegexpTokenizer(\"[\\w']+|\\$[\\d\\.]+\") \n",
    "\n",
    "    \n",
    "    # split string into a word list in lower case\n",
    "    words = my_tokenizer.tokenize(comment.lower())\n",
    "\n",
    "    # remove stop words and custom words from list\n",
    "    stop_word_list = stopwords.words('english')\n",
    "    extra_words = ['mangazuki', 'mangas','manga','myanimelist','animelist', 'anime']\n",
    "    for i in extra_words:\n",
    "        stop_word_list.append(i)\n",
    "    no_stops = [i for i in words if i not in stop_word_list]\n",
    "\n",
    "    # Lemmatize each word in list \n",
    "    comm_lem = [lemmatizer.lemmatize(i) for i in no_stops]\n",
    "\n",
    "    # Put words back together\n",
    "    return \" \".join(comm_lem)"
   ]
  },
  {
   "cell_type": "code",
   "execution_count": 1247,
   "id": "0b7f58db",
   "metadata": {},
   "outputs": [],
   "source": [
    "df_lem['selftext'] = df_lem['selftext'].map(lem_cleaner2)\n",
    "# apply stemming function to data title column\n",
    "df_lem['title'] = df_lem['title'].map(lem_cleaner2)"
   ]
  },
  {
   "cell_type": "code",
   "execution_count": 1248,
   "id": "a7051e43",
   "metadata": {},
   "outputs": [
    {
     "data": {
      "text/html": [
       "<div>\n",
       "<style scoped>\n",
       "    .dataframe tbody tr th:only-of-type {\n",
       "        vertical-align: middle;\n",
       "    }\n",
       "\n",
       "    .dataframe tbody tr th {\n",
       "        vertical-align: top;\n",
       "    }\n",
       "\n",
       "    .dataframe thead th {\n",
       "        text-align: right;\n",
       "    }\n",
       "</style>\n",
       "<table border=\"1\" class=\"dataframe\">\n",
       "  <thead>\n",
       "    <tr style=\"text-align: right;\">\n",
       "      <th></th>\n",
       "      <th>subreddit</th>\n",
       "      <th>selftext</th>\n",
       "      <th>title</th>\n",
       "      <th>Bigrams</th>\n",
       "      <th>Most frequent Bigram</th>\n",
       "    </tr>\n",
       "  </thead>\n",
       "  <tbody>\n",
       "    <tr>\n",
       "      <th>466</th>\n",
       "      <td>0</td>\n",
       "      <td>hello remember exact plot part contain spoiler...</td>\n",
       "      <td>looking name</td>\n",
       "      <td>[looking manga, manga name, name hello, hello ...</td>\n",
       "      <td>looking manga</td>\n",
       "    </tr>\n",
       "    <tr>\n",
       "      <th>496</th>\n",
       "      <td>0</td>\n",
       "      <td>hello remember exact plot part contain spoiler...</td>\n",
       "      <td>looking name</td>\n",
       "      <td>[looking manga, manga name, name hello, hello ...</td>\n",
       "      <td>looking manga</td>\n",
       "    </tr>\n",
       "    <tr>\n",
       "      <th>512</th>\n",
       "      <td>0</td>\n",
       "      <td>hi saw someone post shueisha thought ask youtu...</td>\n",
       "      <td>shueisha took youtube channel</td>\n",
       "      <td>[shueisha took, took youtube, youtube channel,...</td>\n",
       "      <td>youtube channel</td>\n",
       "    </tr>\n",
       "    <tr>\n",
       "      <th>527</th>\n",
       "      <td>0</td>\n",
       "      <td>hello remember exact plot part contain spoiler...</td>\n",
       "      <td>looking name</td>\n",
       "      <td>[looking manga, manga name, name hello, hello ...</td>\n",
       "      <td>looking manga</td>\n",
       "    </tr>\n",
       "    <tr>\n",
       "      <th>543</th>\n",
       "      <td>0</td>\n",
       "      <td>hi saw someone post shueisha thought ask youtu...</td>\n",
       "      <td>shueisha took youtube channel</td>\n",
       "      <td>[shueisha took, took youtube, youtube channel,...</td>\n",
       "      <td>youtube channel</td>\n",
       "    </tr>\n",
       "    <tr>\n",
       "      <th>555</th>\n",
       "      <td>0</td>\n",
       "      <td>hello remember exact plot part contain spoiler...</td>\n",
       "      <td>looking name</td>\n",
       "      <td>[looking manga, manga name, name hello, hello ...</td>\n",
       "      <td>looking manga</td>\n",
       "    </tr>\n",
       "    <tr>\n",
       "      <th>571</th>\n",
       "      <td>0</td>\n",
       "      <td>hi saw someone post shueisha thought ask youtu...</td>\n",
       "      <td>shueisha took youtube channel</td>\n",
       "      <td>[shueisha took, took youtube, youtube channel,...</td>\n",
       "      <td>youtube channel</td>\n",
       "    </tr>\n",
       "    <tr>\n",
       "      <th>584</th>\n",
       "      <td>0</td>\n",
       "      <td>hello remember exact plot part contain spoiler...</td>\n",
       "      <td>looking name</td>\n",
       "      <td>[looking manga, manga name, name hello, hello ...</td>\n",
       "      <td>looking manga</td>\n",
       "    </tr>\n",
       "    <tr>\n",
       "      <th>600</th>\n",
       "      <td>0</td>\n",
       "      <td>hi saw someone post shueisha thought ask youtu...</td>\n",
       "      <td>shueisha took youtube channel</td>\n",
       "      <td>[shueisha took, took youtube, youtube channel,...</td>\n",
       "      <td>youtube channel</td>\n",
       "    </tr>\n",
       "    <tr>\n",
       "      <th>631</th>\n",
       "      <td>0</td>\n",
       "      <td>hi saw someone post shueisha thought ask youtu...</td>\n",
       "      <td>shueisha took youtube channel</td>\n",
       "      <td>[shueisha took, took youtube, youtube channel,...</td>\n",
       "      <td>youtube channel</td>\n",
       "    </tr>\n",
       "    <tr>\n",
       "      <th>661</th>\n",
       "      <td>0</td>\n",
       "      <td>hi saw someone post shueisha thought ask youtu...</td>\n",
       "      <td>shueisha took youtube channel</td>\n",
       "      <td>[shueisha took, took youtube, youtube channel,...</td>\n",
       "      <td>youtube channel</td>\n",
       "    </tr>\n",
       "    <tr>\n",
       "      <th>690</th>\n",
       "      <td>0</td>\n",
       "      <td>hi saw someone post shueisha thought ask youtu...</td>\n",
       "      <td>shueisha took youtube channel</td>\n",
       "      <td>[shueisha took, took youtube, youtube channel,...</td>\n",
       "      <td>youtube channel</td>\n",
       "    </tr>\n",
       "    <tr>\n",
       "      <th>721</th>\n",
       "      <td>0</td>\n",
       "      <td>hi saw someone post shueisha thought ask youtu...</td>\n",
       "      <td>shueisha took youtube channel</td>\n",
       "      <td>[shueisha took, took youtube, youtube channel,...</td>\n",
       "      <td>youtube channel</td>\n",
       "    </tr>\n",
       "  </tbody>\n",
       "</table>\n",
       "</div>"
      ],
      "text/plain": [
       "     subreddit                                           selftext  \\\n",
       "466          0  hello remember exact plot part contain spoiler...   \n",
       "496          0  hello remember exact plot part contain spoiler...   \n",
       "512          0  hi saw someone post shueisha thought ask youtu...   \n",
       "527          0  hello remember exact plot part contain spoiler...   \n",
       "543          0  hi saw someone post shueisha thought ask youtu...   \n",
       "555          0  hello remember exact plot part contain spoiler...   \n",
       "571          0  hi saw someone post shueisha thought ask youtu...   \n",
       "584          0  hello remember exact plot part contain spoiler...   \n",
       "600          0  hi saw someone post shueisha thought ask youtu...   \n",
       "631          0  hi saw someone post shueisha thought ask youtu...   \n",
       "661          0  hi saw someone post shueisha thought ask youtu...   \n",
       "690          0  hi saw someone post shueisha thought ask youtu...   \n",
       "721          0  hi saw someone post shueisha thought ask youtu...   \n",
       "\n",
       "                             title  \\\n",
       "466                   looking name   \n",
       "496                   looking name   \n",
       "512  shueisha took youtube channel   \n",
       "527                   looking name   \n",
       "543  shueisha took youtube channel   \n",
       "555                   looking name   \n",
       "571  shueisha took youtube channel   \n",
       "584                   looking name   \n",
       "600  shueisha took youtube channel   \n",
       "631  shueisha took youtube channel   \n",
       "661  shueisha took youtube channel   \n",
       "690  shueisha took youtube channel   \n",
       "721  shueisha took youtube channel   \n",
       "\n",
       "                                               Bigrams Most frequent Bigram  \n",
       "466  [looking manga, manga name, name hello, hello ...        looking manga  \n",
       "496  [looking manga, manga name, name hello, hello ...        looking manga  \n",
       "512  [shueisha took, took youtube, youtube channel,...      youtube channel  \n",
       "527  [looking manga, manga name, name hello, hello ...        looking manga  \n",
       "543  [shueisha took, took youtube, youtube channel,...      youtube channel  \n",
       "555  [looking manga, manga name, name hello, hello ...        looking manga  \n",
       "571  [shueisha took, took youtube, youtube channel,...      youtube channel  \n",
       "584  [looking manga, manga name, name hello, hello ...        looking manga  \n",
       "600  [shueisha took, took youtube, youtube channel,...      youtube channel  \n",
       "631  [shueisha took, took youtube, youtube channel,...      youtube channel  \n",
       "661  [shueisha took, took youtube, youtube channel,...      youtube channel  \n",
       "690  [shueisha took, took youtube, youtube channel,...      youtube channel  \n",
       "721  [shueisha took, took youtube, youtube channel,...      youtube channel  "
      ]
     },
     "execution_count": 1248,
     "metadata": {},
     "output_type": "execute_result"
    }
   ],
   "source": [
    "df_lem[df_lem['selftext'].str.contains('manga')]"
   ]
  },
  {
   "cell_type": "code",
   "execution_count": 1249,
   "id": "18a40b08",
   "metadata": {},
   "outputs": [
    {
     "data": {
      "text/html": [
       "<div>\n",
       "<style scoped>\n",
       "    .dataframe tbody tr th:only-of-type {\n",
       "        vertical-align: middle;\n",
       "    }\n",
       "\n",
       "    .dataframe tbody tr th {\n",
       "        vertical-align: top;\n",
       "    }\n",
       "\n",
       "    .dataframe thead th {\n",
       "        text-align: right;\n",
       "    }\n",
       "</style>\n",
       "<table border=\"1\" class=\"dataframe\">\n",
       "  <thead>\n",
       "    <tr style=\"text-align: right;\">\n",
       "      <th></th>\n",
       "      <th>subreddit</th>\n",
       "      <th>selftext</th>\n",
       "      <th>title</th>\n",
       "      <th>Bigrams</th>\n",
       "      <th>Most frequent Bigram</th>\n",
       "    </tr>\n",
       "  </thead>\n",
       "  <tbody>\n",
       "    <tr>\n",
       "      <th>16</th>\n",
       "      <td>1</td>\n",
       "      <td>komi san wa comyushou desu episode 1 alternati...</td>\n",
       "      <td>komi san wa comyushou desu episode 1 discussion</td>\n",
       "      <td>[komi san, san wa, wa comyushou, comyushou des...</td>\n",
       "      <td>komi san</td>\n",
       "    </tr>\n",
       "    <tr>\n",
       "      <th>40</th>\n",
       "      <td>1</td>\n",
       "      <td>episode 13 we'll go another journey someday pr...</td>\n",
       "      <td>sora yori mo tooi basho place universe rewatch...</td>\n",
       "      <td>[sora yori, yori mo, mo tooi, tooi basho, bash...</td>\n",
       "      <td>place universe</td>\n",
       "    </tr>\n",
       "    <tr>\n",
       "      <th>41</th>\n",
       "      <td>1</td>\n",
       "      <td>episode 13 we'll go another journey someday pr...</td>\n",
       "      <td>sora yori mo tooi basho place universe rewatch...</td>\n",
       "      <td>[sora yori, yori mo, mo tooi, tooi basho, bash...</td>\n",
       "      <td>place universe</td>\n",
       "    </tr>\n",
       "    <tr>\n",
       "      <th>51</th>\n",
       "      <td>1</td>\n",
       "      <td>sekai saikou ansatsusha isekai kizoku ni tense...</td>\n",
       "      <td>sekai saikou ansatsusha isekai kizoku ni tense...</td>\n",
       "      <td>[sekai saikou, saikou ansatsusha, ansatsusha i...</td>\n",
       "      <td>finest assassin</td>\n",
       "    </tr>\n",
       "    <tr>\n",
       "      <th>60</th>\n",
       "      <td>1</td>\n",
       "      <td>shin nakama ja nai yuusha party wo oidasareta ...</td>\n",
       "      <td>shin nakama ja nai yuusha party wo oidasareta ...</td>\n",
       "      <td>[shin nakama, nakama ja, ja nai, nai yuusha, y...</td>\n",
       "      <td>shin nakama</td>\n",
       "    </tr>\n",
       "    <tr>\n",
       "      <th>65</th>\n",
       "      <td>1</td>\n",
       "      <td>vote female category http animebracket com r b...</td>\n",
       "      <td>summer 2021 best seiyuu voice actor voice actr...</td>\n",
       "      <td>[summer 2021, 2021 best, best seiyuu, seiyuu v...</td>\n",
       "      <td>com r</td>\n",
       "    </tr>\n",
       "    <tr>\n",
       "      <th>85</th>\n",
       "      <td>1</td>\n",
       "      <td>shin nakama ja nai yuusha party wo oidasareta ...</td>\n",
       "      <td>shin nakama ja nai yuusha party wo oidasareta ...</td>\n",
       "      <td>[shin nakama, nakama ja, ja nai, nai yuusha, y...</td>\n",
       "      <td>shin nakama</td>\n",
       "    </tr>\n",
       "    <tr>\n",
       "      <th>90</th>\n",
       "      <td>1</td>\n",
       "      <td>vote female category http animebracket com r b...</td>\n",
       "      <td>summer 2021 best seiyuu voice actor voice actr...</td>\n",
       "      <td>[summer 2021, 2021 best, best seiyuu, seiyuu v...</td>\n",
       "      <td>com r</td>\n",
       "    </tr>\n",
       "    <tr>\n",
       "      <th>313</th>\n",
       "      <td>1</td>\n",
       "      <td>komi san wa comyushou desu episode 1 alternati...</td>\n",
       "      <td>komi san wa comyushou desu episode 1 discussion</td>\n",
       "      <td>[komi san, san wa, wa comyushou, comyushou des...</td>\n",
       "      <td>komi san</td>\n",
       "    </tr>\n",
       "    <tr>\n",
       "      <th>358</th>\n",
       "      <td>1</td>\n",
       "      <td>komi san wa comyushou desu episode 1 alternati...</td>\n",
       "      <td>komi san wa comyushou desu episode 1 discussion</td>\n",
       "      <td>[komi san, san wa, wa comyushou, comyushou des...</td>\n",
       "      <td>komi san</td>\n",
       "    </tr>\n",
       "    <tr>\n",
       "      <th>397</th>\n",
       "      <td>1</td>\n",
       "      <td>komi san wa comyushou desu episode 1 alternati...</td>\n",
       "      <td>komi san wa comyushou desu episode 1 discussion</td>\n",
       "      <td>[komi san, san wa, wa comyushou, comyushou des...</td>\n",
       "      <td>komi san</td>\n",
       "    </tr>\n",
       "    <tr>\n",
       "      <th>681</th>\n",
       "      <td>0</td>\n",
       "      <td>hi brother like reincarnated slime wanted get ...</td>\n",
       "      <td>reincarnated slime</td>\n",
       "      <td>[reincarnated slime, slime hi, hi brother, bro...</td>\n",
       "      <td>reincarnated slime</td>\n",
       "    </tr>\n",
       "    <tr>\n",
       "      <th>710</th>\n",
       "      <td>0</td>\n",
       "      <td>hi brother like reincarnated slime wanted get ...</td>\n",
       "      <td>reincarnated slime</td>\n",
       "      <td>[reincarnated slime, slime hi, hi brother, bro...</td>\n",
       "      <td>reincarnated slime</td>\n",
       "    </tr>\n",
       "    <tr>\n",
       "      <th>741</th>\n",
       "      <td>0</td>\n",
       "      <td>hi brother like reincarnated slime wanted get ...</td>\n",
       "      <td>reincarnated slime</td>\n",
       "      <td>[reincarnated slime, slime hi, hi brother, bro...</td>\n",
       "      <td>reincarnated slime</td>\n",
       "    </tr>\n",
       "  </tbody>\n",
       "</table>\n",
       "</div>"
      ],
      "text/plain": [
       "     subreddit                                           selftext  \\\n",
       "16           1  komi san wa comyushou desu episode 1 alternati...   \n",
       "40           1  episode 13 we'll go another journey someday pr...   \n",
       "41           1  episode 13 we'll go another journey someday pr...   \n",
       "51           1  sekai saikou ansatsusha isekai kizoku ni tense...   \n",
       "60           1  shin nakama ja nai yuusha party wo oidasareta ...   \n",
       "65           1  vote female category http animebracket com r b...   \n",
       "85           1  shin nakama ja nai yuusha party wo oidasareta ...   \n",
       "90           1  vote female category http animebracket com r b...   \n",
       "313          1  komi san wa comyushou desu episode 1 alternati...   \n",
       "358          1  komi san wa comyushou desu episode 1 alternati...   \n",
       "397          1  komi san wa comyushou desu episode 1 alternati...   \n",
       "681          0  hi brother like reincarnated slime wanted get ...   \n",
       "710          0  hi brother like reincarnated slime wanted get ...   \n",
       "741          0  hi brother like reincarnated slime wanted get ...   \n",
       "\n",
       "                                                 title  \\\n",
       "16     komi san wa comyushou desu episode 1 discussion   \n",
       "40   sora yori mo tooi basho place universe rewatch...   \n",
       "41   sora yori mo tooi basho place universe rewatch...   \n",
       "51   sekai saikou ansatsusha isekai kizoku ni tense...   \n",
       "60   shin nakama ja nai yuusha party wo oidasareta ...   \n",
       "65   summer 2021 best seiyuu voice actor voice actr...   \n",
       "85   shin nakama ja nai yuusha party wo oidasareta ...   \n",
       "90   summer 2021 best seiyuu voice actor voice actr...   \n",
       "313    komi san wa comyushou desu episode 1 discussion   \n",
       "358    komi san wa comyushou desu episode 1 discussion   \n",
       "397    komi san wa comyushou desu episode 1 discussion   \n",
       "681                                 reincarnated slime   \n",
       "710                                 reincarnated slime   \n",
       "741                                 reincarnated slime   \n",
       "\n",
       "                                               Bigrams Most frequent Bigram  \n",
       "16   [komi san, san wa, wa comyushou, comyushou des...             komi san  \n",
       "40   [sora yori, yori mo, mo tooi, tooi basho, bash...       place universe  \n",
       "41   [sora yori, yori mo, mo tooi, tooi basho, bash...       place universe  \n",
       "51   [sekai saikou, saikou ansatsusha, ansatsusha i...      finest assassin  \n",
       "60   [shin nakama, nakama ja, ja nai, nai yuusha, y...          shin nakama  \n",
       "65   [summer 2021, 2021 best, best seiyuu, seiyuu v...                com r  \n",
       "85   [shin nakama, nakama ja, ja nai, nai yuusha, y...          shin nakama  \n",
       "90   [summer 2021, 2021 best, best seiyuu, seiyuu v...                com r  \n",
       "313  [komi san, san wa, wa comyushou, comyushou des...             komi san  \n",
       "358  [komi san, san wa, wa comyushou, comyushou des...             komi san  \n",
       "397  [komi san, san wa, wa comyushou, comyushou des...             komi san  \n",
       "681  [reincarnated slime, slime hi, hi brother, bro...   reincarnated slime  \n",
       "710  [reincarnated slime, slime hi, hi brother, bro...   reincarnated slime  \n",
       "741  [reincarnated slime, slime hi, hi brother, bro...   reincarnated slime  "
      ]
     },
     "execution_count": 1249,
     "metadata": {},
     "output_type": "execute_result"
    }
   ],
   "source": [
    "df_lem[df_lem['selftext'].str.contains('anime')]"
   ]
  },
  {
   "cell_type": "markdown",
   "id": "8dc77b78",
   "metadata": {},
   "source": [
    "results are much less than before words related to anime and manga were removed"
   ]
  },
  {
   "cell_type": "code",
   "execution_count": 1250,
   "id": "ae12c3fa",
   "metadata": {},
   "outputs": [],
   "source": [
    "# Lemmatized X data is text in title column plus text in selftext column\n",
    "X_lem = df_lem['title'] + \" \" + df_lem['selftext']\n",
    "# target is which subreddit text originates from, 1 for r/anime, 0 for r/manga\n",
    "y = df['subreddit']"
   ]
  },
  {
   "cell_type": "code",
   "execution_count": 1251,
   "id": "cca6b161",
   "metadata": {},
   "outputs": [],
   "source": [
    "X_lem_train, X_lem_test, y_lem_train, y_lem_test = train_test_split(X_lem, y, stratify=y)"
   ]
  },
  {
   "cell_type": "code",
   "execution_count": 1252,
   "id": "d71fc57b",
   "metadata": {},
   "outputs": [
    {
     "data": {
      "text/plain": [
       "Pipeline(steps=[('tfidfvectorizer', TfidfVectorizer()),\n",
       "                ('baggingclassifier', BaggingClassifier())])"
      ]
     },
     "execution_count": 1252,
     "metadata": {},
     "output_type": "execute_result"
    }
   ],
   "source": [
    "pipe4.fit(X_lem_train, y_lem_train)"
   ]
  },
  {
   "cell_type": "code",
   "execution_count": 1253,
   "id": "d8c90e2f",
   "metadata": {},
   "outputs": [
    {
     "data": {
      "text/plain": [
       "0.9523809523809523"
      ]
     },
     "execution_count": 1253,
     "metadata": {},
     "output_type": "execute_result"
    }
   ],
   "source": [
    "pipe4.score(X_lem_test, y_lem_test)"
   ]
  },
  {
   "cell_type": "code",
   "execution_count": 1255,
   "id": "3b3cf344",
   "metadata": {},
   "outputs": [
    {
     "data": {
      "text/plain": [
       "0.9576719576719577"
      ]
     },
     "execution_count": 1255,
     "metadata": {},
     "output_type": "execute_result"
    }
   ],
   "source": [
    "log_pipe.fit(X_lem_train, y_lem_train)\n",
    "log_pipe.score(X_lem_test, y_lem_test)"
   ]
  },
  {
   "cell_type": "code",
   "execution_count": 1256,
   "id": "b682ce21",
   "metadata": {},
   "outputs": [
    {
     "data": {
      "text/html": [
       "<div>\n",
       "<style scoped>\n",
       "    .dataframe tbody tr th:only-of-type {\n",
       "        vertical-align: middle;\n",
       "    }\n",
       "\n",
       "    .dataframe tbody tr th {\n",
       "        vertical-align: top;\n",
       "    }\n",
       "\n",
       "    .dataframe thead th {\n",
       "        text-align: right;\n",
       "    }\n",
       "</style>\n",
       "<table border=\"1\" class=\"dataframe\">\n",
       "  <thead>\n",
       "    <tr style=\"text-align: right;\">\n",
       "      <th></th>\n",
       "      <th>words</th>\n",
       "      <th>coef</th>\n",
       "    </tr>\n",
       "  </thead>\n",
       "  <tbody>\n",
       "    <tr>\n",
       "      <th>3557</th>\n",
       "      <td>one volume</td>\n",
       "      <td>-0.787049</td>\n",
       "    </tr>\n",
       "    <tr>\n",
       "      <th>314</th>\n",
       "      <td>anyone know</td>\n",
       "      <td>-0.710332</td>\n",
       "    </tr>\n",
       "    <tr>\n",
       "      <th>1910</th>\n",
       "      <td>girl get</td>\n",
       "      <td>-0.630785</td>\n",
       "    </tr>\n",
       "    <tr>\n",
       "      <th>2312</th>\n",
       "      <td>http youtu</td>\n",
       "      <td>-0.581326</td>\n",
       "    </tr>\n",
       "    <tr>\n",
       "      <th>5889</th>\n",
       "      <td>youtu 4xjqqrqtghy</td>\n",
       "      <td>-0.581326</td>\n",
       "    </tr>\n",
       "    <tr>\n",
       "      <th>...</th>\n",
       "      <td>...</td>\n",
       "      <td>...</td>\n",
       "    </tr>\n",
       "    <tr>\n",
       "      <th>787</th>\n",
       "      <td>character would</td>\n",
       "      <td>0.604223</td>\n",
       "    </tr>\n",
       "    <tr>\n",
       "      <th>5898</th>\n",
       "      <td>zero two</td>\n",
       "      <td>0.623927</td>\n",
       "    </tr>\n",
       "    <tr>\n",
       "      <th>2304</th>\n",
       "      <td>http net</td>\n",
       "      <td>0.698126</td>\n",
       "    </tr>\n",
       "    <tr>\n",
       "      <th>3281</th>\n",
       "      <td>nai nai</td>\n",
       "      <td>0.748579</td>\n",
       "    </tr>\n",
       "    <tr>\n",
       "      <th>5472</th>\n",
       "      <td>violet evergarden</td>\n",
       "      <td>0.860480</td>\n",
       "    </tr>\n",
       "  </tbody>\n",
       "</table>\n",
       "<p>5905 rows × 2 columns</p>\n",
       "</div>"
      ],
      "text/plain": [
       "                  words      coef\n",
       "3557         one volume -0.787049\n",
       "314         anyone know -0.710332\n",
       "1910           girl get -0.630785\n",
       "2312         http youtu -0.581326\n",
       "5889  youtu 4xjqqrqtghy -0.581326\n",
       "...                 ...       ...\n",
       "787     character would  0.604223\n",
       "5898           zero two  0.623927\n",
       "2304           http net  0.698126\n",
       "3281            nai nai  0.748579\n",
       "5472  violet evergarden  0.860480\n",
       "\n",
       "[5905 rows x 2 columns]"
      ]
     },
     "execution_count": 1256,
     "metadata": {},
     "output_type": "execute_result"
    }
   ],
   "source": [
    "coefs = log_pipe['logisticregression'].coef_\n",
    "bigram_coefs = pd.DataFrame({'words': log_pipe['tfidfvectorizer'].get_feature_names_out(), 'coef': coefs[0]}).sort_values(by= 'coef')\n",
    "bigram_coefs"
   ]
  },
  {
   "cell_type": "markdown",
   "id": "5c2b329e",
   "metadata": {},
   "source": [
    "# Results"
   ]
  },
  {
   "cell_type": "markdown",
   "id": "f79245b5",
   "metadata": {},
   "source": [
    "The Average length of a message from r/anime is 270 characters, shorter than the average length from r/manga at 373."
   ]
  },
  {
   "cell_type": "markdown",
   "id": "18a73863",
   "metadata": {},
   "source": [
    "### Scoring Summary\n",
    "\n",
    "The best performers are \n",
    "- Logistic Regression -- CountVectorizer -- Uncleaned words <br>\n",
    "'Accuracy is 0.9894179894179894, F1 Score is 0.9901960784313726, Balanced Accuracy is 0.9902912621359223' \n",
    "\n",
    "\n",
    "- Extra Trees -- CountVectorizer -- Uncleaned words <br>\n",
    "'Accuracy is 0.9841269841269841, F1 Score is 0.9853658536585367, Balanced Accuracy is 0.9844773086475502'\n",
    "\n",
    "\n",
    "- Random Forests -- TfidfVectorizer -- Lemmatized words <br>\n",
    "'Accuracy is 0.9894179894179894, F1 Score is 0.9901960784313726, Balanced Accuracy is 0.9902912621359223'\n",
    "\n",
    "\n",
    "- Bagging -- TfidfVectorizer -- Lemmatized words <br>\n",
    "'Accuracy is 0.9841269841269841, F1 Score is 0.9855072463768114, Balanced Accuracy is 0.983517724091217'"
   ]
  },
  {
   "cell_type": "markdown",
   "id": "bf3f59dd",
   "metadata": {},
   "source": [
    "The only model to reach 100% accuracy used TfidfVectorizer transformer, BaggingClassifier as classifier, and Lemmatized word in X data."
   ]
  },
  {
   "cell_type": "markdown",
   "id": "0ec4b075",
   "metadata": {},
   "source": [
    "The Naive Bayes classifier give a slightly less accurate score on average."
   ]
  },
  {
   "cell_type": "markdown",
   "id": "e9be50ae",
   "metadata": {},
   "source": [
    "Even with the words 'mangazuki', 'mangas', 'manga', 'myanimelist', 'animelist', and 'anime' removed, the BaggingClassifier still has a 95% accuracy."
   ]
  },
  {
   "cell_type": "markdown",
   "id": "8a798ad7",
   "metadata": {},
   "source": [
    "### Evaluation and Conceptual Understanding"
   ]
  },
  {
   "cell_type": "markdown",
   "id": "7c685af6",
   "metadata": {},
   "source": [
    "Posts on r/manga tend to be longer than on r/anime, however r/anime has more posts over 1000 characters. <br>\n",
    "Posts on r/anime are more likely to be very low or very high, whereas on r/manga the length is more smoothly distributed."
   ]
  },
  {
   "cell_type": "markdown",
   "id": "dcba7375",
   "metadata": {},
   "source": [
    "r/anime has bigrams like 'original japanese' and r/manga has 'help finding'. It happens more often on r/manga that someone is looking for a what manga a certain scene or image originates from. Posters on r/anime are more likely to talk about Violet Evergarden or talk about the original japenese dub versus the english dub of an anime. Popular Mangas that have been turned into an anime like Furare Girl are mentioned on both subreddits. "
   ]
  },
  {
   "cell_type": "markdown",
   "id": "8648524f",
   "metadata": {},
   "source": [
    "The GridSearch accuracy score is within a few percentage points of the defualt setting. The Grid Searching doesn't seem to make a significant difference. The accuracy score of the function using just a pipeline fluctuate between .96 and .98, and the GridSearch scores fluctuate between .97 and .99. Stemmed word vs. Lemmatized words vs. unlceaned words are also pretty close withink about .03% of each other."
   ]
  },
  {
   "cell_type": "markdown",
   "id": "60e8849d",
   "metadata": {},
   "source": [
    "After give-away words related to 'anime and 'manga' were removed, the phrases corresponding to r/anime are 'Violet Evergarden', and 'character would'. For r/manga it is 'one volume', and 'anyone know'. Some of these were on the bigram list and show the different sort of questions people tend to ask on the different subreddits. This shows that machine learning classifiers are very good seeing word patterns in text that aren't obvious."
   ]
  },
  {
   "cell_type": "markdown",
   "id": "fd35b5ed",
   "metadata": {},
   "source": [
    "### Conclusion and Reccomendations"
   ]
  },
  {
   "cell_type": "markdown",
   "id": "1f642a9b",
   "metadata": {},
   "source": [
    "Banks and other financial institutions have a lot to gain by automating part of their contract review process. If you start internally developing machine learning software and tailor it to their needs it would be even more accurate than what’s commercially available. A person with expertise in the field still needs to work with these models as they are not perfect, but in the long run they can save money and eliminate some repetitive tasks."
   ]
  }
 ],
 "metadata": {
  "kernelspec": {
   "display_name": "Python 3",
   "language": "python",
   "name": "python3"
  },
  "language_info": {
   "codemirror_mode": {
    "name": "ipython",
    "version": 3
   },
   "file_extension": ".py",
   "mimetype": "text/x-python",
   "name": "python",
   "nbconvert_exporter": "python",
   "pygments_lexer": "ipython3",
   "version": "3.8.8"
  }
 },
 "nbformat": 4,
 "nbformat_minor": 5
}
